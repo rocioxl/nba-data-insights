{
 "metadata": {
  "language_info": {
   "codemirror_mode": {
    "name": "ipython",
    "version": 3
   },
   "file_extension": ".py",
   "mimetype": "text/x-python",
   "name": "python",
   "nbconvert_exporter": "python",
   "pygments_lexer": "ipython3",
   "version": "3.8.5-final"
  },
  "orig_nbformat": 2,
  "kernelspec": {
   "name": "python385jvsc74a57bd045455c5bef6d358c59286561ef15ab5c0f9bf08ba5e8b0f77dc1457ad92939db",
   "display_name": "Python 3.8.5 64-bit ('conda_nba': conda)"
  }
 },
 "nbformat": 4,
 "nbformat_minor": 2,
 "cells": [
  {
   "cell_type": "code",
   "execution_count": 36,
   "metadata": {},
   "outputs": [],
   "source": [
    "import pandas as pd\n",
    "import  os\n",
    "import numpy as np\n",
    "import matplotlib.pyplot as plt\n",
    "\n",
    "%matplotlib inline"
   ]
  },
  {
   "cell_type": "code",
   "execution_count": 37,
   "metadata": {},
   "outputs": [],
   "source": [
    "nba_dataset_dir  = \"../data/nba_dataset\"\n",
    "model_dataset_dir  =  \"../data/model_dataset\"\n",
    "\n",
    "nba_games_dir = f\"{nba_dataset_dir}/games.csv\"\n",
    "nba_games_details_dir = f\"{nba_dataset_dir}/games_details.csv\"\n",
    "nba_ranking_dir = f\"{nba_dataset_dir}/ranking.csv\""
   ]
  },
  {
   "source": [
    "### Extract Ranking Features"
   ],
   "cell_type": "markdown",
   "metadata": {}
  },
  {
   "cell_type": "code",
   "execution_count": 38,
   "metadata": {},
   "outputs": [
    {
     "output_type": "execute_result",
     "data": {
      "text/plain": [
       "           TEAM_ID  LEAGUE_ID  SEASON_ID STANDINGSDATE CONFERENCE       TEAM  \\\n",
       "107382  1610612766          0      22012    2013-04-12       East  Charlotte   \n",
       "64749   1610612757          0      22004    2004-12-15       West   Portland   \n",
       "11648   1610612756          0      22013    2014-08-25       West    Phoenix   \n",
       "\n",
       "         G   W   L  W_PCT HOME_RECORD ROAD_RECORD  RETURNTOPLAY  \n",
       "107382  79  18  61  0.228       12-26        6-35           NaN  \n",
       "64749   21  10  11  0.476         7-3         3-8           NaN  \n",
       "11648   82  48  34  0.585       26-15       22-19           NaN  "
      ],
      "text/html": "<div>\n<style scoped>\n    .dataframe tbody tr th:only-of-type {\n        vertical-align: middle;\n    }\n\n    .dataframe tbody tr th {\n        vertical-align: top;\n    }\n\n    .dataframe thead th {\n        text-align: right;\n    }\n</style>\n<table border=\"1\" class=\"dataframe\">\n  <thead>\n    <tr style=\"text-align: right;\">\n      <th></th>\n      <th>TEAM_ID</th>\n      <th>LEAGUE_ID</th>\n      <th>SEASON_ID</th>\n      <th>STANDINGSDATE</th>\n      <th>CONFERENCE</th>\n      <th>TEAM</th>\n      <th>G</th>\n      <th>W</th>\n      <th>L</th>\n      <th>W_PCT</th>\n      <th>HOME_RECORD</th>\n      <th>ROAD_RECORD</th>\n      <th>RETURNTOPLAY</th>\n    </tr>\n  </thead>\n  <tbody>\n    <tr>\n      <th>107382</th>\n      <td>1610612766</td>\n      <td>0</td>\n      <td>22012</td>\n      <td>2013-04-12</td>\n      <td>East</td>\n      <td>Charlotte</td>\n      <td>79</td>\n      <td>18</td>\n      <td>61</td>\n      <td>0.228</td>\n      <td>12-26</td>\n      <td>6-35</td>\n      <td>NaN</td>\n    </tr>\n    <tr>\n      <th>64749</th>\n      <td>1610612757</td>\n      <td>0</td>\n      <td>22004</td>\n      <td>2004-12-15</td>\n      <td>West</td>\n      <td>Portland</td>\n      <td>21</td>\n      <td>10</td>\n      <td>11</td>\n      <td>0.476</td>\n      <td>7-3</td>\n      <td>3-8</td>\n      <td>NaN</td>\n    </tr>\n    <tr>\n      <th>11648</th>\n      <td>1610612756</td>\n      <td>0</td>\n      <td>22013</td>\n      <td>2014-08-25</td>\n      <td>West</td>\n      <td>Phoenix</td>\n      <td>82</td>\n      <td>48</td>\n      <td>34</td>\n      <td>0.585</td>\n      <td>26-15</td>\n      <td>22-19</td>\n      <td>NaN</td>\n    </tr>\n  </tbody>\n</table>\n</div>"
     },
     "metadata": {},
     "execution_count": 38
    }
   ],
   "source": [
    "rankings_df= pd.read_csv(nba_ranking_dir)\n",
    "rankings_df.sample(3)"
   ]
  },
  {
   "cell_type": "code",
   "execution_count": 39,
   "metadata": {},
   "outputs": [
    {
     "output_type": "stream",
     "name": "stdout",
     "text": [
      "<class 'pandas.core.frame.DataFrame'>\nRangeIndex: 188383 entries, 0 to 188382\nData columns (total 13 columns):\n #   Column         Non-Null Count   Dtype  \n---  ------         --------------   -----  \n 0   TEAM_ID        188383 non-null  int64  \n 1   LEAGUE_ID      188383 non-null  int64  \n 2   SEASON_ID      188383 non-null  int64  \n 3   STANDINGSDATE  188383 non-null  object \n 4   CONFERENCE     188383 non-null  object \n 5   TEAM           188383 non-null  object \n 6   G              188383 non-null  int64  \n 7   W              188383 non-null  int64  \n 8   L              188383 non-null  int64  \n 9   W_PCT          188383 non-null  float64\n 10  HOME_RECORD    188383 non-null  object \n 11  ROAD_RECORD    188383 non-null  object \n 12  RETURNTOPLAY   3990 non-null    float64\ndtypes: float64(2), int64(6), object(5)\nmemory usage: 18.7+ MB\n"
     ]
    }
   ],
   "source": [
    "rankings_df.info()"
   ]
  },
  {
   "cell_type": "code",
   "execution_count": 40,
   "metadata": {},
   "outputs": [],
   "source": [
    "ranking_features = [\n",
    "    \"TEAM_ID\",\n",
    "    \"SEASON_ID\",\n",
    "    \"STANDINGSDATE\",\n",
    "    \"G\",\n",
    "    \"W\",\n",
    "    \"L\",\n",
    "    \"W_PCT\",\n",
    "    \"HOME_RECORD\",\t\n",
    "    \"ROAD_RECORD\"\n",
    "]\n",
    "\n",
    "numerical_ranking_features = [\n",
    "    \"TEAM_ID\",\n",
    "    \"W_PCT\",\n",
    "    \"HOME_RECORD\",\t\n",
    "    \"ROAD_RECORD\"\n",
    "]\n",
    "\n",
    "def format_rankings(ranking, features=ranking_features):\n",
    "    \n",
    "    def format_record(record):\n",
    "        won = int(record[0])\n",
    "        lost = int(record[1])\n",
    "        total = won+lost\n",
    "        if total == 0:\n",
    "            return np.NaN\n",
    "        return won / total\n",
    "\n",
    "    # change home/road record str formats to percents\n",
    "    ranking =  ranking.astype({'HOME_RECORD':str, \"ROAD_RECORD\":str, \"SEASON_ID\":str})\n",
    "    home_wpct = ranking.loc[:,'HOME_RECORD'].str.split('-').apply(format_record)\n",
    "    road_wpct = ranking.loc[:,'ROAD_RECORD'].str.split('-').apply(format_record)\n",
    "    \n",
    "    ranking.loc[:,'HOME_RECORD'] = home_wpct\n",
    "    ranking.loc[:,'ROAD_RECORD'] = road_wpct\n",
    "\n",
    "    # remove first character from SEASON_ID \n",
    "    ranking.loc[:,'SEASON_ID'] = ranking.loc[:,'SEASON_ID'].astype(str).str[1:5]\n",
    "    \n",
    "    return ranking[features]"
   ]
  },
  {
   "cell_type": "code",
   "execution_count": 41,
   "metadata": {},
   "outputs": [
    {
     "output_type": "execute_result",
     "data": {
      "text/plain": [
       "           TEAM_ID SEASON_ID STANDINGSDATE   G   W   L  W_PCT  HOME_RECORD  \\\n",
       "130093  1610612738      2008    2009-02-17  55  44  11  0.800     0.857143   \n",
       "41920   1610612750      2008    2009-02-14  51  17  34  0.333     0.320000   \n",
       "63368   1610612750      2004    2005-03-17  66  33  33  0.500     0.545455   \n",
       "\n",
       "        ROAD_RECORD  \n",
       "130093     0.740741  \n",
       "41920      0.346154  \n",
       "63368      0.454545  "
      ],
      "text/html": "<div>\n<style scoped>\n    .dataframe tbody tr th:only-of-type {\n        vertical-align: middle;\n    }\n\n    .dataframe tbody tr th {\n        vertical-align: top;\n    }\n\n    .dataframe thead th {\n        text-align: right;\n    }\n</style>\n<table border=\"1\" class=\"dataframe\">\n  <thead>\n    <tr style=\"text-align: right;\">\n      <th></th>\n      <th>TEAM_ID</th>\n      <th>SEASON_ID</th>\n      <th>STANDINGSDATE</th>\n      <th>G</th>\n      <th>W</th>\n      <th>L</th>\n      <th>W_PCT</th>\n      <th>HOME_RECORD</th>\n      <th>ROAD_RECORD</th>\n    </tr>\n  </thead>\n  <tbody>\n    <tr>\n      <th>130093</th>\n      <td>1610612738</td>\n      <td>2008</td>\n      <td>2009-02-17</td>\n      <td>55</td>\n      <td>44</td>\n      <td>11</td>\n      <td>0.800</td>\n      <td>0.857143</td>\n      <td>0.740741</td>\n    </tr>\n    <tr>\n      <th>41920</th>\n      <td>1610612750</td>\n      <td>2008</td>\n      <td>2009-02-14</td>\n      <td>51</td>\n      <td>17</td>\n      <td>34</td>\n      <td>0.333</td>\n      <td>0.320000</td>\n      <td>0.346154</td>\n    </tr>\n    <tr>\n      <th>63368</th>\n      <td>1610612750</td>\n      <td>2004</td>\n      <td>2005-03-17</td>\n      <td>66</td>\n      <td>33</td>\n      <td>33</td>\n      <td>0.500</td>\n      <td>0.545455</td>\n      <td>0.454545</td>\n    </tr>\n  </tbody>\n</table>\n</div>"
     },
     "metadata": {},
     "execution_count": 41
    }
   ],
   "source": [
    "rankings_df = format_rankings(rankings_df)\n",
    "rankings_df.dropna(inplace=True)\n",
    "rankings_df.to_csv(f\"{model_dataset_dir}/formated_rankings.csv\", index=False)\n",
    "rankings_df.sample(3)"
   ]
  },
  {
   "source": [
    "### Extract Game Features\n"
   ],
   "cell_type": "markdown",
   "metadata": {}
  },
  {
   "cell_type": "code",
   "execution_count": 42,
   "metadata": {},
   "outputs": [
    {
     "output_type": "execute_result",
     "data": {
      "text/plain": [
       "      GAME_DATE_EST   GAME_ID GAME_STATUS_TEXT  HOME_TEAM_ID  VISITOR_TEAM_ID  \\\n",
       "19392    2017-04-09  21601200            Final    1610612758       1610612745   \n",
       "4647     2012-01-17  21100195            Final    1610612753       1610612766   \n",
       "8191     2009-02-24  20800843            Final    1610612761       1610612750   \n",
       "\n",
       "       SEASON  TEAM_ID_home  PTS_home  FG_PCT_home  FT_PCT_home  ...  \\\n",
       "19392    2016    1610612758     128.0        0.500        0.833  ...   \n",
       "4647     2011    1610612753      96.0        0.462        0.654  ...   \n",
       "8191     2008    1610612761     118.0        0.535        0.952  ...   \n",
       "\n",
       "       AST_home  REB_home  TEAM_ID_away  PTS_away  FG_PCT_away  FT_PCT_away  \\\n",
       "19392      26.0      38.0    1610612745     135.0        0.563        0.871   \n",
       "4647       19.0      42.0    1610612766      89.0        0.468        0.706   \n",
       "8191       34.0      39.0    1610612750     110.0        0.500        0.842   \n",
       "\n",
       "       FG3_PCT_away  AST_away  REB_away  HOME_TEAM_WINS  \n",
       "19392         0.419      26.0      41.0               0  \n",
       "4647          0.294      23.0      36.0               1  \n",
       "8191          0.333      28.0      36.0               1  \n",
       "\n",
       "[3 rows x 21 columns]"
      ],
      "text/html": "<div>\n<style scoped>\n    .dataframe tbody tr th:only-of-type {\n        vertical-align: middle;\n    }\n\n    .dataframe tbody tr th {\n        vertical-align: top;\n    }\n\n    .dataframe thead th {\n        text-align: right;\n    }\n</style>\n<table border=\"1\" class=\"dataframe\">\n  <thead>\n    <tr style=\"text-align: right;\">\n      <th></th>\n      <th>GAME_DATE_EST</th>\n      <th>GAME_ID</th>\n      <th>GAME_STATUS_TEXT</th>\n      <th>HOME_TEAM_ID</th>\n      <th>VISITOR_TEAM_ID</th>\n      <th>SEASON</th>\n      <th>TEAM_ID_home</th>\n      <th>PTS_home</th>\n      <th>FG_PCT_home</th>\n      <th>FT_PCT_home</th>\n      <th>...</th>\n      <th>AST_home</th>\n      <th>REB_home</th>\n      <th>TEAM_ID_away</th>\n      <th>PTS_away</th>\n      <th>FG_PCT_away</th>\n      <th>FT_PCT_away</th>\n      <th>FG3_PCT_away</th>\n      <th>AST_away</th>\n      <th>REB_away</th>\n      <th>HOME_TEAM_WINS</th>\n    </tr>\n  </thead>\n  <tbody>\n    <tr>\n      <th>19392</th>\n      <td>2017-04-09</td>\n      <td>21601200</td>\n      <td>Final</td>\n      <td>1610612758</td>\n      <td>1610612745</td>\n      <td>2016</td>\n      <td>1610612758</td>\n      <td>128.0</td>\n      <td>0.500</td>\n      <td>0.833</td>\n      <td>...</td>\n      <td>26.0</td>\n      <td>38.0</td>\n      <td>1610612745</td>\n      <td>135.0</td>\n      <td>0.563</td>\n      <td>0.871</td>\n      <td>0.419</td>\n      <td>26.0</td>\n      <td>41.0</td>\n      <td>0</td>\n    </tr>\n    <tr>\n      <th>4647</th>\n      <td>2012-01-17</td>\n      <td>21100195</td>\n      <td>Final</td>\n      <td>1610612753</td>\n      <td>1610612766</td>\n      <td>2011</td>\n      <td>1610612753</td>\n      <td>96.0</td>\n      <td>0.462</td>\n      <td>0.654</td>\n      <td>...</td>\n      <td>19.0</td>\n      <td>42.0</td>\n      <td>1610612766</td>\n      <td>89.0</td>\n      <td>0.468</td>\n      <td>0.706</td>\n      <td>0.294</td>\n      <td>23.0</td>\n      <td>36.0</td>\n      <td>1</td>\n    </tr>\n    <tr>\n      <th>8191</th>\n      <td>2009-02-24</td>\n      <td>20800843</td>\n      <td>Final</td>\n      <td>1610612761</td>\n      <td>1610612750</td>\n      <td>2008</td>\n      <td>1610612761</td>\n      <td>118.0</td>\n      <td>0.535</td>\n      <td>0.952</td>\n      <td>...</td>\n      <td>34.0</td>\n      <td>39.0</td>\n      <td>1610612750</td>\n      <td>110.0</td>\n      <td>0.500</td>\n      <td>0.842</td>\n      <td>0.333</td>\n      <td>28.0</td>\n      <td>36.0</td>\n      <td>1</td>\n    </tr>\n  </tbody>\n</table>\n<p>3 rows × 21 columns</p>\n</div>"
     },
     "metadata": {},
     "execution_count": 42
    }
   ],
   "source": [
    "games_df= pd.read_csv(nba_games_dir)\n",
    "games_df.sample(3)"
   ]
  },
  {
   "cell_type": "code",
   "execution_count": 43,
   "metadata": {},
   "outputs": [
    {
     "output_type": "stream",
     "name": "stdout",
     "text": [
      "<class 'pandas.core.frame.DataFrame'>\nRangeIndex: 23520 entries, 0 to 23519\nData columns (total 21 columns):\n #   Column            Non-Null Count  Dtype  \n---  ------            --------------  -----  \n 0   GAME_DATE_EST     23520 non-null  object \n 1   GAME_ID           23520 non-null  int64  \n 2   GAME_STATUS_TEXT  23520 non-null  object \n 3   HOME_TEAM_ID      23520 non-null  int64  \n 4   VISITOR_TEAM_ID   23520 non-null  int64  \n 5   SEASON            23520 non-null  int64  \n 6   TEAM_ID_home      23520 non-null  int64  \n 7   PTS_home          23421 non-null  float64\n 8   FG_PCT_home       23421 non-null  float64\n 9   FT_PCT_home       23421 non-null  float64\n 10  FG3_PCT_home      23421 non-null  float64\n 11  AST_home          23421 non-null  float64\n 12  REB_home          23421 non-null  float64\n 13  TEAM_ID_away      23520 non-null  int64  \n 14  PTS_away          23421 non-null  float64\n 15  FG_PCT_away       23421 non-null  float64\n 16  FT_PCT_away       23421 non-null  float64\n 17  FG3_PCT_away      23421 non-null  float64\n 18  AST_away          23421 non-null  float64\n 19  REB_away          23421 non-null  float64\n 20  HOME_TEAM_WINS    23520 non-null  int64  \ndtypes: float64(12), int64(7), object(2)\nmemory usage: 3.8+ MB\n"
     ]
    }
   ],
   "source": [
    "games_df.info()"
   ]
  },
  {
   "cell_type": "code",
   "execution_count": 44,
   "metadata": {},
   "outputs": [],
   "source": [
    "game_general_features =  [\n",
    "    \"GAME_DATE_EST\",\n",
    "    \"GAME_ID\",\n",
    "    \"SEASON\",\n",
    "    \"TEAM_ID_home\",\n",
    "    \"PTS_home\",\n",
    "    \"FG_PCT_home\",\n",
    "    \"FT_PCT_home\",\n",
    "    \"FG3_PCT_home\",\n",
    "    \"AST_home\",\n",
    "    \"REB_home\",\n",
    "    \"TEAM_ID_away\",\n",
    "    \"PTS_away\",\n",
    "    \"FG_PCT_away\",\n",
    "    \"FT_PCT_away\",\n",
    "    \"FG3_PCT_away\",\n",
    "    \"AST_away\",\n",
    "    \"REB_away\",\n",
    "    \"HOME_TEAM_WINS\",\n",
    "]\n",
    "game_features=['PTS','FG_PCT','FT_PCT','FG3_PCT','AST','REB']\n"
   ]
  },
  {
   "cell_type": "code",
   "execution_count": 45,
   "metadata": {},
   "outputs": [
    {
     "output_type": "execute_result",
     "data": {
      "text/plain": [
       "      GAME_DATE_EST   GAME_ID GAME_STATUS_TEXT  HOME_TEAM_ID  VISITOR_TEAM_ID  \\\n",
       "10765    2007-04-03  20600547            Final    1610612749       1610612740   \n",
       "11906    2006-10-21  10600082            Final    1610612739       1610612737   \n",
       "5125     2011-03-23  21001054            Final    1610612766       1610612754   \n",
       "\n",
       "       SEASON  TEAM_ID_home  PTS_home  FG_PCT_home  FT_PCT_home  ...  \\\n",
       "10765    2006    1610612749     101.0        0.482        0.714  ...   \n",
       "11906    2006    1610612739      88.0        0.384        0.633  ...   \n",
       "5125     2010    1610612766      88.0        0.444        0.724  ...   \n",
       "\n",
       "       AST_home  REB_home  TEAM_ID_away  PTS_away  FG_PCT_away  FT_PCT_away  \\\n",
       "10765      24.0      25.0    1610612740     119.0        0.545        0.839   \n",
       "11906      21.0      47.0    1610612737      90.0        0.393        0.826   \n",
       "5125       21.0      28.0    1610612754     111.0        0.542        0.794   \n",
       "\n",
       "       FG3_PCT_away  AST_away  REB_away  HOME_TEAM_WINS  \n",
       "10765         0.450      29.0      47.0               0  \n",
       "11906         0.357      19.0      50.0               0  \n",
       "5125          0.429      20.0      37.0               0  \n",
       "\n",
       "[3 rows x 21 columns]"
      ],
      "text/html": "<div>\n<style scoped>\n    .dataframe tbody tr th:only-of-type {\n        vertical-align: middle;\n    }\n\n    .dataframe tbody tr th {\n        vertical-align: top;\n    }\n\n    .dataframe thead th {\n        text-align: right;\n    }\n</style>\n<table border=\"1\" class=\"dataframe\">\n  <thead>\n    <tr style=\"text-align: right;\">\n      <th></th>\n      <th>GAME_DATE_EST</th>\n      <th>GAME_ID</th>\n      <th>GAME_STATUS_TEXT</th>\n      <th>HOME_TEAM_ID</th>\n      <th>VISITOR_TEAM_ID</th>\n      <th>SEASON</th>\n      <th>TEAM_ID_home</th>\n      <th>PTS_home</th>\n      <th>FG_PCT_home</th>\n      <th>FT_PCT_home</th>\n      <th>...</th>\n      <th>AST_home</th>\n      <th>REB_home</th>\n      <th>TEAM_ID_away</th>\n      <th>PTS_away</th>\n      <th>FG_PCT_away</th>\n      <th>FT_PCT_away</th>\n      <th>FG3_PCT_away</th>\n      <th>AST_away</th>\n      <th>REB_away</th>\n      <th>HOME_TEAM_WINS</th>\n    </tr>\n  </thead>\n  <tbody>\n    <tr>\n      <th>10765</th>\n      <td>2007-04-03</td>\n      <td>20600547</td>\n      <td>Final</td>\n      <td>1610612749</td>\n      <td>1610612740</td>\n      <td>2006</td>\n      <td>1610612749</td>\n      <td>101.0</td>\n      <td>0.482</td>\n      <td>0.714</td>\n      <td>...</td>\n      <td>24.0</td>\n      <td>25.0</td>\n      <td>1610612740</td>\n      <td>119.0</td>\n      <td>0.545</td>\n      <td>0.839</td>\n      <td>0.450</td>\n      <td>29.0</td>\n      <td>47.0</td>\n      <td>0</td>\n    </tr>\n    <tr>\n      <th>11906</th>\n      <td>2006-10-21</td>\n      <td>10600082</td>\n      <td>Final</td>\n      <td>1610612739</td>\n      <td>1610612737</td>\n      <td>2006</td>\n      <td>1610612739</td>\n      <td>88.0</td>\n      <td>0.384</td>\n      <td>0.633</td>\n      <td>...</td>\n      <td>21.0</td>\n      <td>47.0</td>\n      <td>1610612737</td>\n      <td>90.0</td>\n      <td>0.393</td>\n      <td>0.826</td>\n      <td>0.357</td>\n      <td>19.0</td>\n      <td>50.0</td>\n      <td>0</td>\n    </tr>\n    <tr>\n      <th>5125</th>\n      <td>2011-03-23</td>\n      <td>21001054</td>\n      <td>Final</td>\n      <td>1610612766</td>\n      <td>1610612754</td>\n      <td>2010</td>\n      <td>1610612766</td>\n      <td>88.0</td>\n      <td>0.444</td>\n      <td>0.724</td>\n      <td>...</td>\n      <td>21.0</td>\n      <td>28.0</td>\n      <td>1610612754</td>\n      <td>111.0</td>\n      <td>0.542</td>\n      <td>0.794</td>\n      <td>0.429</td>\n      <td>20.0</td>\n      <td>37.0</td>\n      <td>0</td>\n    </tr>\n  </tbody>\n</table>\n<p>3 rows × 21 columns</p>\n</div>"
     },
     "metadata": {},
     "execution_count": 45
    }
   ],
   "source": [
    "games_df = games_df.sort_values(by='GAME_DATE_EST')\n",
    "games_df.dropna(inplace=True)\n",
    "games_df[game_general_features].to_csv(f\"{model_dataset_dir}/formated_games.csv\", index=False)\n",
    "games_df.sample(3)"
   ]
  },
  {
   "cell_type": "code",
   "execution_count": 46,
   "metadata": {},
   "outputs": [],
   "source": [
    "def get_team_rankings_stats_before_date(team_id, date, features, rankings=rankings_df):\n",
    "    result_df = rankings.loc[(rankings['STANDINGSDATE'] < date)  & (rankings['TEAM_ID'] == team_id)]\n",
    "    \n",
    "    _prev_season = result_df.loc[result_df['SEASON_ID']  < result_df['SEASON_ID'].max()]\n",
    "    _prev_season = _prev_season.loc[_prev_season['STANDINGSDATE'] == _prev_season['STANDINGSDATE'].max()]\n",
    "    \n",
    "    _current_season = result_df[result_df['STANDINGSDATE'] == result_df['STANDINGSDATE'].max()]\n",
    "    \n",
    "    _current_season = _current_season[features]\n",
    "    _prev_season = _prev_season[features]\n",
    "    \n",
    "    return _current_season.merge(_prev_season, on='TEAM_ID', suffixes=('','_prev')).drop(columns='TEAM_ID')\n",
    "\n",
    "def get_historical_rankings_data(games):\n",
    "    def _get_rankings(game, features=numerical_ranking_features):\n",
    "        date = game['GAME_DATE_EST'].values[0]\n",
    "        home_team = game['TEAM_ID_home'].values[0]\n",
    "        away_team = game['TEAM_ID_away'].values[0]\n",
    "        \n",
    "        h_rank = get_team_rankings_stats_before_date(home_team, date=date, features=features)\n",
    "        a_rank = get_team_rankings_stats_before_date(away_team, date=date, features=features)\n",
    "        \n",
    "        h_rank.columns += '_home'\n",
    "        a_rank.columns += '_away'\n",
    "        \n",
    "        return pd.concat([h_rank, a_rank], axis=1)\n",
    "\n",
    "    _games = games.copy()\n",
    "    _games = _games.groupby('GAME_ID').apply(_get_rankings)\n",
    "    _games = _games.reset_index().drop(columns='level_1')\n",
    "    \n",
    "    return _games.reset_index(drop=True)\n",
    "\n",
    "def get_team_games_stats_before_date(team_id, date, n, features, game_type='all', games=games_df):\n",
    "    \n",
    "    if game_type not in ['all','home','away']:\n",
    "        raise ValueError('game_type must be all, home or away')\n",
    "    \n",
    "    _games = games.loc[games['GAME_DATE_EST'] < date]\n",
    "    _games = _games.loc[(_games['TEAM_ID_home'] == team_id) | (_games['TEAM_ID_away'] == team_id)]\n",
    "    \n",
    "    _games.loc[:,'is_home'] = _games['TEAM_ID_home'] == team_id\n",
    "    \n",
    "    if game_type == 'home':\n",
    "        _games = _games.loc[_games['is_home']]\n",
    "        \n",
    "    elif game_type == 'away':\n",
    "        _games = _games.loc[~_games['is_home']]\n",
    "        \n",
    "    _games.loc[:,'WIN_PRCT'] = _games['is_home'] == _games['HOME_TEAM_WINS']\n",
    "    \n",
    "    for col in features:\n",
    "        _games.loc[:,col] = np.where(_games['is_home'], _games['%s_home'%col], _games['%s_away'%col])\n",
    "    \n",
    "    cols = ['WIN_PRCT'] + features\n",
    "    \n",
    "    if len(_games) < n:\n",
    "        return _games[cols]\n",
    "    \n",
    "    return _games.tail(n)[cols]\n",
    "\n",
    "\n",
    "def get_historical_games_data(games, n=2):\n",
    "    def _get_stats(game, n=n, features=game_features):\n",
    "        date = game['GAME_DATE_EST'].values[0]\n",
    "        home_team = game['TEAM_ID_home'].values[0]\n",
    "        away_team = game['TEAM_ID_away'].values[0]\n",
    "        \n",
    "        h_stats = get_team_games_stats_before_date(home_team, date, n, features, game_type='all')\n",
    "        h_stats.columns += '_home_%ig'%n\n",
    "        h_stats = h_stats.mean().to_frame().T\n",
    "        \n",
    "        a_stats = get_team_games_stats_before_date(away_team, date, n, features, game_type='all')\n",
    "        a_stats.columns += '_away_%ig'%n\n",
    "        a_stats = a_stats.mean().to_frame().T\n",
    "        \n",
    "        return pd.concat([h_stats, a_stats], axis=1)\n",
    "\n",
    "    _games = games.copy()\n",
    "    _games = _games.groupby('GAME_ID').apply(_get_stats)\n",
    "    _games = _games.reset_index().drop(columns='level_1')\n",
    "    \n",
    "    return _games.reset_index(drop=True)\n"
   ]
  },
  {
   "source": [
    "### Combine all features"
   ],
   "cell_type": "markdown",
   "metadata": {}
  },
  {
   "cell_type": "code",
   "execution_count": 54,
   "metadata": {},
   "outputs": [],
   "source": [
    "def prepare_games_data(games):\n",
    "    # Get ranking stats before game\n",
    "    rank_stats = get_historical_rankings_data(games)\n",
    "    \n",
    "    # Get stats before game 3 previous games\n",
    "    game_stats_3g = get_historical_games_data(games, n=3)\n",
    "\n",
    "    # Get stats before game 20 previous games\n",
    "    game_stats_20g = get_historical_games_data(games, n=20)\n",
    "    \n",
    "    formated_games = rank_stats.merge(game_stats_3g, on='GAME_ID')\n",
    "    formated_games = formated_games.merge(game_stats_20g, on='GAME_ID')\n",
    "    formated_games = formated_games.merge(games_df[['GAME_ID','SEASON','HOME_TEAM_WINS']], on='GAME_ID', how='left')\n",
    "    formated_games = formated_games.reset_index(drop=True)\n",
    "    return formated_games"
   ]
  },
  {
   "cell_type": "code",
   "execution_count": 55,
   "metadata": {},
   "outputs": [
    {
     "output_type": "execute_result",
     "data": {
      "text/plain": [
       "    GAME_ID  W_PCT_home  HOME_RECORD_home  ROAD_RECORD_home  W_PCT_prev_home  \\\n",
       "0  20300485       0.303          0.500000          0.117647            0.207   \n",
       "1  21800561       0.237          0.263158          0.210526            0.256   \n",
       "\n",
       "   HOME_RECORD_prev_home  ROAD_RECORD_prev_home  W_PCT_away  HOME_RECORD_away  \\\n",
       "0               0.341463               0.073171       0.400          0.470588   \n",
       "1               0.243902               0.268293       0.632          0.842105   \n",
       "\n",
       "   ROAD_RECORD_away  ...  REB_home_20g  WIN_PRCT_away_20g  PTS_away_20g  \\\n",
       "0          0.333333  ...         46.60               0.40         90.60   \n",
       "1          0.421053  ...         42.15               0.65        115.25   \n",
       "\n",
       "   FG_PCT_away_20g  FT_PCT_away_20g  FG3_PCT_away_20g  AST_away_20g  \\\n",
       "0          0.45315          0.76910           0.33645         20.00   \n",
       "1          0.47785          0.77115           0.35830         27.05   \n",
       "\n",
       "   REB_away_20g  SEASON  HOME_TEAM_WINS  \n",
       "0         42.05    2003               1  \n",
       "1         46.75    2018               0  \n",
       "\n",
       "[2 rows x 43 columns]"
      ],
      "text/html": "<div>\n<style scoped>\n    .dataframe tbody tr th:only-of-type {\n        vertical-align: middle;\n    }\n\n    .dataframe tbody tr th {\n        vertical-align: top;\n    }\n\n    .dataframe thead th {\n        text-align: right;\n    }\n</style>\n<table border=\"1\" class=\"dataframe\">\n  <thead>\n    <tr style=\"text-align: right;\">\n      <th></th>\n      <th>GAME_ID</th>\n      <th>W_PCT_home</th>\n      <th>HOME_RECORD_home</th>\n      <th>ROAD_RECORD_home</th>\n      <th>W_PCT_prev_home</th>\n      <th>HOME_RECORD_prev_home</th>\n      <th>ROAD_RECORD_prev_home</th>\n      <th>W_PCT_away</th>\n      <th>HOME_RECORD_away</th>\n      <th>ROAD_RECORD_away</th>\n      <th>...</th>\n      <th>REB_home_20g</th>\n      <th>WIN_PRCT_away_20g</th>\n      <th>PTS_away_20g</th>\n      <th>FG_PCT_away_20g</th>\n      <th>FT_PCT_away_20g</th>\n      <th>FG3_PCT_away_20g</th>\n      <th>AST_away_20g</th>\n      <th>REB_away_20g</th>\n      <th>SEASON</th>\n      <th>HOME_TEAM_WINS</th>\n    </tr>\n  </thead>\n  <tbody>\n    <tr>\n      <th>0</th>\n      <td>20300485</td>\n      <td>0.303</td>\n      <td>0.500000</td>\n      <td>0.117647</td>\n      <td>0.207</td>\n      <td>0.341463</td>\n      <td>0.073171</td>\n      <td>0.400</td>\n      <td>0.470588</td>\n      <td>0.333333</td>\n      <td>...</td>\n      <td>46.60</td>\n      <td>0.40</td>\n      <td>90.60</td>\n      <td>0.45315</td>\n      <td>0.76910</td>\n      <td>0.33645</td>\n      <td>20.00</td>\n      <td>42.05</td>\n      <td>2003</td>\n      <td>1</td>\n    </tr>\n    <tr>\n      <th>1</th>\n      <td>21800561</td>\n      <td>0.237</td>\n      <td>0.263158</td>\n      <td>0.210526</td>\n      <td>0.256</td>\n      <td>0.243902</td>\n      <td>0.268293</td>\n      <td>0.632</td>\n      <td>0.842105</td>\n      <td>0.421053</td>\n      <td>...</td>\n      <td>42.15</td>\n      <td>0.65</td>\n      <td>115.25</td>\n      <td>0.47785</td>\n      <td>0.77115</td>\n      <td>0.35830</td>\n      <td>27.05</td>\n      <td>46.75</td>\n      <td>2018</td>\n      <td>0</td>\n    </tr>\n  </tbody>\n</table>\n<p>2 rows × 43 columns</p>\n</div>"
     },
     "metadata": {},
     "execution_count": 55
    }
   ],
   "source": [
    "_games = games_df.sample(2, random_state=42)\n",
    "formated_games  = prepare_games_data(_games)\n",
    "formated_games.head()"
   ]
  },
  {
   "cell_type": "code",
   "execution_count": 56,
   "metadata": {},
   "outputs": [
    {
     "output_type": "stream",
     "name": "stdout",
     "text": [
      "<class 'pandas.core.frame.DataFrame'>\nRangeIndex: 2 entries, 0 to 1\nData columns (total 43 columns):\n #   Column                 Non-Null Count  Dtype  \n---  ------                 --------------  -----  \n 0   GAME_ID                2 non-null      int64  \n 1   W_PCT_home             2 non-null      float64\n 2   HOME_RECORD_home       2 non-null      float64\n 3   ROAD_RECORD_home       2 non-null      float64\n 4   W_PCT_prev_home        2 non-null      float64\n 5   HOME_RECORD_prev_home  2 non-null      float64\n 6   ROAD_RECORD_prev_home  2 non-null      float64\n 7   W_PCT_away             2 non-null      float64\n 8   HOME_RECORD_away       2 non-null      float64\n 9   ROAD_RECORD_away       2 non-null      float64\n 10  W_PCT_prev_away        2 non-null      float64\n 11  HOME_RECORD_prev_away  2 non-null      float64\n 12  ROAD_RECORD_prev_away  2 non-null      float64\n 13  WIN_PRCT_home_3g       2 non-null      float64\n 14  PTS_home_3g            2 non-null      float64\n 15  FG_PCT_home_3g         2 non-null      float64\n 16  FT_PCT_home_3g         2 non-null      float64\n 17  FG3_PCT_home_3g        2 non-null      float64\n 18  AST_home_3g            2 non-null      float64\n 19  REB_home_3g            2 non-null      float64\n 20  WIN_PRCT_away_3g       2 non-null      float64\n 21  PTS_away_3g            2 non-null      float64\n 22  FG_PCT_away_3g         2 non-null      float64\n 23  FT_PCT_away_3g         2 non-null      float64\n 24  FG3_PCT_away_3g        2 non-null      float64\n 25  AST_away_3g            2 non-null      float64\n 26  REB_away_3g            2 non-null      float64\n 27  WIN_PRCT_home_20g      2 non-null      float64\n 28  PTS_home_20g           2 non-null      float64\n 29  FG_PCT_home_20g        2 non-null      float64\n 30  FT_PCT_home_20g        2 non-null      float64\n 31  FG3_PCT_home_20g       2 non-null      float64\n 32  AST_home_20g           2 non-null      float64\n 33  REB_home_20g           2 non-null      float64\n 34  WIN_PRCT_away_20g      2 non-null      float64\n 35  PTS_away_20g           2 non-null      float64\n 36  FG_PCT_away_20g        2 non-null      float64\n 37  FT_PCT_away_20g        2 non-null      float64\n 38  FG3_PCT_away_20g       2 non-null      float64\n 39  AST_away_20g           2 non-null      float64\n 40  REB_away_20g           2 non-null      float64\n 41  SEASON                 2 non-null      int64  \n 42  HOME_TEAM_WINS         2 non-null      int64  \ndtypes: float64(40), int64(3)\nmemory usage: 816.0 bytes\n"
     ]
    }
   ],
   "source": [
    "formated_games.info()"
   ]
  },
  {
   "source": [
    "### Variables Analysis"
   ],
   "cell_type": "markdown",
   "metadata": {}
  },
  {
   "cell_type": "code",
   "execution_count": 57,
   "metadata": {},
   "outputs": [
    {
     "output_type": "stream",
     "name": "stdout",
     "text": [
      "[2003 2004 2005 2006 2007 2008 2009 2010 2011 2012 2013 2014 2015 2016\n 2017 2018 2019 2020]\n"
     ]
    },
    {
     "output_type": "execute_result",
     "data": {
      "text/plain": [
       "<AxesSubplot:>"
      ]
     },
     "metadata": {},
     "execution_count": 57
    },
    {
     "output_type": "display_data",
     "data": {
      "text/plain": "<Figure size 432x288 with 1 Axes>",
      "image/svg+xml": "<?xml version=\"1.0\" encoding=\"utf-8\" standalone=\"no\"?>\n<!DOCTYPE svg PUBLIC \"-//W3C//DTD SVG 1.1//EN\"\n  \"http://www.w3.org/Graphics/SVG/1.1/DTD/svg11.dtd\">\n<!-- Created with matplotlib (https://matplotlib.org/) -->\n<svg height=\"264.29pt\" version=\"1.1\" viewBox=\"0 0 381.65 264.29\" width=\"381.65pt\" xmlns=\"http://www.w3.org/2000/svg\" xmlns:xlink=\"http://www.w3.org/1999/xlink\">\n <metadata>\n  <rdf:RDF xmlns:cc=\"http://creativecommons.org/ns#\" xmlns:dc=\"http://purl.org/dc/elements/1.1/\" xmlns:rdf=\"http://www.w3.org/1999/02/22-rdf-syntax-ns#\">\n   <cc:Work>\n    <dc:type rdf:resource=\"http://purl.org/dc/dcmitype/StillImage\"/>\n    <dc:date>2021-04-12T00:25:52.052127</dc:date>\n    <dc:format>image/svg+xml</dc:format>\n    <dc:creator>\n     <cc:Agent>\n      <dc:title>Matplotlib v3.3.4, https://matplotlib.org/</dc:title>\n     </cc:Agent>\n    </dc:creator>\n   </cc:Work>\n  </rdf:RDF>\n </metadata>\n <defs>\n  <style type=\"text/css\">*{stroke-linecap:butt;stroke-linejoin:round;}</style>\n </defs>\n <g id=\"figure_1\">\n  <g id=\"patch_1\">\n   <path d=\"M -0 264.29 \nL 381.65 264.29 \nL 381.65 0 \nL -0 0 \nz\n\" style=\"fill:none;\"/>\n  </g>\n  <g id=\"axes_1\">\n   <g id=\"patch_2\">\n    <path d=\"M 39.65 224.64 \nL 374.45 224.64 \nL 374.45 7.2 \nL 39.65 7.2 \nz\n\" style=\"fill:#ffffff;\"/>\n   </g>\n   <g id=\"patch_3\">\n    <path clip-path=\"url(#pbcc837ff22)\" d=\"M 44.3 224.64 \nL 53.6 224.64 \nL 53.6 17.554286 \nL 44.3 17.554286 \nz\n\" style=\"fill:#1f77b4;\"/>\n   </g>\n   <g id=\"patch_4\">\n    <path clip-path=\"url(#pbcc837ff22)\" d=\"M 62.9 224.64 \nL 72.2 224.64 \nL 72.2 18.27735 \nL 62.9 18.27735 \nz\n\" style=\"fill:#1f77b4;\"/>\n   </g>\n   <g id=\"patch_5\">\n    <path clip-path=\"url(#pbcc837ff22)\" d=\"M 81.5 224.64 \nL 90.8 224.64 \nL 90.8 18.566576 \nL 81.5 18.566576 \nz\n\" style=\"fill:#1f77b4;\"/>\n   </g>\n   <g id=\"patch_6\">\n    <path clip-path=\"url(#pbcc837ff22)\" d=\"M 100.1 224.64 \nL 109.4 224.64 \nL 109.4 18.711189 \nL 100.1 18.711189 \nz\n\" style=\"fill:#1f77b4;\"/>\n   </g>\n   <g id=\"patch_7\">\n    <path clip-path=\"url(#pbcc837ff22)\" d=\"M 118.7 224.64 \nL 128 224.64 \nL 128 19.000415 \nL 118.7 19.000415 \nz\n\" style=\"fill:#1f77b4;\"/>\n   </g>\n   <g id=\"patch_8\">\n    <path clip-path=\"url(#pbcc837ff22)\" d=\"M 137.3 224.64 \nL 146.6 224.64 \nL 146.6 19.289641 \nL 137.3 19.289641 \nz\n\" style=\"fill:#1f77b4;\"/>\n   </g>\n   <g id=\"patch_9\">\n    <path clip-path=\"url(#pbcc837ff22)\" d=\"M 155.9 224.64 \nL 165.2 224.64 \nL 165.2 19.434254 \nL 155.9 19.434254 \nz\n\" style=\"fill:#1f77b4;\"/>\n   </g>\n   <g id=\"patch_10\">\n    <path clip-path=\"url(#pbcc837ff22)\" d=\"M 174.5 224.64 \nL 183.8 224.64 \nL 183.8 19.578867 \nL 174.5 19.578867 \nz\n\" style=\"fill:#1f77b4;\"/>\n   </g>\n   <g id=\"patch_11\">\n    <path clip-path=\"url(#pbcc837ff22)\" d=\"M 193.1 224.64 \nL 202.4 224.64 \nL 202.4 19.868093 \nL 193.1 19.868093 \nz\n\" style=\"fill:#1f77b4;\"/>\n   </g>\n   <g id=\"patch_12\">\n    <path clip-path=\"url(#pbcc837ff22)\" d=\"M 211.7 224.64 \nL 221 224.64 \nL 221 20.591157 \nL 211.7 20.591157 \nz\n\" style=\"fill:#1f77b4;\"/>\n   </g>\n   <g id=\"patch_13\">\n    <path clip-path=\"url(#pbcc837ff22)\" d=\"M 230.3 224.64 \nL 239.6 224.64 \nL 239.6 21.458835 \nL 230.3 21.458835 \nz\n\" style=\"fill:#1f77b4;\"/>\n   </g>\n   <g id=\"patch_14\">\n    <path clip-path=\"url(#pbcc837ff22)\" d=\"M 248.9 224.64 \nL 258.2 224.64 \nL 258.2 24.784932 \nL 248.9 24.784932 \nz\n\" style=\"fill:#1f77b4;\"/>\n   </g>\n   <g id=\"patch_15\">\n    <path clip-path=\"url(#pbcc837ff22)\" d=\"M 267.5 224.64 \nL 276.8 224.64 \nL 276.8 25.363384 \nL 267.5 25.363384 \nz\n\" style=\"fill:#1f77b4;\"/>\n   </g>\n   <g id=\"patch_16\">\n    <path clip-path=\"url(#pbcc837ff22)\" d=\"M 286.1 224.64 \nL 295.4 224.64 \nL 295.4 27.677191 \nL 286.1 27.677191 \nz\n\" style=\"fill:#1f77b4;\"/>\n   </g>\n   <g id=\"patch_17\">\n    <path clip-path=\"url(#pbcc837ff22)\" d=\"M 304.7 224.64 \nL 314 224.64 \nL 314 38.667773 \nL 304.7 38.667773 \nz\n\" style=\"fill:#1f77b4;\"/>\n   </g>\n   <g id=\"patch_18\">\n    <path clip-path=\"url(#pbcc837ff22)\" d=\"M 323.3 224.64 \nL 332.6 224.64 \nL 332.6 45.175355 \nL 323.3 45.175355 \nz\n\" style=\"fill:#1f77b4;\"/>\n   </g>\n   <g id=\"patch_19\">\n    <path clip-path=\"url(#pbcc837ff22)\" d=\"M 341.9 224.64 \nL 351.2 224.64 \nL 351.2 64.987326 \nL 341.9 64.987326 \nz\n\" style=\"fill:#1f77b4;\"/>\n   </g>\n   <g id=\"patch_20\">\n    <path clip-path=\"url(#pbcc837ff22)\" d=\"M 360.5 224.64 \nL 369.8 224.64 \nL 369.8 217.553966 \nL 360.5 217.553966 \nz\n\" style=\"fill:#1f77b4;\"/>\n   </g>\n   <g id=\"matplotlib.axis_1\">\n    <g id=\"xtick_1\">\n     <g id=\"line2d_1\">\n      <defs>\n       <path d=\"M 0 0 \nL 0 3.5 \n\" id=\"m4d8b9e6f80\" style=\"stroke:#000000;stroke-width:0.8;\"/>\n      </defs>\n      <g>\n       <use style=\"stroke:#000000;stroke-width:0.8;\" x=\"48.95\" xlink:href=\"#m4d8b9e6f80\" y=\"224.64\"/>\n      </g>\n     </g>\n     <g id=\"text_1\">\n      <!-- 2005 -->\n      <g transform=\"translate(51.709375 257.09)rotate(-90)scale(0.1 -0.1)\">\n       <defs>\n        <path d=\"M 19.1875 8.296875 \nL 53.609375 8.296875 \nL 53.609375 0 \nL 7.328125 0 \nL 7.328125 8.296875 \nQ 12.9375 14.109375 22.625 23.890625 \nQ 32.328125 33.6875 34.8125 36.53125 \nQ 39.546875 41.84375 41.421875 45.53125 \nQ 43.3125 49.21875 43.3125 52.78125 \nQ 43.3125 58.59375 39.234375 62.25 \nQ 35.15625 65.921875 28.609375 65.921875 \nQ 23.96875 65.921875 18.8125 64.3125 \nQ 13.671875 62.703125 7.8125 59.421875 \nL 7.8125 69.390625 \nQ 13.765625 71.78125 18.9375 73 \nQ 24.125 74.21875 28.421875 74.21875 \nQ 39.75 74.21875 46.484375 68.546875 \nQ 53.21875 62.890625 53.21875 53.421875 \nQ 53.21875 48.921875 51.53125 44.890625 \nQ 49.859375 40.875 45.40625 35.40625 \nQ 44.1875 33.984375 37.640625 27.21875 \nQ 31.109375 20.453125 19.1875 8.296875 \nz\n\" id=\"DejaVuSans-50\"/>\n        <path d=\"M 31.78125 66.40625 \nQ 24.171875 66.40625 20.328125 58.90625 \nQ 16.5 51.421875 16.5 36.375 \nQ 16.5 21.390625 20.328125 13.890625 \nQ 24.171875 6.390625 31.78125 6.390625 \nQ 39.453125 6.390625 43.28125 13.890625 \nQ 47.125 21.390625 47.125 36.375 \nQ 47.125 51.421875 43.28125 58.90625 \nQ 39.453125 66.40625 31.78125 66.40625 \nz\nM 31.78125 74.21875 \nQ 44.046875 74.21875 50.515625 64.515625 \nQ 56.984375 54.828125 56.984375 36.375 \nQ 56.984375 17.96875 50.515625 8.265625 \nQ 44.046875 -1.421875 31.78125 -1.421875 \nQ 19.53125 -1.421875 13.0625 8.265625 \nQ 6.59375 17.96875 6.59375 36.375 \nQ 6.59375 54.828125 13.0625 64.515625 \nQ 19.53125 74.21875 31.78125 74.21875 \nz\n\" id=\"DejaVuSans-48\"/>\n        <path d=\"M 10.796875 72.90625 \nL 49.515625 72.90625 \nL 49.515625 64.59375 \nL 19.828125 64.59375 \nL 19.828125 46.734375 \nQ 21.96875 47.46875 24.109375 47.828125 \nQ 26.265625 48.1875 28.421875 48.1875 \nQ 40.625 48.1875 47.75 41.5 \nQ 54.890625 34.8125 54.890625 23.390625 \nQ 54.890625 11.625 47.5625 5.09375 \nQ 40.234375 -1.421875 26.90625 -1.421875 \nQ 22.3125 -1.421875 17.546875 -0.640625 \nQ 12.796875 0.140625 7.71875 1.703125 \nL 7.71875 11.625 \nQ 12.109375 9.234375 16.796875 8.0625 \nQ 21.484375 6.890625 26.703125 6.890625 \nQ 35.15625 6.890625 40.078125 11.328125 \nQ 45.015625 15.765625 45.015625 23.390625 \nQ 45.015625 31 40.078125 35.4375 \nQ 35.15625 39.890625 26.703125 39.890625 \nQ 22.75 39.890625 18.8125 39.015625 \nQ 14.890625 38.140625 10.796875 36.28125 \nz\n\" id=\"DejaVuSans-53\"/>\n       </defs>\n       <use xlink:href=\"#DejaVuSans-50\"/>\n       <use x=\"63.623047\" xlink:href=\"#DejaVuSans-48\"/>\n       <use x=\"127.246094\" xlink:href=\"#DejaVuSans-48\"/>\n       <use x=\"190.869141\" xlink:href=\"#DejaVuSans-53\"/>\n      </g>\n     </g>\n    </g>\n    <g id=\"xtick_2\">\n     <g id=\"line2d_2\">\n      <g>\n       <use style=\"stroke:#000000;stroke-width:0.8;\" x=\"67.55\" xlink:href=\"#m4d8b9e6f80\" y=\"224.64\"/>\n      </g>\n     </g>\n     <g id=\"text_2\">\n      <!-- 2013 -->\n      <g transform=\"translate(70.309375 257.09)rotate(-90)scale(0.1 -0.1)\">\n       <defs>\n        <path d=\"M 12.40625 8.296875 \nL 28.515625 8.296875 \nL 28.515625 63.921875 \nL 10.984375 60.40625 \nL 10.984375 69.390625 \nL 28.421875 72.90625 \nL 38.28125 72.90625 \nL 38.28125 8.296875 \nL 54.390625 8.296875 \nL 54.390625 0 \nL 12.40625 0 \nz\n\" id=\"DejaVuSans-49\"/>\n        <path d=\"M 40.578125 39.3125 \nQ 47.65625 37.796875 51.625 33 \nQ 55.609375 28.21875 55.609375 21.1875 \nQ 55.609375 10.40625 48.1875 4.484375 \nQ 40.765625 -1.421875 27.09375 -1.421875 \nQ 22.515625 -1.421875 17.65625 -0.515625 \nQ 12.796875 0.390625 7.625 2.203125 \nL 7.625 11.71875 \nQ 11.71875 9.328125 16.59375 8.109375 \nQ 21.484375 6.890625 26.8125 6.890625 \nQ 36.078125 6.890625 40.9375 10.546875 \nQ 45.796875 14.203125 45.796875 21.1875 \nQ 45.796875 27.640625 41.28125 31.265625 \nQ 36.765625 34.90625 28.71875 34.90625 \nL 20.21875 34.90625 \nL 20.21875 43.015625 \nL 29.109375 43.015625 \nQ 36.375 43.015625 40.234375 45.921875 \nQ 44.09375 48.828125 44.09375 54.296875 \nQ 44.09375 59.90625 40.109375 62.90625 \nQ 36.140625 65.921875 28.71875 65.921875 \nQ 24.65625 65.921875 20.015625 65.03125 \nQ 15.375 64.15625 9.8125 62.3125 \nL 9.8125 71.09375 \nQ 15.4375 72.65625 20.34375 73.4375 \nQ 25.25 74.21875 29.59375 74.21875 \nQ 40.828125 74.21875 47.359375 69.109375 \nQ 53.90625 64.015625 53.90625 55.328125 \nQ 53.90625 49.265625 50.4375 45.09375 \nQ 46.96875 40.921875 40.578125 39.3125 \nz\n\" id=\"DejaVuSans-51\"/>\n       </defs>\n       <use xlink:href=\"#DejaVuSans-50\"/>\n       <use x=\"63.623047\" xlink:href=\"#DejaVuSans-48\"/>\n       <use x=\"127.246094\" xlink:href=\"#DejaVuSans-49\"/>\n       <use x=\"190.869141\" xlink:href=\"#DejaVuSans-51\"/>\n      </g>\n     </g>\n    </g>\n    <g id=\"xtick_3\">\n     <g id=\"line2d_3\">\n      <g>\n       <use style=\"stroke:#000000;stroke-width:0.8;\" x=\"86.15\" xlink:href=\"#m4d8b9e6f80\" y=\"224.64\"/>\n      </g>\n     </g>\n     <g id=\"text_3\">\n      <!-- 2008 -->\n      <g transform=\"translate(88.909375 257.09)rotate(-90)scale(0.1 -0.1)\">\n       <defs>\n        <path d=\"M 31.78125 34.625 \nQ 24.75 34.625 20.71875 30.859375 \nQ 16.703125 27.09375 16.703125 20.515625 \nQ 16.703125 13.921875 20.71875 10.15625 \nQ 24.75 6.390625 31.78125 6.390625 \nQ 38.8125 6.390625 42.859375 10.171875 \nQ 46.921875 13.96875 46.921875 20.515625 \nQ 46.921875 27.09375 42.890625 30.859375 \nQ 38.875 34.625 31.78125 34.625 \nz\nM 21.921875 38.8125 \nQ 15.578125 40.375 12.03125 44.71875 \nQ 8.5 49.078125 8.5 55.328125 \nQ 8.5 64.0625 14.71875 69.140625 \nQ 20.953125 74.21875 31.78125 74.21875 \nQ 42.671875 74.21875 48.875 69.140625 \nQ 55.078125 64.0625 55.078125 55.328125 \nQ 55.078125 49.078125 51.53125 44.71875 \nQ 48 40.375 41.703125 38.8125 \nQ 48.828125 37.15625 52.796875 32.3125 \nQ 56.78125 27.484375 56.78125 20.515625 \nQ 56.78125 9.90625 50.3125 4.234375 \nQ 43.84375 -1.421875 31.78125 -1.421875 \nQ 19.734375 -1.421875 13.25 4.234375 \nQ 6.78125 9.90625 6.78125 20.515625 \nQ 6.78125 27.484375 10.78125 32.3125 \nQ 14.796875 37.15625 21.921875 38.8125 \nz\nM 18.3125 54.390625 \nQ 18.3125 48.734375 21.84375 45.5625 \nQ 25.390625 42.390625 31.78125 42.390625 \nQ 38.140625 42.390625 41.71875 45.5625 \nQ 45.3125 48.734375 45.3125 54.390625 \nQ 45.3125 60.0625 41.71875 63.234375 \nQ 38.140625 66.40625 31.78125 66.40625 \nQ 25.390625 66.40625 21.84375 63.234375 \nQ 18.3125 60.0625 18.3125 54.390625 \nz\n\" id=\"DejaVuSans-56\"/>\n       </defs>\n       <use xlink:href=\"#DejaVuSans-50\"/>\n       <use x=\"63.623047\" xlink:href=\"#DejaVuSans-48\"/>\n       <use x=\"127.246094\" xlink:href=\"#DejaVuSans-48\"/>\n       <use x=\"190.869141\" xlink:href=\"#DejaVuSans-56\"/>\n      </g>\n     </g>\n    </g>\n    <g id=\"xtick_4\">\n     <g id=\"line2d_4\">\n      <g>\n       <use style=\"stroke:#000000;stroke-width:0.8;\" x=\"104.75\" xlink:href=\"#m4d8b9e6f80\" y=\"224.64\"/>\n      </g>\n     </g>\n     <g id=\"text_4\">\n      <!-- 2009 -->\n      <g transform=\"translate(107.509375 257.09)rotate(-90)scale(0.1 -0.1)\">\n       <defs>\n        <path d=\"M 10.984375 1.515625 \nL 10.984375 10.5 \nQ 14.703125 8.734375 18.5 7.8125 \nQ 22.3125 6.890625 25.984375 6.890625 \nQ 35.75 6.890625 40.890625 13.453125 \nQ 46.046875 20.015625 46.78125 33.40625 \nQ 43.953125 29.203125 39.59375 26.953125 \nQ 35.25 24.703125 29.984375 24.703125 \nQ 19.046875 24.703125 12.671875 31.3125 \nQ 6.296875 37.9375 6.296875 49.421875 \nQ 6.296875 60.640625 12.9375 67.421875 \nQ 19.578125 74.21875 30.609375 74.21875 \nQ 43.265625 74.21875 49.921875 64.515625 \nQ 56.59375 54.828125 56.59375 36.375 \nQ 56.59375 19.140625 48.40625 8.859375 \nQ 40.234375 -1.421875 26.421875 -1.421875 \nQ 22.703125 -1.421875 18.890625 -0.6875 \nQ 15.09375 0.046875 10.984375 1.515625 \nz\nM 30.609375 32.421875 \nQ 37.25 32.421875 41.125 36.953125 \nQ 45.015625 41.5 45.015625 49.421875 \nQ 45.015625 57.28125 41.125 61.84375 \nQ 37.25 66.40625 30.609375 66.40625 \nQ 23.96875 66.40625 20.09375 61.84375 \nQ 16.21875 57.28125 16.21875 49.421875 \nQ 16.21875 41.5 20.09375 36.953125 \nQ 23.96875 32.421875 30.609375 32.421875 \nz\n\" id=\"DejaVuSans-57\"/>\n       </defs>\n       <use xlink:href=\"#DejaVuSans-50\"/>\n       <use x=\"63.623047\" xlink:href=\"#DejaVuSans-48\"/>\n       <use x=\"127.246094\" xlink:href=\"#DejaVuSans-48\"/>\n       <use x=\"190.869141\" xlink:href=\"#DejaVuSans-57\"/>\n      </g>\n     </g>\n    </g>\n    <g id=\"xtick_5\">\n     <g id=\"line2d_5\">\n      <g>\n       <use style=\"stroke:#000000;stroke-width:0.8;\" x=\"123.35\" xlink:href=\"#m4d8b9e6f80\" y=\"224.64\"/>\n      </g>\n     </g>\n     <g id=\"text_5\">\n      <!-- 2010 -->\n      <g transform=\"translate(126.109375 257.09)rotate(-90)scale(0.1 -0.1)\">\n       <use xlink:href=\"#DejaVuSans-50\"/>\n       <use x=\"63.623047\" xlink:href=\"#DejaVuSans-48\"/>\n       <use x=\"127.246094\" xlink:href=\"#DejaVuSans-49\"/>\n       <use x=\"190.869141\" xlink:href=\"#DejaVuSans-48\"/>\n      </g>\n     </g>\n    </g>\n    <g id=\"xtick_6\">\n     <g id=\"line2d_6\">\n      <g>\n       <use style=\"stroke:#000000;stroke-width:0.8;\" x=\"141.95\" xlink:href=\"#m4d8b9e6f80\" y=\"224.64\"/>\n      </g>\n     </g>\n     <g id=\"text_6\">\n      <!-- 2012 -->\n      <g transform=\"translate(144.709375 257.09)rotate(-90)scale(0.1 -0.1)\">\n       <use xlink:href=\"#DejaVuSans-50\"/>\n       <use x=\"63.623047\" xlink:href=\"#DejaVuSans-48\"/>\n       <use x=\"127.246094\" xlink:href=\"#DejaVuSans-49\"/>\n       <use x=\"190.869141\" xlink:href=\"#DejaVuSans-50\"/>\n      </g>\n     </g>\n    </g>\n    <g id=\"xtick_7\">\n     <g id=\"line2d_7\">\n      <g>\n       <use style=\"stroke:#000000;stroke-width:0.8;\" x=\"160.55\" xlink:href=\"#m4d8b9e6f80\" y=\"224.64\"/>\n      </g>\n     </g>\n     <g id=\"text_7\">\n      <!-- 2006 -->\n      <g transform=\"translate(163.309375 257.09)rotate(-90)scale(0.1 -0.1)\">\n       <defs>\n        <path d=\"M 33.015625 40.375 \nQ 26.375 40.375 22.484375 35.828125 \nQ 18.609375 31.296875 18.609375 23.390625 \nQ 18.609375 15.53125 22.484375 10.953125 \nQ 26.375 6.390625 33.015625 6.390625 \nQ 39.65625 6.390625 43.53125 10.953125 \nQ 47.40625 15.53125 47.40625 23.390625 \nQ 47.40625 31.296875 43.53125 35.828125 \nQ 39.65625 40.375 33.015625 40.375 \nz\nM 52.59375 71.296875 \nL 52.59375 62.3125 \nQ 48.875 64.0625 45.09375 64.984375 \nQ 41.3125 65.921875 37.59375 65.921875 \nQ 27.828125 65.921875 22.671875 59.328125 \nQ 17.53125 52.734375 16.796875 39.40625 \nQ 19.671875 43.65625 24.015625 45.921875 \nQ 28.375 48.1875 33.59375 48.1875 \nQ 44.578125 48.1875 50.953125 41.515625 \nQ 57.328125 34.859375 57.328125 23.390625 \nQ 57.328125 12.15625 50.6875 5.359375 \nQ 44.046875 -1.421875 33.015625 -1.421875 \nQ 20.359375 -1.421875 13.671875 8.265625 \nQ 6.984375 17.96875 6.984375 36.375 \nQ 6.984375 53.65625 15.1875 63.9375 \nQ 23.390625 74.21875 37.203125 74.21875 \nQ 40.921875 74.21875 44.703125 73.484375 \nQ 48.484375 72.75 52.59375 71.296875 \nz\n\" id=\"DejaVuSans-54\"/>\n       </defs>\n       <use xlink:href=\"#DejaVuSans-50\"/>\n       <use x=\"63.623047\" xlink:href=\"#DejaVuSans-48\"/>\n       <use x=\"127.246094\" xlink:href=\"#DejaVuSans-48\"/>\n       <use x=\"190.869141\" xlink:href=\"#DejaVuSans-54\"/>\n      </g>\n     </g>\n    </g>\n    <g id=\"xtick_8\">\n     <g id=\"line2d_8\">\n      <g>\n       <use style=\"stroke:#000000;stroke-width:0.8;\" x=\"179.15\" xlink:href=\"#m4d8b9e6f80\" y=\"224.64\"/>\n      </g>\n     </g>\n     <g id=\"text_8\">\n      <!-- 2014 -->\n      <g transform=\"translate(181.909375 257.09)rotate(-90)scale(0.1 -0.1)\">\n       <defs>\n        <path d=\"M 37.796875 64.3125 \nL 12.890625 25.390625 \nL 37.796875 25.390625 \nz\nM 35.203125 72.90625 \nL 47.609375 72.90625 \nL 47.609375 25.390625 \nL 58.015625 25.390625 \nL 58.015625 17.1875 \nL 47.609375 17.1875 \nL 47.609375 0 \nL 37.796875 0 \nL 37.796875 17.1875 \nL 4.890625 17.1875 \nL 4.890625 26.703125 \nz\n\" id=\"DejaVuSans-52\"/>\n       </defs>\n       <use xlink:href=\"#DejaVuSans-50\"/>\n       <use x=\"63.623047\" xlink:href=\"#DejaVuSans-48\"/>\n       <use x=\"127.246094\" xlink:href=\"#DejaVuSans-49\"/>\n       <use x=\"190.869141\" xlink:href=\"#DejaVuSans-52\"/>\n      </g>\n     </g>\n    </g>\n    <g id=\"xtick_9\">\n     <g id=\"line2d_9\">\n      <g>\n       <use style=\"stroke:#000000;stroke-width:0.8;\" x=\"197.75\" xlink:href=\"#m4d8b9e6f80\" y=\"224.64\"/>\n      </g>\n     </g>\n     <g id=\"text_9\">\n      <!-- 2015 -->\n      <g transform=\"translate(200.509375 257.09)rotate(-90)scale(0.1 -0.1)\">\n       <use xlink:href=\"#DejaVuSans-50\"/>\n       <use x=\"63.623047\" xlink:href=\"#DejaVuSans-48\"/>\n       <use x=\"127.246094\" xlink:href=\"#DejaVuSans-49\"/>\n       <use x=\"190.869141\" xlink:href=\"#DejaVuSans-53\"/>\n      </g>\n     </g>\n    </g>\n    <g id=\"xtick_10\">\n     <g id=\"line2d_10\">\n      <g>\n       <use style=\"stroke:#000000;stroke-width:0.8;\" x=\"216.35\" xlink:href=\"#m4d8b9e6f80\" y=\"224.64\"/>\n      </g>\n     </g>\n     <g id=\"text_10\">\n      <!-- 2007 -->\n      <g transform=\"translate(219.109375 257.09)rotate(-90)scale(0.1 -0.1)\">\n       <defs>\n        <path d=\"M 8.203125 72.90625 \nL 55.078125 72.90625 \nL 55.078125 68.703125 \nL 28.609375 0 \nL 18.3125 0 \nL 43.21875 64.59375 \nL 8.203125 64.59375 \nz\n\" id=\"DejaVuSans-55\"/>\n       </defs>\n       <use xlink:href=\"#DejaVuSans-50\"/>\n       <use x=\"63.623047\" xlink:href=\"#DejaVuSans-48\"/>\n       <use x=\"127.246094\" xlink:href=\"#DejaVuSans-48\"/>\n       <use x=\"190.869141\" xlink:href=\"#DejaVuSans-55\"/>\n      </g>\n     </g>\n    </g>\n    <g id=\"xtick_11\">\n     <g id=\"line2d_11\">\n      <g>\n       <use style=\"stroke:#000000;stroke-width:0.8;\" x=\"234.95\" xlink:href=\"#m4d8b9e6f80\" y=\"224.64\"/>\n      </g>\n     </g>\n     <g id=\"text_11\">\n      <!-- 2016 -->\n      <g transform=\"translate(237.709375 257.09)rotate(-90)scale(0.1 -0.1)\">\n       <use xlink:href=\"#DejaVuSans-50\"/>\n       <use x=\"63.623047\" xlink:href=\"#DejaVuSans-48\"/>\n       <use x=\"127.246094\" xlink:href=\"#DejaVuSans-49\"/>\n       <use x=\"190.869141\" xlink:href=\"#DejaVuSans-54\"/>\n      </g>\n     </g>\n    </g>\n    <g id=\"xtick_12\">\n     <g id=\"line2d_12\">\n      <g>\n       <use style=\"stroke:#000000;stroke-width:0.8;\" x=\"253.55\" xlink:href=\"#m4d8b9e6f80\" y=\"224.64\"/>\n      </g>\n     </g>\n     <g id=\"text_12\">\n      <!-- 2017 -->\n      <g transform=\"translate(256.309375 257.09)rotate(-90)scale(0.1 -0.1)\">\n       <use xlink:href=\"#DejaVuSans-50\"/>\n       <use x=\"63.623047\" xlink:href=\"#DejaVuSans-48\"/>\n       <use x=\"127.246094\" xlink:href=\"#DejaVuSans-49\"/>\n       <use x=\"190.869141\" xlink:href=\"#DejaVuSans-55\"/>\n      </g>\n     </g>\n    </g>\n    <g id=\"xtick_13\">\n     <g id=\"line2d_13\">\n      <g>\n       <use style=\"stroke:#000000;stroke-width:0.8;\" x=\"272.15\" xlink:href=\"#m4d8b9e6f80\" y=\"224.64\"/>\n      </g>\n     </g>\n     <g id=\"text_13\">\n      <!-- 2018 -->\n      <g transform=\"translate(274.909375 257.09)rotate(-90)scale(0.1 -0.1)\">\n       <use xlink:href=\"#DejaVuSans-50\"/>\n       <use x=\"63.623047\" xlink:href=\"#DejaVuSans-48\"/>\n       <use x=\"127.246094\" xlink:href=\"#DejaVuSans-49\"/>\n       <use x=\"190.869141\" xlink:href=\"#DejaVuSans-56\"/>\n      </g>\n     </g>\n    </g>\n    <g id=\"xtick_14\">\n     <g id=\"line2d_14\">\n      <g>\n       <use style=\"stroke:#000000;stroke-width:0.8;\" x=\"290.75\" xlink:href=\"#m4d8b9e6f80\" y=\"224.64\"/>\n      </g>\n     </g>\n     <g id=\"text_14\">\n      <!-- 2004 -->\n      <g transform=\"translate(293.509375 257.09)rotate(-90)scale(0.1 -0.1)\">\n       <use xlink:href=\"#DejaVuSans-50\"/>\n       <use x=\"63.623047\" xlink:href=\"#DejaVuSans-48\"/>\n       <use x=\"127.246094\" xlink:href=\"#DejaVuSans-48\"/>\n       <use x=\"190.869141\" xlink:href=\"#DejaVuSans-52\"/>\n      </g>\n     </g>\n    </g>\n    <g id=\"xtick_15\">\n     <g id=\"line2d_15\">\n      <g>\n       <use style=\"stroke:#000000;stroke-width:0.8;\" x=\"309.35\" xlink:href=\"#m4d8b9e6f80\" y=\"224.64\"/>\n      </g>\n     </g>\n     <g id=\"text_15\">\n      <!-- 2003 -->\n      <g transform=\"translate(312.109375 257.09)rotate(-90)scale(0.1 -0.1)\">\n       <use xlink:href=\"#DejaVuSans-50\"/>\n       <use x=\"63.623047\" xlink:href=\"#DejaVuSans-48\"/>\n       <use x=\"127.246094\" xlink:href=\"#DejaVuSans-48\"/>\n       <use x=\"190.869141\" xlink:href=\"#DejaVuSans-51\"/>\n      </g>\n     </g>\n    </g>\n    <g id=\"xtick_16\">\n     <g id=\"line2d_16\">\n      <g>\n       <use style=\"stroke:#000000;stroke-width:0.8;\" x=\"327.95\" xlink:href=\"#m4d8b9e6f80\" y=\"224.64\"/>\n      </g>\n     </g>\n     <g id=\"text_16\">\n      <!-- 2019 -->\n      <g transform=\"translate(330.709375 257.09)rotate(-90)scale(0.1 -0.1)\">\n       <use xlink:href=\"#DejaVuSans-50\"/>\n       <use x=\"63.623047\" xlink:href=\"#DejaVuSans-48\"/>\n       <use x=\"127.246094\" xlink:href=\"#DejaVuSans-49\"/>\n       <use x=\"190.869141\" xlink:href=\"#DejaVuSans-57\"/>\n      </g>\n     </g>\n    </g>\n    <g id=\"xtick_17\">\n     <g id=\"line2d_17\">\n      <g>\n       <use style=\"stroke:#000000;stroke-width:0.8;\" x=\"346.55\" xlink:href=\"#m4d8b9e6f80\" y=\"224.64\"/>\n      </g>\n     </g>\n     <g id=\"text_17\">\n      <!-- 2011 -->\n      <g transform=\"translate(349.309375 257.09)rotate(-90)scale(0.1 -0.1)\">\n       <use xlink:href=\"#DejaVuSans-50\"/>\n       <use x=\"63.623047\" xlink:href=\"#DejaVuSans-48\"/>\n       <use x=\"127.246094\" xlink:href=\"#DejaVuSans-49\"/>\n       <use x=\"190.869141\" xlink:href=\"#DejaVuSans-49\"/>\n      </g>\n     </g>\n    </g>\n    <g id=\"xtick_18\">\n     <g id=\"line2d_18\">\n      <g>\n       <use style=\"stroke:#000000;stroke-width:0.8;\" x=\"365.15\" xlink:href=\"#m4d8b9e6f80\" y=\"224.64\"/>\n      </g>\n     </g>\n     <g id=\"text_18\">\n      <!-- 2020 -->\n      <g transform=\"translate(367.909375 257.09)rotate(-90)scale(0.1 -0.1)\">\n       <use xlink:href=\"#DejaVuSans-50\"/>\n       <use x=\"63.623047\" xlink:href=\"#DejaVuSans-48\"/>\n       <use x=\"127.246094\" xlink:href=\"#DejaVuSans-50\"/>\n       <use x=\"190.869141\" xlink:href=\"#DejaVuSans-48\"/>\n      </g>\n     </g>\n    </g>\n   </g>\n   <g id=\"matplotlib.axis_2\">\n    <g id=\"ytick_1\">\n     <g id=\"line2d_19\">\n      <defs>\n       <path d=\"M 0 0 \nL -3.5 0 \n\" id=\"m729f139766\" style=\"stroke:#000000;stroke-width:0.8;\"/>\n      </defs>\n      <g>\n       <use style=\"stroke:#000000;stroke-width:0.8;\" x=\"39.65\" xlink:href=\"#m729f139766\" y=\"224.64\"/>\n      </g>\n     </g>\n     <g id=\"text_19\">\n      <!-- 0 -->\n      <g transform=\"translate(26.2875 228.439219)scale(0.1 -0.1)\">\n       <use xlink:href=\"#DejaVuSans-48\"/>\n      </g>\n     </g>\n    </g>\n    <g id=\"ytick_2\">\n     <g id=\"line2d_20\">\n      <g>\n       <use style=\"stroke:#000000;stroke-width:0.8;\" x=\"39.65\" xlink:href=\"#m729f139766\" y=\"195.717414\"/>\n      </g>\n     </g>\n     <g id=\"text_20\">\n      <!-- 200 -->\n      <g transform=\"translate(13.5625 199.516633)scale(0.1 -0.1)\">\n       <use xlink:href=\"#DejaVuSans-50\"/>\n       <use x=\"63.623047\" xlink:href=\"#DejaVuSans-48\"/>\n       <use x=\"127.246094\" xlink:href=\"#DejaVuSans-48\"/>\n      </g>\n     </g>\n    </g>\n    <g id=\"ytick_3\">\n     <g id=\"line2d_21\">\n      <g>\n       <use style=\"stroke:#000000;stroke-width:0.8;\" x=\"39.65\" xlink:href=\"#m729f139766\" y=\"166.794828\"/>\n      </g>\n     </g>\n     <g id=\"text_21\">\n      <!-- 400 -->\n      <g transform=\"translate(13.5625 170.594047)scale(0.1 -0.1)\">\n       <use xlink:href=\"#DejaVuSans-52\"/>\n       <use x=\"63.623047\" xlink:href=\"#DejaVuSans-48\"/>\n       <use x=\"127.246094\" xlink:href=\"#DejaVuSans-48\"/>\n      </g>\n     </g>\n    </g>\n    <g id=\"ytick_4\">\n     <g id=\"line2d_22\">\n      <g>\n       <use style=\"stroke:#000000;stroke-width:0.8;\" x=\"39.65\" xlink:href=\"#m729f139766\" y=\"137.872243\"/>\n      </g>\n     </g>\n     <g id=\"text_22\">\n      <!-- 600 -->\n      <g transform=\"translate(13.5625 141.671461)scale(0.1 -0.1)\">\n       <use xlink:href=\"#DejaVuSans-54\"/>\n       <use x=\"63.623047\" xlink:href=\"#DejaVuSans-48\"/>\n       <use x=\"127.246094\" xlink:href=\"#DejaVuSans-48\"/>\n      </g>\n     </g>\n    </g>\n    <g id=\"ytick_5\">\n     <g id=\"line2d_23\">\n      <g>\n       <use style=\"stroke:#000000;stroke-width:0.8;\" x=\"39.65\" xlink:href=\"#m729f139766\" y=\"108.949657\"/>\n      </g>\n     </g>\n     <g id=\"text_23\">\n      <!-- 800 -->\n      <g transform=\"translate(13.5625 112.748876)scale(0.1 -0.1)\">\n       <use xlink:href=\"#DejaVuSans-56\"/>\n       <use x=\"63.623047\" xlink:href=\"#DejaVuSans-48\"/>\n       <use x=\"127.246094\" xlink:href=\"#DejaVuSans-48\"/>\n      </g>\n     </g>\n    </g>\n    <g id=\"ytick_6\">\n     <g id=\"line2d_24\">\n      <g>\n       <use style=\"stroke:#000000;stroke-width:0.8;\" x=\"39.65\" xlink:href=\"#m729f139766\" y=\"80.027071\"/>\n      </g>\n     </g>\n     <g id=\"text_24\">\n      <!-- 1000 -->\n      <g transform=\"translate(7.2 83.82629)scale(0.1 -0.1)\">\n       <use xlink:href=\"#DejaVuSans-49\"/>\n       <use x=\"63.623047\" xlink:href=\"#DejaVuSans-48\"/>\n       <use x=\"127.246094\" xlink:href=\"#DejaVuSans-48\"/>\n       <use x=\"190.869141\" xlink:href=\"#DejaVuSans-48\"/>\n      </g>\n     </g>\n    </g>\n    <g id=\"ytick_7\">\n     <g id=\"line2d_25\">\n      <g>\n       <use style=\"stroke:#000000;stroke-width:0.8;\" x=\"39.65\" xlink:href=\"#m729f139766\" y=\"51.104485\"/>\n      </g>\n     </g>\n     <g id=\"text_25\">\n      <!-- 1200 -->\n      <g transform=\"translate(7.2 54.903704)scale(0.1 -0.1)\">\n       <use xlink:href=\"#DejaVuSans-49\"/>\n       <use x=\"63.623047\" xlink:href=\"#DejaVuSans-50\"/>\n       <use x=\"127.246094\" xlink:href=\"#DejaVuSans-48\"/>\n       <use x=\"190.869141\" xlink:href=\"#DejaVuSans-48\"/>\n      </g>\n     </g>\n    </g>\n    <g id=\"ytick_8\">\n     <g id=\"line2d_26\">\n      <g>\n       <use style=\"stroke:#000000;stroke-width:0.8;\" x=\"39.65\" xlink:href=\"#m729f139766\" y=\"22.181899\"/>\n      </g>\n     </g>\n     <g id=\"text_26\">\n      <!-- 1400 -->\n      <g transform=\"translate(7.2 25.981118)scale(0.1 -0.1)\">\n       <use xlink:href=\"#DejaVuSans-49\"/>\n       <use x=\"63.623047\" xlink:href=\"#DejaVuSans-52\"/>\n       <use x=\"127.246094\" xlink:href=\"#DejaVuSans-48\"/>\n       <use x=\"190.869141\" xlink:href=\"#DejaVuSans-48\"/>\n      </g>\n     </g>\n    </g>\n   </g>\n   <g id=\"patch_21\">\n    <path d=\"M 39.65 224.64 \nL 39.65 7.2 \n\" style=\"fill:none;stroke:#000000;stroke-linecap:square;stroke-linejoin:miter;stroke-width:0.8;\"/>\n   </g>\n   <g id=\"patch_22\">\n    <path d=\"M 374.45 224.64 \nL 374.45 7.2 \n\" style=\"fill:none;stroke:#000000;stroke-linecap:square;stroke-linejoin:miter;stroke-width:0.8;\"/>\n   </g>\n   <g id=\"patch_23\">\n    <path d=\"M 39.65 224.64 \nL 374.45 224.64 \n\" style=\"fill:none;stroke:#000000;stroke-linecap:square;stroke-linejoin:miter;stroke-width:0.8;\"/>\n   </g>\n   <g id=\"patch_24\">\n    <path d=\"M 39.65 7.2 \nL 374.45 7.2 \n\" style=\"fill:none;stroke:#000000;stroke-linecap:square;stroke-linejoin:miter;stroke-width:0.8;\"/>\n   </g>\n  </g>\n </g>\n <defs>\n  <clipPath id=\"pbcc837ff22\">\n   <rect height=\"217.44\" width=\"334.8\" x=\"39.65\" y=\"7.2\"/>\n  </clipPath>\n </defs>\n</svg>\n",
      "image/png": "[encoded data removed]"
     },
     "metadata": {
      "needs_background": "light"
     }
    }
   ],
   "source": [
    "print(games_df['SEASON'].unique())\n",
    "seasons = games_df['SEASON'].value_counts()\n",
    "seasons.plot(kind=\"bar\")"
   ]
  },
  {
   "cell_type": "code",
   "execution_count": 58,
   "metadata": {},
   "outputs": [
    {
     "output_type": "execute_result",
     "data": {
      "text/plain": [
       "<AxesSubplot:>"
      ]
     },
     "metadata": {},
     "execution_count": 58
    },
    {
     "output_type": "display_data",
     "data": {
      "text/plain": "<Figure size 432x288 with 1 Axes>",
      "image/svg+xml": "<?xml version=\"1.0\" encoding=\"utf-8\" standalone=\"no\"?>\n<!DOCTYPE svg PUBLIC \"-//W3C//DTD SVG 1.1//EN\"\n  \"http://www.w3.org/Graphics/SVG/1.1/DTD/svg11.dtd\">\n<!-- Created with matplotlib (https://matplotlib.org/) -->\n<svg height=\"245.2025pt\" version=\"1.1\" viewBox=\"0 0 372.103125 245.2025\" width=\"372.103125pt\" xmlns=\"http://www.w3.org/2000/svg\" xmlns:xlink=\"http://www.w3.org/1999/xlink\">\n <metadata>\n  <rdf:RDF xmlns:cc=\"http://creativecommons.org/ns#\" xmlns:dc=\"http://purl.org/dc/elements/1.1/\" xmlns:rdf=\"http://www.w3.org/1999/02/22-rdf-syntax-ns#\">\n   <cc:Work>\n    <dc:type rdf:resource=\"http://purl.org/dc/dcmitype/StillImage\"/>\n    <dc:date>2021-04-12T00:25:53.354886</dc:date>\n    <dc:format>image/svg+xml</dc:format>\n    <dc:creator>\n     <cc:Agent>\n      <dc:title>Matplotlib v3.3.4, https://matplotlib.org/</dc:title>\n     </cc:Agent>\n    </dc:creator>\n   </cc:Work>\n  </rdf:RDF>\n </metadata>\n <defs>\n  <style type=\"text/css\">*{stroke-linecap:butt;stroke-linejoin:round;}</style>\n </defs>\n <g id=\"figure_1\">\n  <g id=\"patch_1\">\n   <path d=\"M 0 245.2025 \nL 372.103125 245.2025 \nL 372.103125 0 \nL 0 0 \nz\n\" style=\"fill:none;\"/>\n  </g>\n  <g id=\"axes_1\">\n   <g id=\"patch_2\">\n    <path d=\"M 30.103125 224.64 \nL 364.903125 224.64 \nL 364.903125 7.2 \nL 30.103125 7.2 \nz\n\" style=\"fill:#ffffff;\"/>\n   </g>\n   <g id=\"patch_3\">\n    <path clip-path=\"url(#p6221e3251d)\" d=\"M 71.953125 224.64 \nL 155.653125 224.64 \nL 155.653125 17.554286 \nL 71.953125 17.554286 \nz\n\" style=\"fill:#1f77b4;\"/>\n   </g>\n   <g id=\"patch_4\">\n    <path clip-path=\"url(#p6221e3251d)\" d=\"M 239.353125 224.64 \nL 323.053125 224.64 \nL 323.053125 82.818836 \nL 239.353125 82.818836 \nz\n\" style=\"fill:#1f77b4;\"/>\n   </g>\n   <g id=\"matplotlib.axis_1\">\n    <g id=\"xtick_1\">\n     <g id=\"line2d_1\">\n      <defs>\n       <path d=\"M 0 0 \nL 0 3.5 \n\" id=\"m6b45fdd8fe\" style=\"stroke:#000000;stroke-width:0.8;\"/>\n      </defs>\n      <g>\n       <use style=\"stroke:#000000;stroke-width:0.8;\" x=\"113.803125\" xlink:href=\"#m6b45fdd8fe\" y=\"224.64\"/>\n      </g>\n     </g>\n     <g id=\"text_1\">\n      <!-- 1 -->\n      <g transform=\"translate(116.5625 238.0025)rotate(-90)scale(0.1 -0.1)\">\n       <defs>\n        <path d=\"M 12.40625 8.296875 \nL 28.515625 8.296875 \nL 28.515625 63.921875 \nL 10.984375 60.40625 \nL 10.984375 69.390625 \nL 28.421875 72.90625 \nL 38.28125 72.90625 \nL 38.28125 8.296875 \nL 54.390625 8.296875 \nL 54.390625 0 \nL 12.40625 0 \nz\n\" id=\"DejaVuSans-49\"/>\n       </defs>\n       <use xlink:href=\"#DejaVuSans-49\"/>\n      </g>\n     </g>\n    </g>\n    <g id=\"xtick_2\">\n     <g id=\"line2d_2\">\n      <g>\n       <use style=\"stroke:#000000;stroke-width:0.8;\" x=\"281.203125\" xlink:href=\"#m6b45fdd8fe\" y=\"224.64\"/>\n      </g>\n     </g>\n     <g id=\"text_2\">\n      <!-- 0 -->\n      <g transform=\"translate(283.9625 238.0025)rotate(-90)scale(0.1 -0.1)\">\n       <defs>\n        <path d=\"M 31.78125 66.40625 \nQ 24.171875 66.40625 20.328125 58.90625 \nQ 16.5 51.421875 16.5 36.375 \nQ 16.5 21.390625 20.328125 13.890625 \nQ 24.171875 6.390625 31.78125 6.390625 \nQ 39.453125 6.390625 43.28125 13.890625 \nQ 47.125 21.390625 47.125 36.375 \nQ 47.125 51.421875 43.28125 58.90625 \nQ 39.453125 66.40625 31.78125 66.40625 \nz\nM 31.78125 74.21875 \nQ 44.046875 74.21875 50.515625 64.515625 \nQ 56.984375 54.828125 56.984375 36.375 \nQ 56.984375 17.96875 50.515625 8.265625 \nQ 44.046875 -1.421875 31.78125 -1.421875 \nQ 19.53125 -1.421875 13.0625 8.265625 \nQ 6.59375 17.96875 6.59375 36.375 \nQ 6.59375 54.828125 13.0625 64.515625 \nQ 19.53125 74.21875 31.78125 74.21875 \nz\n\" id=\"DejaVuSans-48\"/>\n       </defs>\n       <use xlink:href=\"#DejaVuSans-48\"/>\n      </g>\n     </g>\n    </g>\n   </g>\n   <g id=\"matplotlib.axis_2\">\n    <g id=\"ytick_1\">\n     <g id=\"line2d_3\">\n      <defs>\n       <path d=\"M 0 0 \nL -3.5 0 \n\" id=\"mbe0c8bae1d\" style=\"stroke:#000000;stroke-width:0.8;\"/>\n      </defs>\n      <g>\n       <use style=\"stroke:#000000;stroke-width:0.8;\" x=\"30.103125\" xlink:href=\"#mbe0c8bae1d\" y=\"224.64\"/>\n      </g>\n     </g>\n     <g id=\"text_3\">\n      <!-- 0.0 -->\n      <g transform=\"translate(7.2 228.439219)scale(0.1 -0.1)\">\n       <defs>\n        <path d=\"M 10.6875 12.40625 \nL 21 12.40625 \nL 21 0 \nL 10.6875 0 \nz\n\" id=\"DejaVuSans-46\"/>\n       </defs>\n       <use xlink:href=\"#DejaVuSans-48\"/>\n       <use x=\"63.623047\" xlink:href=\"#DejaVuSans-46\"/>\n       <use x=\"95.410156\" xlink:href=\"#DejaVuSans-48\"/>\n      </g>\n     </g>\n    </g>\n    <g id=\"ytick_2\">\n     <g id=\"line2d_4\">\n      <g>\n       <use style=\"stroke:#000000;stroke-width:0.8;\" x=\"30.103125\" xlink:href=\"#mbe0c8bae1d\" y=\"189.749312\"/>\n      </g>\n     </g>\n     <g id=\"text_4\">\n      <!-- 0.1 -->\n      <g transform=\"translate(7.2 193.548531)scale(0.1 -0.1)\">\n       <use xlink:href=\"#DejaVuSans-48\"/>\n       <use x=\"63.623047\" xlink:href=\"#DejaVuSans-46\"/>\n       <use x=\"95.410156\" xlink:href=\"#DejaVuSans-49\"/>\n      </g>\n     </g>\n    </g>\n    <g id=\"ytick_3\">\n     <g id=\"line2d_5\">\n      <g>\n       <use style=\"stroke:#000000;stroke-width:0.8;\" x=\"30.103125\" xlink:href=\"#mbe0c8bae1d\" y=\"154.858624\"/>\n      </g>\n     </g>\n     <g id=\"text_5\">\n      <!-- 0.2 -->\n      <g transform=\"translate(7.2 158.657843)scale(0.1 -0.1)\">\n       <defs>\n        <path d=\"M 19.1875 8.296875 \nL 53.609375 8.296875 \nL 53.609375 0 \nL 7.328125 0 \nL 7.328125 8.296875 \nQ 12.9375 14.109375 22.625 23.890625 \nQ 32.328125 33.6875 34.8125 36.53125 \nQ 39.546875 41.84375 41.421875 45.53125 \nQ 43.3125 49.21875 43.3125 52.78125 \nQ 43.3125 58.59375 39.234375 62.25 \nQ 35.15625 65.921875 28.609375 65.921875 \nQ 23.96875 65.921875 18.8125 64.3125 \nQ 13.671875 62.703125 7.8125 59.421875 \nL 7.8125 69.390625 \nQ 13.765625 71.78125 18.9375 73 \nQ 24.125 74.21875 28.421875 74.21875 \nQ 39.75 74.21875 46.484375 68.546875 \nQ 53.21875 62.890625 53.21875 53.421875 \nQ 53.21875 48.921875 51.53125 44.890625 \nQ 49.859375 40.875 45.40625 35.40625 \nQ 44.1875 33.984375 37.640625 27.21875 \nQ 31.109375 20.453125 19.1875 8.296875 \nz\n\" id=\"DejaVuSans-50\"/>\n       </defs>\n       <use xlink:href=\"#DejaVuSans-48\"/>\n       <use x=\"63.623047\" xlink:href=\"#DejaVuSans-46\"/>\n       <use x=\"95.410156\" xlink:href=\"#DejaVuSans-50\"/>\n      </g>\n     </g>\n    </g>\n    <g id=\"ytick_4\">\n     <g id=\"line2d_6\">\n      <g>\n       <use style=\"stroke:#000000;stroke-width:0.8;\" x=\"30.103125\" xlink:href=\"#mbe0c8bae1d\" y=\"119.967937\"/>\n      </g>\n     </g>\n     <g id=\"text_6\">\n      <!-- 0.3 -->\n      <g transform=\"translate(7.2 123.767155)scale(0.1 -0.1)\">\n       <defs>\n        <path d=\"M 40.578125 39.3125 \nQ 47.65625 37.796875 51.625 33 \nQ 55.609375 28.21875 55.609375 21.1875 \nQ 55.609375 10.40625 48.1875 4.484375 \nQ 40.765625 -1.421875 27.09375 -1.421875 \nQ 22.515625 -1.421875 17.65625 -0.515625 \nQ 12.796875 0.390625 7.625 2.203125 \nL 7.625 11.71875 \nQ 11.71875 9.328125 16.59375 8.109375 \nQ 21.484375 6.890625 26.8125 6.890625 \nQ 36.078125 6.890625 40.9375 10.546875 \nQ 45.796875 14.203125 45.796875 21.1875 \nQ 45.796875 27.640625 41.28125 31.265625 \nQ 36.765625 34.90625 28.71875 34.90625 \nL 20.21875 34.90625 \nL 20.21875 43.015625 \nL 29.109375 43.015625 \nQ 36.375 43.015625 40.234375 45.921875 \nQ 44.09375 48.828125 44.09375 54.296875 \nQ 44.09375 59.90625 40.109375 62.90625 \nQ 36.140625 65.921875 28.71875 65.921875 \nQ 24.65625 65.921875 20.015625 65.03125 \nQ 15.375 64.15625 9.8125 62.3125 \nL 9.8125 71.09375 \nQ 15.4375 72.65625 20.34375 73.4375 \nQ 25.25 74.21875 29.59375 74.21875 \nQ 40.828125 74.21875 47.359375 69.109375 \nQ 53.90625 64.015625 53.90625 55.328125 \nQ 53.90625 49.265625 50.4375 45.09375 \nQ 46.96875 40.921875 40.578125 39.3125 \nz\n\" id=\"DejaVuSans-51\"/>\n       </defs>\n       <use xlink:href=\"#DejaVuSans-48\"/>\n       <use x=\"63.623047\" xlink:href=\"#DejaVuSans-46\"/>\n       <use x=\"95.410156\" xlink:href=\"#DejaVuSans-51\"/>\n      </g>\n     </g>\n    </g>\n    <g id=\"ytick_5\">\n     <g id=\"line2d_7\">\n      <g>\n       <use style=\"stroke:#000000;stroke-width:0.8;\" x=\"30.103125\" xlink:href=\"#mbe0c8bae1d\" y=\"85.077249\"/>\n      </g>\n     </g>\n     <g id=\"text_7\">\n      <!-- 0.4 -->\n      <g transform=\"translate(7.2 88.876467)scale(0.1 -0.1)\">\n       <defs>\n        <path d=\"M 37.796875 64.3125 \nL 12.890625 25.390625 \nL 37.796875 25.390625 \nz\nM 35.203125 72.90625 \nL 47.609375 72.90625 \nL 47.609375 25.390625 \nL 58.015625 25.390625 \nL 58.015625 17.1875 \nL 47.609375 17.1875 \nL 47.609375 0 \nL 37.796875 0 \nL 37.796875 17.1875 \nL 4.890625 17.1875 \nL 4.890625 26.703125 \nz\n\" id=\"DejaVuSans-52\"/>\n       </defs>\n       <use xlink:href=\"#DejaVuSans-48\"/>\n       <use x=\"63.623047\" xlink:href=\"#DejaVuSans-46\"/>\n       <use x=\"95.410156\" xlink:href=\"#DejaVuSans-52\"/>\n      </g>\n     </g>\n    </g>\n    <g id=\"ytick_6\">\n     <g id=\"line2d_8\">\n      <g>\n       <use style=\"stroke:#000000;stroke-width:0.8;\" x=\"30.103125\" xlink:href=\"#mbe0c8bae1d\" y=\"50.186561\"/>\n      </g>\n     </g>\n     <g id=\"text_8\">\n      <!-- 0.5 -->\n      <g transform=\"translate(7.2 53.98578)scale(0.1 -0.1)\">\n       <defs>\n        <path d=\"M 10.796875 72.90625 \nL 49.515625 72.90625 \nL 49.515625 64.59375 \nL 19.828125 64.59375 \nL 19.828125 46.734375 \nQ 21.96875 47.46875 24.109375 47.828125 \nQ 26.265625 48.1875 28.421875 48.1875 \nQ 40.625 48.1875 47.75 41.5 \nQ 54.890625 34.8125 54.890625 23.390625 \nQ 54.890625 11.625 47.5625 5.09375 \nQ 40.234375 -1.421875 26.90625 -1.421875 \nQ 22.3125 -1.421875 17.546875 -0.640625 \nQ 12.796875 0.140625 7.71875 1.703125 \nL 7.71875 11.625 \nQ 12.109375 9.234375 16.796875 8.0625 \nQ 21.484375 6.890625 26.703125 6.890625 \nQ 35.15625 6.890625 40.078125 11.328125 \nQ 45.015625 15.765625 45.015625 23.390625 \nQ 45.015625 31 40.078125 35.4375 \nQ 35.15625 39.890625 26.703125 39.890625 \nQ 22.75 39.890625 18.8125 39.015625 \nQ 14.890625 38.140625 10.796875 36.28125 \nz\n\" id=\"DejaVuSans-53\"/>\n       </defs>\n       <use xlink:href=\"#DejaVuSans-48\"/>\n       <use x=\"63.623047\" xlink:href=\"#DejaVuSans-46\"/>\n       <use x=\"95.410156\" xlink:href=\"#DejaVuSans-53\"/>\n      </g>\n     </g>\n    </g>\n    <g id=\"ytick_7\">\n     <g id=\"line2d_9\">\n      <g>\n       <use style=\"stroke:#000000;stroke-width:0.8;\" x=\"30.103125\" xlink:href=\"#mbe0c8bae1d\" y=\"15.295873\"/>\n      </g>\n     </g>\n     <g id=\"text_9\">\n      <!-- 0.6 -->\n      <g transform=\"translate(7.2 19.095092)scale(0.1 -0.1)\">\n       <defs>\n        <path d=\"M 33.015625 40.375 \nQ 26.375 40.375 22.484375 35.828125 \nQ 18.609375 31.296875 18.609375 23.390625 \nQ 18.609375 15.53125 22.484375 10.953125 \nQ 26.375 6.390625 33.015625 6.390625 \nQ 39.65625 6.390625 43.53125 10.953125 \nQ 47.40625 15.53125 47.40625 23.390625 \nQ 47.40625 31.296875 43.53125 35.828125 \nQ 39.65625 40.375 33.015625 40.375 \nz\nM 52.59375 71.296875 \nL 52.59375 62.3125 \nQ 48.875 64.0625 45.09375 64.984375 \nQ 41.3125 65.921875 37.59375 65.921875 \nQ 27.828125 65.921875 22.671875 59.328125 \nQ 17.53125 52.734375 16.796875 39.40625 \nQ 19.671875 43.65625 24.015625 45.921875 \nQ 28.375 48.1875 33.59375 48.1875 \nQ 44.578125 48.1875 50.953125 41.515625 \nQ 57.328125 34.859375 57.328125 23.390625 \nQ 57.328125 12.15625 50.6875 5.359375 \nQ 44.046875 -1.421875 33.015625 -1.421875 \nQ 20.359375 -1.421875 13.671875 8.265625 \nQ 6.984375 17.96875 6.984375 36.375 \nQ 6.984375 53.65625 15.1875 63.9375 \nQ 23.390625 74.21875 37.203125 74.21875 \nQ 40.921875 74.21875 44.703125 73.484375 \nQ 48.484375 72.75 52.59375 71.296875 \nz\n\" id=\"DejaVuSans-54\"/>\n       </defs>\n       <use xlink:href=\"#DejaVuSans-48\"/>\n       <use x=\"63.623047\" xlink:href=\"#DejaVuSans-46\"/>\n       <use x=\"95.410156\" xlink:href=\"#DejaVuSans-54\"/>\n      </g>\n     </g>\n    </g>\n   </g>\n   <g id=\"patch_5\">\n    <path d=\"M 30.103125 224.64 \nL 30.103125 7.2 \n\" style=\"fill:none;stroke:#000000;stroke-linecap:square;stroke-linejoin:miter;stroke-width:0.8;\"/>\n   </g>\n   <g id=\"patch_6\">\n    <path d=\"M 364.903125 224.64 \nL 364.903125 7.2 \n\" style=\"fill:none;stroke:#000000;stroke-linecap:square;stroke-linejoin:miter;stroke-width:0.8;\"/>\n   </g>\n   <g id=\"patch_7\">\n    <path d=\"M 30.103125 224.64 \nL 364.903125 224.64 \n\" style=\"fill:none;stroke:#000000;stroke-linecap:square;stroke-linejoin:miter;stroke-width:0.8;\"/>\n   </g>\n   <g id=\"patch_8\">\n    <path d=\"M 30.103125 7.2 \nL 364.903125 7.2 \n\" style=\"fill:none;stroke:#000000;stroke-linecap:square;stroke-linejoin:miter;stroke-width:0.8;\"/>\n   </g>\n  </g>\n </g>\n <defs>\n  <clipPath id=\"p6221e3251d\">\n   <rect height=\"217.44\" width=\"334.8\" x=\"30.103125\" y=\"7.2\"/>\n  </clipPath>\n </defs>\n</svg>\n",
      "image/png": "[encoded data removed]"
     },
     "metadata": {
      "needs_background": "light"
     }
    }
   ],
   "source": [
    "target = games_df['HOME_TEAM_WINS'].value_counts(normalize=True)\n",
    "target.plot(kind=\"bar\")"
   ]
  },
  {
   "cell_type": "code",
   "execution_count": 59,
   "metadata": {
    "tags": []
   },
   "outputs": [
    {
     "output_type": "stream",
     "name": "stdout",
     "text": [
      "0 1000\n",
      "1000 2000\n",
      "2000 3000\n",
      "3000 4000\n",
      "4000 5000\n",
      "5000 6000\n",
      "6000 7000\n",
      "7000 8000\n",
      "8000 9000\n",
      "9000 10000\n",
      "10000 11000\n",
      "11000 12000\n",
      "12000 13000\n",
      "13000 14000\n",
      "14000 15000\n",
      "15000 16000\n",
      "16000 17000\n",
      "17000 18000\n",
      "18000 19000\n",
      "19000 20000\n",
      "20000 21000\n",
      "21000 22000\n",
      "22000 23000\n",
      "23000 24000\n"
     ]
    }
   ],
   "source": [
    "_games = games_df\n",
    "step= 1000\n",
    "\n",
    "for i in range(0,len(_games),step):\n",
    "    print(i, i+step)\n",
    "    formated_games=prepare_games_data(_games[i: i+step])\n",
    "    formated_games.to_csv(f'../data/model_dataset/extended_games_formated_{i}.csv', index=False)"
   ]
  },
  {
   "cell_type": "code",
   "execution_count": 60,
   "metadata": {},
   "outputs": [
    {
     "output_type": "stream",
     "name": "stdout",
     "text": [
      "0 955 955\n",
      "1000 1000 1955\n",
      "2000 1000 2955\n",
      "3000 1000 3955\n",
      "4000 1000 4955\n",
      "5000 1000 5955\n",
      "6000 1000 6955\n",
      "7000 1000 7955\n",
      "8000 1000 8955\n",
      "9000 1000 9955\n",
      "10000 1000 10955\n",
      "11000 1000 11955\n",
      "12000 1000 12955\n",
      "13000 1000 13955\n",
      "14000 1000 14955\n",
      "15000 1000 15955\n",
      "16000 1000 16955\n",
      "17000 1000 17955\n",
      "18000 1000 18955\n",
      "19000 1000 19955\n",
      "20000 1000 20955\n",
      "21000 1000 21955\n",
      "22000 1000 22955\n",
      "23000 421 23376\n",
      "23376\n"
     ]
    }
   ],
   "source": [
    "data_frames = []\n",
    "total=0\n",
    "for i in range(0,len(_games),step):\n",
    "    df = pd.read_csv(f'../data/model_dataset/extended_games_formated_{i}.csv') \n",
    "    data_frames.append(df)\n",
    "    total+=len(df)\n",
    "    print(i, len(df), total )\n",
    "\n",
    "result  = pd.concat(data_frames)\n",
    "print(len(result))"
   ]
  },
  {
   "cell_type": "code",
   "execution_count": 61,
   "metadata": {},
   "outputs": [],
   "source": [
    "result.to_csv(f'../data/model_dataset/extended_dataset.csv', index=False)"
   ]
  }
 ]
}