{
  "nbformat": 4,
  "nbformat_minor": 0,
  "metadata": {
    "colab": {
      "name": "nba_sklearn_model.ipynb",
      "provenance": [],
      "collapsed_sections": []
    },
    "kernelspec": {
      "name": "python3",
      "display_name": "Python 3"
    },
    "language_info": {
      "name": "python"
    }
  },
  "cells": [
    {
      "cell_type": "code",
      "metadata": {
        "colab": {
          "base_uri": "https://localhost:8080/"
        },
        "id": "XmoBFRH5HMDx",
        "outputId": "426c28fd-ddba-446e-d04b-41f3aa8e2638"
      },
      "source": [
        "from google.colab import drive\n",
        "drive.mount('/gdrive')\n",
        "%cd \"/gdrive/MyDrive/clue\""
      ],
      "execution_count": 1,
      "outputs": [
        {
          "output_type": "stream",
          "text": [
            "Mounted at /gdrive\n",
            "/gdrive/MyDrive/clue\n"
          ],
          "name": "stdout"
        }
      ]
    },
    {
      "cell_type": "code",
      "metadata": {
        "id": "9KguVW3RHfg2"
      },
      "source": [
        "import pandas as pd\n",
        "import matplotlib.pyplot as plt\n",
        "import numpy as np"
      ],
      "execution_count": 21,
      "outputs": []
    },
    {
      "cell_type": "code",
      "metadata": {
        "colab": {
          "base_uri": "https://localhost:8080/",
          "height": 224
        },
        "id": "W-ELTeqeHM9R",
        "outputId": "0fd1bd32-e70d-44be-df9c-8b6e0fb79f21"
      },
      "source": [
        "# Other constants\n",
        "DATASET_DIR = \"./\"\n",
        "DATA_FILENAME = \"extended_dataset.csv\"\n",
        "\n",
        "dataframe = pd.read_csv(f\"{DATASET_DIR}{DATA_FILENAME}\")\n",
        "dataframe.sample(5)"
      ],
      "execution_count": 22,
      "outputs": [
        {
          "output_type": "execute_result",
          "data": {
            "text/html": [
              "<div>\n",
              "<style scoped>\n",
              "    .dataframe tbody tr th:only-of-type {\n",
              "        vertical-align: middle;\n",
              "    }\n",
              "\n",
              "    .dataframe tbody tr th {\n",
              "        vertical-align: top;\n",
              "    }\n",
              "\n",
              "    .dataframe thead th {\n",
              "        text-align: right;\n",
              "    }\n",
              "</style>\n",
              "<table border=\"1\" class=\"dataframe\">\n",
              "  <thead>\n",
              "    <tr style=\"text-align: right;\">\n",
              "      <th></th>\n",
              "      <th>GAME_ID</th>\n",
              "      <th>W_PCT_home</th>\n",
              "      <th>HOME_RECORD_home</th>\n",
              "      <th>ROAD_RECORD_home</th>\n",
              "      <th>W_PCT_prev_home</th>\n",
              "      <th>HOME_RECORD_prev_home</th>\n",
              "      <th>ROAD_RECORD_prev_home</th>\n",
              "      <th>W_PCT_away</th>\n",
              "      <th>HOME_RECORD_away</th>\n",
              "      <th>ROAD_RECORD_away</th>\n",
              "      <th>W_PCT_prev_away</th>\n",
              "      <th>HOME_RECORD_prev_away</th>\n",
              "      <th>ROAD_RECORD_prev_away</th>\n",
              "      <th>WIN_PRCT_home_3g</th>\n",
              "      <th>PTS_home_3g</th>\n",
              "      <th>FG_PCT_home_3g</th>\n",
              "      <th>FT_PCT_home_3g</th>\n",
              "      <th>FG3_PCT_home_3g</th>\n",
              "      <th>AST_home_3g</th>\n",
              "      <th>REB_home_3g</th>\n",
              "      <th>WIN_PRCT_away_3g</th>\n",
              "      <th>PTS_away_3g</th>\n",
              "      <th>FG_PCT_away_3g</th>\n",
              "      <th>FT_PCT_away_3g</th>\n",
              "      <th>FG3_PCT_away_3g</th>\n",
              "      <th>AST_away_3g</th>\n",
              "      <th>REB_away_3g</th>\n",
              "      <th>WIN_PRCT_home_20g</th>\n",
              "      <th>PTS_home_20g</th>\n",
              "      <th>FG_PCT_home_20g</th>\n",
              "      <th>FT_PCT_home_20g</th>\n",
              "      <th>FG3_PCT_home_20g</th>\n",
              "      <th>AST_home_20g</th>\n",
              "      <th>REB_home_20g</th>\n",
              "      <th>WIN_PRCT_away_20g</th>\n",
              "      <th>PTS_away_20g</th>\n",
              "      <th>FG_PCT_away_20g</th>\n",
              "      <th>FT_PCT_away_20g</th>\n",
              "      <th>FG3_PCT_away_20g</th>\n",
              "      <th>AST_away_20g</th>\n",
              "      <th>REB_away_20g</th>\n",
              "      <th>SEASON</th>\n",
              "      <th>HOME_TEAM_WINS</th>\n",
              "    </tr>\n",
              "  </thead>\n",
              "  <tbody>\n",
              "    <tr>\n",
              "      <th>18432</th>\n",
              "      <td>21600416</td>\n",
              "      <td>0.269</td>\n",
              "      <td>0.230769</td>\n",
              "      <td>0.307692</td>\n",
              "      <td>0.354</td>\n",
              "      <td>0.341463</td>\n",
              "      <td>0.365854</td>\n",
              "      <td>0.296</td>\n",
              "      <td>0.333333</td>\n",
              "      <td>0.266667</td>\n",
              "      <td>0.280</td>\n",
              "      <td>0.341463</td>\n",
              "      <td>0.219512</td>\n",
              "      <td>0.333333</td>\n",
              "      <td>105.333333</td>\n",
              "      <td>0.444000</td>\n",
              "      <td>0.754667</td>\n",
              "      <td>0.331333</td>\n",
              "      <td>23.333333</td>\n",
              "      <td>51.333333</td>\n",
              "      <td>0.333333</td>\n",
              "      <td>102.000000</td>\n",
              "      <td>0.414000</td>\n",
              "      <td>0.792000</td>\n",
              "      <td>0.344667</td>\n",
              "      <td>14.666667</td>\n",
              "      <td>46.333333</td>\n",
              "      <td>0.30</td>\n",
              "      <td>104.20</td>\n",
              "      <td>0.4523</td>\n",
              "      <td>0.78595</td>\n",
              "      <td>0.32515</td>\n",
              "      <td>22.55</td>\n",
              "      <td>43.20</td>\n",
              "      <td>0.30</td>\n",
              "      <td>106.50</td>\n",
              "      <td>0.44285</td>\n",
              "      <td>0.77320</td>\n",
              "      <td>0.35125</td>\n",
              "      <td>18.35</td>\n",
              "      <td>44.80</td>\n",
              "      <td>2016</td>\n",
              "      <td>1</td>\n",
              "    </tr>\n",
              "    <tr>\n",
              "      <th>11459</th>\n",
              "      <td>21100375</td>\n",
              "      <td>0.200</td>\n",
              "      <td>0.285714</td>\n",
              "      <td>0.090909</td>\n",
              "      <td>0.280</td>\n",
              "      <td>0.487805</td>\n",
              "      <td>0.073171</td>\n",
              "      <td>0.400</td>\n",
              "      <td>0.461538</td>\n",
              "      <td>0.333333</td>\n",
              "      <td>0.512</td>\n",
              "      <td>0.560976</td>\n",
              "      <td>0.463415</td>\n",
              "      <td>0.333333</td>\n",
              "      <td>93.666667</td>\n",
              "      <td>0.414000</td>\n",
              "      <td>0.687000</td>\n",
              "      <td>0.328333</td>\n",
              "      <td>14.666667</td>\n",
              "      <td>36.666667</td>\n",
              "      <td>0.666667</td>\n",
              "      <td>95.666667</td>\n",
              "      <td>0.450000</td>\n",
              "      <td>0.795667</td>\n",
              "      <td>0.221333</td>\n",
              "      <td>19.333333</td>\n",
              "      <td>41.000000</td>\n",
              "      <td>0.25</td>\n",
              "      <td>91.15</td>\n",
              "      <td>0.4267</td>\n",
              "      <td>0.71190</td>\n",
              "      <td>0.29435</td>\n",
              "      <td>18.05</td>\n",
              "      <td>42.20</td>\n",
              "      <td>0.40</td>\n",
              "      <td>95.55</td>\n",
              "      <td>0.43435</td>\n",
              "      <td>0.77565</td>\n",
              "      <td>0.28615</td>\n",
              "      <td>19.35</td>\n",
              "      <td>43.20</td>\n",
              "      <td>2011</td>\n",
              "      <td>0</td>\n",
              "    </tr>\n",
              "    <tr>\n",
              "      <th>290</th>\n",
              "      <td>20300321</td>\n",
              "      <td>0.292</td>\n",
              "      <td>0.400000</td>\n",
              "      <td>0.214286</td>\n",
              "      <td>0.427</td>\n",
              "      <td>0.634146</td>\n",
              "      <td>0.219512</td>\n",
              "      <td>0.130</td>\n",
              "      <td>0.076923</td>\n",
              "      <td>0.200000</td>\n",
              "      <td>0.512</td>\n",
              "      <td>0.634146</td>\n",
              "      <td>0.390244</td>\n",
              "      <td>0.333333</td>\n",
              "      <td>98.000000</td>\n",
              "      <td>0.475000</td>\n",
              "      <td>0.767000</td>\n",
              "      <td>0.285667</td>\n",
              "      <td>26.333333</td>\n",
              "      <td>45.000000</td>\n",
              "      <td>0.666667</td>\n",
              "      <td>98.333333</td>\n",
              "      <td>0.423667</td>\n",
              "      <td>0.887667</td>\n",
              "      <td>0.460000</td>\n",
              "      <td>21.666667</td>\n",
              "      <td>42.666667</td>\n",
              "      <td>0.30</td>\n",
              "      <td>91.25</td>\n",
              "      <td>0.4412</td>\n",
              "      <td>0.79195</td>\n",
              "      <td>0.28050</td>\n",
              "      <td>20.20</td>\n",
              "      <td>43.10</td>\n",
              "      <td>0.10</td>\n",
              "      <td>90.40</td>\n",
              "      <td>0.41510</td>\n",
              "      <td>0.74070</td>\n",
              "      <td>0.35285</td>\n",
              "      <td>17.95</td>\n",
              "      <td>41.65</td>\n",
              "      <td>2003</td>\n",
              "      <td>0</td>\n",
              "    </tr>\n",
              "    <tr>\n",
              "      <th>15733</th>\n",
              "      <td>21400629</td>\n",
              "      <td>0.381</td>\n",
              "      <td>0.285714</td>\n",
              "      <td>0.476190</td>\n",
              "      <td>0.354</td>\n",
              "      <td>0.414634</td>\n",
              "      <td>0.292683</td>\n",
              "      <td>0.341</td>\n",
              "      <td>0.263158</td>\n",
              "      <td>0.400000</td>\n",
              "      <td>0.280</td>\n",
              "      <td>0.463415</td>\n",
              "      <td>0.097561</td>\n",
              "      <td>0.666667</td>\n",
              "      <td>95.666667</td>\n",
              "      <td>0.387333</td>\n",
              "      <td>0.764667</td>\n",
              "      <td>0.368333</td>\n",
              "      <td>20.333333</td>\n",
              "      <td>52.333333</td>\n",
              "      <td>0.333333</td>\n",
              "      <td>105.000000</td>\n",
              "      <td>0.447667</td>\n",
              "      <td>0.804333</td>\n",
              "      <td>0.356333</td>\n",
              "      <td>20.666667</td>\n",
              "      <td>37.000000</td>\n",
              "      <td>0.65</td>\n",
              "      <td>102.65</td>\n",
              "      <td>0.4457</td>\n",
              "      <td>0.69615</td>\n",
              "      <td>0.35595</td>\n",
              "      <td>22.55</td>\n",
              "      <td>47.05</td>\n",
              "      <td>0.30</td>\n",
              "      <td>95.30</td>\n",
              "      <td>0.45020</td>\n",
              "      <td>0.73130</td>\n",
              "      <td>0.35820</td>\n",
              "      <td>21.05</td>\n",
              "      <td>39.05</td>\n",
              "      <td>2014</td>\n",
              "      <td>1</td>\n",
              "    </tr>\n",
              "    <tr>\n",
              "      <th>738</th>\n",
              "      <td>20300770</td>\n",
              "      <td>0.574</td>\n",
              "      <td>0.714286</td>\n",
              "      <td>0.423077</td>\n",
              "      <td>0.207</td>\n",
              "      <td>0.317073</td>\n",
              "      <td>0.097561</td>\n",
              "      <td>0.415</td>\n",
              "      <td>0.481481</td>\n",
              "      <td>0.346154</td>\n",
              "      <td>0.585</td>\n",
              "      <td>0.609756</td>\n",
              "      <td>0.560976</td>\n",
              "      <td>0.666667</td>\n",
              "      <td>95.000000</td>\n",
              "      <td>0.453667</td>\n",
              "      <td>0.743333</td>\n",
              "      <td>0.421333</td>\n",
              "      <td>21.000000</td>\n",
              "      <td>41.000000</td>\n",
              "      <td>0.333333</td>\n",
              "      <td>93.333333</td>\n",
              "      <td>0.438333</td>\n",
              "      <td>0.743667</td>\n",
              "      <td>0.215667</td>\n",
              "      <td>21.000000</td>\n",
              "      <td>41.666667</td>\n",
              "      <td>0.55</td>\n",
              "      <td>96.40</td>\n",
              "      <td>0.4662</td>\n",
              "      <td>0.76565</td>\n",
              "      <td>0.30100</td>\n",
              "      <td>22.25</td>\n",
              "      <td>40.95</td>\n",
              "      <td>0.35</td>\n",
              "      <td>90.55</td>\n",
              "      <td>0.43365</td>\n",
              "      <td>0.74265</td>\n",
              "      <td>0.29335</td>\n",
              "      <td>19.55</td>\n",
              "      <td>43.95</td>\n",
              "      <td>2003</td>\n",
              "      <td>1</td>\n",
              "    </tr>\n",
              "  </tbody>\n",
              "</table>\n",
              "</div>"
            ],
            "text/plain": [
              "        GAME_ID  W_PCT_home  ...  SEASON  HOME_TEAM_WINS\n",
              "18432  21600416       0.269  ...    2016               1\n",
              "11459  21100375       0.200  ...    2011               0\n",
              "290    20300321       0.292  ...    2003               0\n",
              "15733  21400629       0.381  ...    2014               1\n",
              "738    20300770       0.574  ...    2003               1\n",
              "\n",
              "[5 rows x 43 columns]"
            ]
          },
          "metadata": {
            "tags": []
          },
          "execution_count": 22
        }
      ]
    },
    {
      "cell_type": "code",
      "metadata": {
        "colab": {
          "base_uri": "https://localhost:8080/",
          "height": 296
        },
        "id": "ZZbNKwyYHcmh",
        "outputId": "336d3397-47e0-40bc-a4ce-511159d75c0a"
      },
      "source": [
        "TARGET=\"HOME_TEAM_WINS\"\n",
        "input_size=len(dataframe.columns)-1\n",
        "classes  = [\"NO\", \"YES\"]\n",
        "output_size=len(classes)\n",
        "print(input_size,  output_size,  classes)\n",
        "\n",
        "target = dataframe[TARGET].value_counts()\n",
        "target.plot(kind=\"bar\")"
      ],
      "execution_count": 23,
      "outputs": [
        {
          "output_type": "stream",
          "text": [
            "42 2 ['NO', 'YES']\n"
          ],
          "name": "stdout"
        },
        {
          "output_type": "execute_result",
          "data": {
            "text/plain": [
              "<matplotlib.axes._subplots.AxesSubplot at 0x7f398b000a50>"
            ]
          },
          "metadata": {
            "tags": []
          },
          "execution_count": 23
        },
        {
          "output_type": "display_data",
          "data": {
            "image/png": "[encoded data removed]",
            "text/plain": [
              "<Figure size 432x288 with 1 Axes>"
            ]
          },
          "metadata": {
            "tags": [],
            "needs_background": "light"
          }
        }
      ]
    },
    {
      "cell_type": "code",
      "metadata": {
        "colab": {
          "base_uri": "https://localhost:8080/"
        },
        "id": "OEQsVi46HvaL",
        "outputId": "fd3c3865-1042-4eef-b394-44bbafa501a9"
      },
      "source": [
        "# Remove rows with nan values\n",
        "initial_len =  len(dataframe)\n",
        "dataframe.dropna(inplace=True)\n",
        "print(f\"{len(dataframe)}/{initial_len}\")\n",
        "\n",
        "dataframe.info()"
      ],
      "execution_count": 24,
      "outputs": [
        {
          "output_type": "stream",
          "text": [
            "23279/23376\n",
            "<class 'pandas.core.frame.DataFrame'>\n",
            "Int64Index: 23279 entries, 1 to 23375\n",
            "Data columns (total 43 columns):\n",
            " #   Column                 Non-Null Count  Dtype  \n",
            "---  ------                 --------------  -----  \n",
            " 0   GAME_ID                23279 non-null  int64  \n",
            " 1   W_PCT_home             23279 non-null  float64\n",
            " 2   HOME_RECORD_home       23279 non-null  float64\n",
            " 3   ROAD_RECORD_home       23279 non-null  float64\n",
            " 4   W_PCT_prev_home        23279 non-null  float64\n",
            " 5   HOME_RECORD_prev_home  23279 non-null  float64\n",
            " 6   ROAD_RECORD_prev_home  23279 non-null  float64\n",
            " 7   W_PCT_away             23279 non-null  float64\n",
            " 8   HOME_RECORD_away       23279 non-null  float64\n",
            " 9   ROAD_RECORD_away       23279 non-null  float64\n",
            " 10  W_PCT_prev_away        23279 non-null  float64\n",
            " 11  HOME_RECORD_prev_away  23279 non-null  float64\n",
            " 12  ROAD_RECORD_prev_away  23279 non-null  float64\n",
            " 13  WIN_PRCT_home_3g       23279 non-null  float64\n",
            " 14  PTS_home_3g            23279 non-null  float64\n",
            " 15  FG_PCT_home_3g         23279 non-null  float64\n",
            " 16  FT_PCT_home_3g         23279 non-null  float64\n",
            " 17  FG3_PCT_home_3g        23279 non-null  float64\n",
            " 18  AST_home_3g            23279 non-null  float64\n",
            " 19  REB_home_3g            23279 non-null  float64\n",
            " 20  WIN_PRCT_away_3g       23279 non-null  float64\n",
            " 21  PTS_away_3g            23279 non-null  float64\n",
            " 22  FG_PCT_away_3g         23279 non-null  float64\n",
            " 23  FT_PCT_away_3g         23279 non-null  float64\n",
            " 24  FG3_PCT_away_3g        23279 non-null  float64\n",
            " 25  AST_away_3g            23279 non-null  float64\n",
            " 26  REB_away_3g            23279 non-null  float64\n",
            " 27  WIN_PRCT_home_20g      23279 non-null  float64\n",
            " 28  PTS_home_20g           23279 non-null  float64\n",
            " 29  FG_PCT_home_20g        23279 non-null  float64\n",
            " 30  FT_PCT_home_20g        23279 non-null  float64\n",
            " 31  FG3_PCT_home_20g       23279 non-null  float64\n",
            " 32  AST_home_20g           23279 non-null  float64\n",
            " 33  REB_home_20g           23279 non-null  float64\n",
            " 34  WIN_PRCT_away_20g      23279 non-null  float64\n",
            " 35  PTS_away_20g           23279 non-null  float64\n",
            " 36  FG_PCT_away_20g        23279 non-null  float64\n",
            " 37  FT_PCT_away_20g        23279 non-null  float64\n",
            " 38  FG3_PCT_away_20g       23279 non-null  float64\n",
            " 39  AST_away_20g           23279 non-null  float64\n",
            " 40  REB_away_20g           23279 non-null  float64\n",
            " 41  SEASON                 23279 non-null  int64  \n",
            " 42  HOME_TEAM_WINS         23279 non-null  int64  \n",
            "dtypes: float64(40), int64(3)\n",
            "memory usage: 7.8 MB\n"
          ],
          "name": "stdout"
        }
      ]
    },
    {
      "cell_type": "code",
      "metadata": {
        "colab": {
          "base_uri": "https://localhost:8080/",
          "height": 296
        },
        "id": "qjNjDl6fHkxi",
        "outputId": "73525079-de5e-4948-b338-b5f569c3bcd5"
      },
      "source": [
        "# Balance data\n",
        "\n",
        "min_count = min(target.values)\n",
        "max_count  = max(target.values)\n",
        "remove_n = int((max_count -min_count) * 0.8)\n",
        "temp = dataframe[dataframe[TARGET]==1]\n",
        "drop_indices = np.random.choice(temp.index, remove_n, replace=False)\n",
        "\n",
        "dataframe = dataframe.drop(drop_indices)\n",
        "\n",
        "num_rows= len(dataframe)\n",
        "print(f\"{num_rows}/{initial_len}\")\n",
        "\n",
        "target = dataframe[TARGET].value_counts()\n",
        "target.plot(kind=\"bar\")"
      ],
      "execution_count": 25,
      "outputs": [
        {
          "output_type": "stream",
          "text": [
            "19788/23376\n"
          ],
          "name": "stdout"
        },
        {
          "output_type": "execute_result",
          "data": {
            "text/plain": [
              "<matplotlib.axes._subplots.AxesSubplot at 0x7f398af15b10>"
            ]
          },
          "metadata": {
            "tags": []
          },
          "execution_count": 25
        },
        {
          "output_type": "display_data",
          "data": {
            "image/png": "[encoded data removed]",
            "text/plain": [
              "<Figure size 432x288 with 1 Axes>"
            ]
          },
          "metadata": {
            "tags": [],
            "needs_background": "light"
          }
        }
      ]
    },
    {
      "cell_type": "code",
      "metadata": {
        "colab": {
          "base_uri": "https://localhost:8080/"
        },
        "id": "WXoCElomHnp3",
        "outputId": "849b4e2f-f720-4017-b7c5-e0ccbe568e06"
      },
      "source": [
        "# Convert from Pandas dataframe to numpy arrays\n",
        "inputs = dataframe.drop([TARGET, \"GAME_ID\"], axis=1).values\n",
        "\n",
        "targets = dataframe[[TARGET]].values\n",
        "targets =  np.reshape(targets, len(targets))\n",
        "\n",
        "inputs.shape, targets.shape"
      ],
      "execution_count": 26,
      "outputs": [
        {
          "output_type": "execute_result",
          "data": {
            "text/plain": [
              "((19788, 41), (19788,))"
            ]
          },
          "metadata": {
            "tags": []
          },
          "execution_count": 26
        }
      ]
    },
    {
      "cell_type": "code",
      "metadata": {
        "id": "mYgBH0IyH1Sf"
      },
      "source": [
        "# metrics and validations techniques\n",
        "from sklearn.model_selection import train_test_split\n",
        "from sklearn.model_selection import KFold\n",
        "\n",
        "from sklearn.pipeline import Pipeline\n",
        "from sklearn.metrics import classification_report, precision_recall_fscore_support\n",
        "\n",
        "from sklearn.feature_extraction.text import CountVectorizer\n",
        "from sklearn.feature_extraction.text import TfidfTransformer\n",
        "from sklearn.decomposition import TruncatedSVD, PCA\n",
        "from sklearn.preprocessing import StandardScaler\n",
        "\n",
        "\n",
        "# classifiers from sklearn example\n",
        "from sklearn.neural_network import MLPClassifier\n",
        "from sklearn.neighbors import KNeighborsClassifier\n",
        "from sklearn.svm import SVC\n",
        "from sklearn.gaussian_process import GaussianProcessClassifier\n",
        "from sklearn.gaussian_process.kernels import RBF\n",
        "from sklearn.tree import DecisionTreeClassifier\n",
        "from sklearn.ensemble import RandomForestClassifier, AdaBoostClassifier\n",
        "from sklearn.naive_bayes import GaussianNB\n",
        "from sklearn.discriminant_analysis import QuadraticDiscriminantAnalysis\n",
        "\n",
        "# classifiers from laila project\n",
        "from sklearn.linear_model import SGDClassifier\n",
        "from sklearn.svm import LinearSVC\n",
        "from sklearn.naive_bayes import MultinomialNB\n",
        "from sklearn.ensemble import GradientBoostingClassifier\n",
        "from sklearn import metrics\n",
        "\n",
        "# classifiers from sklearn example\n",
        "from sklearn.naive_bayes import BernoulliNB\n",
        "from sklearn.neighbors import NearestCentroid\n",
        "\n",
        "from time import time, gmtime\n"
      ],
      "execution_count": 27,
      "outputs": []
    },
    {
      "cell_type": "code",
      "metadata": {
        "id": "IuNj6waeIAib"
      },
      "source": [
        "IMAGES_PATH=  \"./\"\n",
        "def benchmark_report(clf, x_train, y_train, x_test, y_test, target_names=None, features_name=None):\n",
        "    t0 = time()\n",
        "    clf.fit(x_train, y_train)\n",
        "    train_time = time() - t0\n",
        "\n",
        "    t0 = time()\n",
        "    pred = clf.predict(x_test)\n",
        "    pred_proba = clf.predict_proba(x_test)\n",
        "    test_time = time() - t0\n",
        "\n",
        "    score = metrics.accuracy_score(y_test, pred)\n",
        "    rept = precision_recall_fscore_support(y_test, pred, average='weighted')\n",
        "\n",
        "    return (rept[0], rept[1], rept[2], train_time, test_time), pred_proba     # is returning  presicion, recall, f1 score, and training and test times\n",
        "\n",
        "def plot_classifier_comparison(clfs_dict, experiment_name=None):\n",
        "    clf_names = clfs_dict.keys()\n",
        "    indices = np.arange(len(clf_names))\n",
        "    pres, rec, f1, train_time, test_time = [\n",
        "        [clfs_dict[k]['results']['mean'][i] for k in clf_names] for i in range(5)]\n",
        "\n",
        "    train_time = np.array(train_time) / np.max(train_time)\n",
        "    test_time = np.array(test_time) / np.max(test_time)\n",
        "    \n",
        "    comp_figure = plt.figure(figsize=(12, 8))\n",
        "    plt.subplot(1, 2, 1)\n",
        "    plt.grid()\n",
        "\n",
        "    plt.title(\"Classifiers Comparison Metrics\")\n",
        "    plt.barh(indices, pres, .1, label=\"precision\", color='blue')\n",
        "    plt.barh(indices+.1, rec, .1, label=\"recall\", color='red')\n",
        "    plt.barh(indices+.2, f1, .1, label=\"f1\", color='green')\n",
        "\n",
        "    plt.yticks(())\n",
        "    plt.legend(loc='best')\n",
        "    plt.subplots_adjust(left=.25)\n",
        "    plt.subplots_adjust(top=.95)\n",
        "    plt.subplots_adjust(bottom=.05)\n",
        "    for i, c in zip(indices, clf_names):\n",
        "        plt.text(-.3, i, c)\n",
        "\n",
        "    plt.subplot(1, 2, 2)\n",
        "    plt.grid()\n",
        "\n",
        "    plt.title(\"Classifiers Comparison Times\")\n",
        "\n",
        "    plt.barh(indices+.3, train_time, .1, label=\"training time\",color='orange')\n",
        "    plt.barh(indices+.4, test_time, .1, label=\"test time (batch)\", color='darkorange')\n",
        "    \n",
        "    plt.yticks(())\n",
        "    plt.legend(loc='best')\n",
        "    plt.subplots_adjust(left=.25)\n",
        "    plt.subplots_adjust(top=.95)\n",
        "    plt.subplots_adjust(bottom=.05)\n",
        "\n",
        "    plt.tight_layout()\n",
        "    a = gmtime(time())\n",
        "    date = str.format('{0}{1}{2}', a.tm_year, a.tm_mon, a.tm_mday)\n",
        "    name = str.format('{0}{1} {2}.png',IMAGES_PATH, date, experiment_name if experiment_name else 'classifier_comparison')\n",
        "    plt.savefig(name)\n",
        "    plt.show()\n",
        "\n",
        "def resume_report(kfold_metrics, verbose=True):\n",
        "    means = np.mean(kfold_metrics, axis=0)\n",
        "    stds = np.std(kfold_metrics, axis=0)\n",
        "    resume = {'mean': means, 'std': stds }\n",
        "    if verbose:\n",
        "        print('_' * 80)\n",
        "        print(\"train time: %0.3fs , %0.3fs\" % (means[3], stds[3]) )\n",
        "        print(\"test time:  %0.3fs, %0.3fs\" % (means[4], stds[4]))\n",
        "        print(\"precision:   %0.3f, %0.3fs\" % (means[0], stds[0]))\n",
        "        print(\"recall:   %0.3f, %0.3fs\" % (means[1], stds[1]))\n",
        "        print(\"fbeta_score:   %0.3f, %0.3fs\" % (means[2], stds[2]))\n",
        "    return resume"
      ],
      "execution_count": 28,
      "outputs": []
    },
    {
      "cell_type": "code",
      "metadata": {
        "id": "TPoenR7SKMgR"
      },
      "source": [
        "def classifier_comparison(clf_dict, X=None, Y=None, k_fold_splits=3, plot=True, verbose=True, tag=None):\n",
        "    '''\n",
        "    \n",
        "    '''\n",
        "    kf = KFold(n_splits=k_fold_splits, shuffle=True, random_state=42)\n",
        "\n",
        "    for i, name in enumerate(clf_dict.keys()):\n",
        "        clf = clf_dict[name]['f']\n",
        "        if verbose:\n",
        "            print('=' * 80)\n",
        "            print(name)\n",
        "            print(clf)\n",
        "            print('_' * 80)\n",
        "\n",
        "        clf_dict[name]['results'] = []\n",
        "        clf_dict[name]['predicts_proba'] = []\n",
        "        \n",
        "        for i, (train, test) in enumerate(kf.split(X, Y)):\n",
        "\n",
        "            X_train = X[train]\n",
        "            y_train = Y[train]\n",
        "            X_test =  X[test]\n",
        "            y_test = Y[test]\n",
        "\n",
        "            if verbose:\n",
        "                print(str.format(f'---> kfold {i}: train_samples: {X_train.shape[0]}, test_samples:{X_test.shape[0]},  n_features: {X_train.shape[1]}'))\n",
        "            \n",
        "            benchmark, predict_proba  = benchmark_report(clf, X_train, y_train, X_test, y_test)\n",
        "            \n",
        "            clf_dict[name]['results'].append(list(benchmark))\n",
        "            clf_dict[name]['predicts_proba'].append(predict_proba)\n",
        "\n",
        "        clf_dict[name]['results'] = resume_report(clf_dict[name]['results'], verbose=verbose)\n",
        "    return  clf_dict\n",
        "\n",
        "    "
      ],
      "execution_count": 29,
      "outputs": []
    },
    {
      "cell_type": "code",
      "metadata": {
        "id": "1OQFRmT3LHJH"
      },
      "source": [
        "clfs = {\n",
        "    \"Naive Bayes - Bernoulli\":{\n",
        "         'f' : BernoulliNB()},\n",
        "    \n",
        "    \"Nearest Neighbors\" :{\n",
        "         'f' : KNeighborsClassifier(3)} ,\n",
        "    \n",
        "    \"Decision Tree\":{\n",
        "         'f' : DecisionTreeClassifier(max_depth=5)},\n",
        "    \n",
        "    \"Random Forest\":{ \n",
        "         'f' : RandomForestClassifier(max_depth=5, n_estimators=10, max_features=1)},\n",
        "    \n",
        "    \"Neural Net\":{ \n",
        "         'f' :MLPClassifier(alpha=1) },\n",
        "    \n",
        "    \"AdaBoost\":{ \n",
        "         'f' :  AdaBoostClassifier()},\n",
        "    \n",
        "    \"Stratified Gradient Descent - log\":{ \n",
        "         'f' : SGDClassifier(loss='log', penalty='elasticnet')},\n",
        "\n",
        "    \"Stratified Gradient Descent - modified_huber\":{ \n",
        "         'f' : SGDClassifier(loss='modified_huber', penalty='l1')},\n",
        "}"
      ],
      "execution_count": 30,
      "outputs": []
    },
    {
      "cell_type": "code",
      "metadata": {
        "colab": {
          "base_uri": "https://localhost:8080/"
        },
        "id": "IqS_HXzYMUKs",
        "outputId": "f38410bd-ce46-4aa2-d88d-e4cf1a81ff68"
      },
      "source": [
        "resume_dict=  classifier_comparison(clfs, X=inputs, Y=targets, verbose=True, tag=\"Test1\")\n"
      ],
      "execution_count": 31,
      "outputs": [
        {
          "output_type": "stream",
          "text": [
            "================================================================================\n",
            "Naive Bayes - Bernoulli\n",
            "BernoulliNB(alpha=1.0, binarize=0.0, class_prior=None, fit_prior=True)\n",
            "________________________________________________________________________________\n",
            "---> kfold 0: train_samples: 13192, test_samples:6596,  n_features: 41\n",
            "---> kfold 1: train_samples: 13192, test_samples:6596,  n_features: 41\n",
            "---> kfold 2: train_samples: 13192, test_samples:6596,  n_features: 41\n",
            "________________________________________________________________________________\n",
            "train time: 0.010s , 0.000s\n",
            "test time:  0.009s, 0.000s\n",
            "precision:   0.569, 0.005s\n",
            "recall:   0.556, 0.004s\n",
            "fbeta_score:   0.506, 0.001s\n",
            "================================================================================\n",
            "Nearest Neighbors\n",
            "KNeighborsClassifier(algorithm='auto', leaf_size=30, metric='minkowski',\n",
            "                     metric_params=None, n_jobs=None, n_neighbors=3, p=2,\n",
            "                     weights='uniform')\n",
            "________________________________________________________________________________\n",
            "---> kfold 0: train_samples: 13192, test_samples:6596,  n_features: 41\n",
            "---> kfold 1: train_samples: 13192, test_samples:6596,  n_features: 41\n",
            "---> kfold 2: train_samples: 13192, test_samples:6596,  n_features: 41\n",
            "________________________________________________________________________________\n",
            "train time: 0.078s , 0.013s\n",
            "test time:  4.264s, 0.099s\n",
            "precision:   0.522, 0.002s\n",
            "recall:   0.522, 0.002s\n",
            "fbeta_score:   0.522, 0.002s\n",
            "================================================================================\n",
            "Decision Tree\n",
            "DecisionTreeClassifier(ccp_alpha=0.0, class_weight=None, criterion='gini',\n",
            "                       max_depth=5, max_features=None, max_leaf_nodes=None,\n",
            "                       min_impurity_decrease=0.0, min_impurity_split=None,\n",
            "                       min_samples_leaf=1, min_samples_split=2,\n",
            "                       min_weight_fraction_leaf=0.0, presort='deprecated',\n",
            "                       random_state=None, splitter='best')\n",
            "________________________________________________________________________________\n",
            "---> kfold 0: train_samples: 13192, test_samples:6596,  n_features: 41\n",
            "---> kfold 1: train_samples: 13192, test_samples:6596,  n_features: 41\n",
            "---> kfold 2: train_samples: 13192, test_samples:6596,  n_features: 41\n",
            "________________________________________________________________________________\n",
            "train time: 0.184s , 0.001s\n",
            "test time:  0.003s, 0.000s\n",
            "precision:   0.631, 0.000s\n",
            "recall:   0.631, 0.001s\n",
            "fbeta_score:   0.628, 0.003s\n",
            "================================================================================\n",
            "Random Forest\n",
            "RandomForestClassifier(bootstrap=True, ccp_alpha=0.0, class_weight=None,\n",
            "                       criterion='gini', max_depth=5, max_features=1,\n",
            "                       max_leaf_nodes=None, max_samples=None,\n",
            "                       min_impurity_decrease=0.0, min_impurity_split=None,\n",
            "                       min_samples_leaf=1, min_samples_split=2,\n",
            "                       min_weight_fraction_leaf=0.0, n_estimators=10,\n",
            "                       n_jobs=None, oob_score=False, random_state=None,\n",
            "                       verbose=0, warm_start=False)\n",
            "________________________________________________________________________________\n",
            "---> kfold 0: train_samples: 13192, test_samples:6596,  n_features: 41\n",
            "---> kfold 1: train_samples: 13192, test_samples:6596,  n_features: 41\n",
            "---> kfold 2: train_samples: 13192, test_samples:6596,  n_features: 41\n",
            "________________________________________________________________________________\n",
            "train time: 0.073s , 0.003s\n",
            "test time:  0.015s, 0.000s\n",
            "precision:   0.629, 0.005s\n",
            "recall:   0.628, 0.005s\n",
            "fbeta_score:   0.625, 0.006s\n",
            "================================================================================\n",
            "Neural Net\n",
            "MLPClassifier(activation='relu', alpha=1, batch_size='auto', beta_1=0.9,\n",
            "              beta_2=0.999, early_stopping=False, epsilon=1e-08,\n",
            "              hidden_layer_sizes=(100,), learning_rate='constant',\n",
            "              learning_rate_init=0.001, max_fun=15000, max_iter=200,\n",
            "              momentum=0.9, n_iter_no_change=10, nesterovs_momentum=True,\n",
            "              power_t=0.5, random_state=None, shuffle=True, solver='adam',\n",
            "              tol=0.0001, validation_fraction=0.1, verbose=False,\n",
            "              warm_start=False)\n",
            "________________________________________________________________________________\n",
            "---> kfold 0: train_samples: 13192, test_samples:6596,  n_features: 41\n",
            "---> kfold 1: train_samples: 13192, test_samples:6596,  n_features: 41\n",
            "---> kfold 2: train_samples: 13192, test_samples:6596,  n_features: 41\n",
            "________________________________________________________________________________\n",
            "train time: 3.755s , 0.811s\n",
            "test time:  0.015s, 0.000s\n",
            "precision:   0.677, 0.052s\n",
            "recall:   0.538, 0.061s\n",
            "fbeta_score:   0.425, 0.134s\n",
            "================================================================================\n",
            "AdaBoost\n",
            "AdaBoostClassifier(algorithm='SAMME.R', base_estimator=None, learning_rate=1.0,\n",
            "                   n_estimators=50, random_state=None)\n",
            "________________________________________________________________________________\n",
            "---> kfold 0: train_samples: 13192, test_samples:6596,  n_features: 41\n",
            "---> kfold 1: train_samples: 13192, test_samples:6596,  n_features: 41\n",
            "---> kfold 2: train_samples: 13192, test_samples:6596,  n_features: 41\n",
            "________________________________________________________________________________\n",
            "train time: 2.204s , 0.021s\n",
            "test time:  0.160s, 0.004s\n",
            "precision:   0.637, 0.004s\n",
            "recall:   0.636, 0.003s\n",
            "fbeta_score:   0.636, 0.002s\n",
            "================================================================================\n",
            "Stratified Gradient Descent - log\n",
            "SGDClassifier(alpha=0.0001, average=False, class_weight=None,\n",
            "              early_stopping=False, epsilon=0.1, eta0=0.0, fit_intercept=True,\n",
            "              l1_ratio=0.15, learning_rate='optimal', loss='log', max_iter=1000,\n",
            "              n_iter_no_change=5, n_jobs=None, penalty='elasticnet',\n",
            "              power_t=0.5, random_state=None, shuffle=True, tol=0.001,\n",
            "              validation_fraction=0.1, verbose=0, warm_start=False)\n",
            "________________________________________________________________________________\n",
            "---> kfold 0: train_samples: 13192, test_samples:6596,  n_features: 41\n",
            "---> kfold 1: train_samples: 13192, test_samples:6596,  n_features: 41\n",
            "---> kfold 2: train_samples: 13192, test_samples:6596,  n_features: 41\n"
          ],
          "name": "stdout"
        },
        {
          "output_type": "stream",
          "text": [
            "/usr/local/lib/python3.7/dist-packages/sklearn/metrics/_classification.py:1272: UndefinedMetricWarning: Precision and F-score are ill-defined and being set to 0.0 in labels with no predicted samples. Use `zero_division` parameter to control this behavior.\n",
            "  _warn_prf(average, modifier, msg_start, len(result))\n"
          ],
          "name": "stderr"
        },
        {
          "output_type": "stream",
          "text": [
            "________________________________________________________________________________\n",
            "train time: 0.725s , 0.075s\n",
            "test time:  0.004s, 0.001s\n",
            "precision:   0.504, 0.172s\n",
            "recall:   0.525, 0.011s\n",
            "fbeta_score:   0.370, 0.020s\n",
            "================================================================================\n",
            "Stratified Gradient Descent - modified_huber\n",
            "SGDClassifier(alpha=0.0001, average=False, class_weight=None,\n",
            "              early_stopping=False, epsilon=0.1, eta0=0.0, fit_intercept=True,\n",
            "              l1_ratio=0.15, learning_rate='optimal', loss='modified_huber',\n",
            "              max_iter=1000, n_iter_no_change=5, n_jobs=None, penalty='l1',\n",
            "              power_t=0.5, random_state=None, shuffle=True, tol=0.001,\n",
            "              validation_fraction=0.1, verbose=0, warm_start=False)\n",
            "________________________________________________________________________________\n",
            "---> kfold 0: train_samples: 13192, test_samples:6596,  n_features: 41\n",
            "---> kfold 1: train_samples: 13192, test_samples:6596,  n_features: 41\n",
            "---> kfold 2: train_samples: 13192, test_samples:6596,  n_features: 41\n",
            "________________________________________________________________________________\n",
            "train time: 0.700s , 0.062s\n",
            "test time:  0.003s, 0.001s\n",
            "precision:   0.602, 0.013s\n",
            "recall:   0.541, 0.022s\n",
            "fbeta_score:   0.472, 0.050s\n"
          ],
          "name": "stdout"
        }
      ]
    },
    {
      "cell_type": "code",
      "metadata": {
        "colab": {
          "base_uri": "https://localhost:8080/",
          "height": 585
        },
        "id": "CJW3Cv2UQl3h",
        "outputId": "1861ef14-aadc-4f76-c6c2-3882f84bc743"
      },
      "source": [
        "plot_classifier_comparison(resume_dict, experiment_name=\"Test1\")"
      ],
      "execution_count": 36,
      "outputs": [
        {
          "output_type": "display_data",
          "data": {
            "image/png": "[encoded data removed]",
            "text/plain": [
              "<Figure size 864x576 with 2 Axes>"
            ]
          },
          "metadata": {
            "tags": [],
            "needs_background": "light"
          }
        }
      ]
    },
    {
      "cell_type": "code",
      "metadata": {
        "id": "-C2o8AICShic"
      },
      "source": [
        "val_percent = .15 \n",
        "val_size = int(len(inputs) * val_percent)\n",
        "train_size = num_rows - val_size"
      ],
      "execution_count": 38,
      "outputs": []
    },
    {
      "cell_type": "code",
      "metadata": {
        "colab": {
          "base_uri": "https://localhost:8080/"
        },
        "id": "PvFS7q-9N9Ii",
        "outputId": "86689dff-4120-4068-cc56-4a5b783e9171"
      },
      "source": [
        "clf = clfs['AdaBoost']['f']\n",
        "x_train = inputs[0:train_size]\n",
        "y_train = targets[0:train_size]\n",
        "\n",
        "x_test = inputs[train_size:len(inputs)]\n",
        "y_test = targets[train_size:len(inputs)]\n",
        "\n",
        "benchmark, predict_proba = benchmark_report(clf, x_train, y_train, x_test, y_test)\n",
        "resume_report([benchmark], verbose=True)"
      ],
      "execution_count": 39,
      "outputs": [
        {
          "output_type": "stream",
          "text": [
            "________________________________________________________________________________\n",
            "train time: 2.614s , 0.000s\n",
            "test time:  0.081s, 0.000s\n",
            "precision:   0.632, 0.000s\n",
            "recall:   0.630, 0.000s\n",
            "fbeta_score:   0.629, 0.000s\n"
          ],
          "name": "stdout"
        },
        {
          "output_type": "execute_result",
          "data": {
            "text/plain": [
              "{'mean': array([0.63238541, 0.62971698, 0.62874453, 2.61395121, 0.08104634]),\n",
              " 'std': array([0., 0., 0., 0., 0.])}"
            ]
          },
          "metadata": {
            "tags": []
          },
          "execution_count": 39
        }
      ]
    },
    {
      "cell_type": "code",
      "metadata": {
        "id": "3Xy9ISUMUZX3"
      },
      "source": [
        "import joblib\n",
        "# now you can save it to a file\n",
        "joblib.dump(clf, 'nba_sklearn_model.pkl') \n",
        "\n",
        "# and later you can load it\n",
        "clf = joblib.load('nba_sklearn_model.pkl')"
      ],
      "execution_count": 40,
      "outputs": []
    },
    {
      "cell_type": "code",
      "metadata": {
        "id": "ZwXg8_bvOYYx"
      },
      "source": [
        "def predict_single(input, label):\n",
        "  prediction =  clf.predict([input])\n",
        "  print(f\"label: {label}\")\n",
        "  print(f\"prediction: {prediction}\")"
      ],
      "execution_count": 41,
      "outputs": []
    },
    {
      "cell_type": "code",
      "metadata": {
        "colab": {
          "base_uri": "https://localhost:8080/"
        },
        "id": "zbBY-LNuT0D9",
        "outputId": "a8067275-39ff-4b35-e8fe-18249417b782"
      },
      "source": [
        "index=499\n",
        "target = targets[index]\n",
        "input = inputs[index]\n",
        "predict_single(input,target)"
      ],
      "execution_count": 44,
      "outputs": [
        {
          "output_type": "stream",
          "text": [
            "label: 1\n",
            "prediction: [1]\n"
          ],
          "name": "stdout"
        }
      ]
    },
    {
      "cell_type": "code",
      "metadata": {
        "id": "QR4Dhe3On_eI"
      },
      "source": [
        ""
      ],
      "execution_count": null,
      "outputs": []
    }
  ]
}