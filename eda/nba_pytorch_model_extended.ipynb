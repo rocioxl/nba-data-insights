{
  "nbformat": 4,
  "nbformat_minor": 0,
  "metadata": {
    "colab": {
      "name": "nba_pytorch_model.ipynb",
      "provenance": [],
      "collapsed_sections": []
    },
    "kernelspec": {
      "name": "python3",
      "display_name": "Python 3"
    },
    "language_info": {
      "name": "python"
    }
  },
  "cells": [
    {
      "cell_type": "code",
      "metadata": {
        "colab": {
          "base_uri": "https://localhost:8080/"
        },
        "id": "qgPywLMsb_lh",
        "outputId": "0064af78-885a-4b16-950c-c9dfb4cb83f0"
      },
      "source": [
        "from google.colab import drive\n",
        "drive.mount('/gdrive')\n",
        "%cd \"/gdrive/MyDrive/clue\""
      ],
      "execution_count": 1,
      "outputs": [
        {
          "output_type": "stream",
          "text": [
            "Mounted at /gdrive\n",
            "/gdrive/MyDrive/clue\n"
          ],
          "name": "stdout"
        }
      ]
    },
    {
      "cell_type": "code",
      "metadata": {
        "id": "5nhygn1ycVFx"
      },
      "source": [
        "# Imports\n",
        "import torch\n",
        "import torch.nn as nn\n",
        "import pandas as pd\n",
        "import matplotlib.pyplot as plt\n",
        "import torch.nn.functional as F\n",
        "from torch.utils.data import DataLoader, TensorDataset, random_split\n",
        "import numpy as np\n"
      ],
      "execution_count": 2,
      "outputs": []
    },
    {
      "cell_type": "code",
      "metadata": {
        "id": "2-YSHysWcs7_"
      },
      "source": [
        "# Other constants\n",
        "DATASET_DIR = \"./\"\n",
        "DATA_FILENAME = \"extended_dataset.csv\""
      ],
      "execution_count": 3,
      "outputs": []
    },
    {
      "cell_type": "code",
      "metadata": {
        "colab": {
          "base_uri": "https://localhost:8080/",
          "height": 224
        },
        "id": "Cm7S-PtYc9d7",
        "outputId": "448a1460-2ae4-4bd2-ad9e-8c218b2be4ee"
      },
      "source": [
        "dataframe = pd.read_csv(f\"{DATASET_DIR}{DATA_FILENAME}\")\n",
        "dataframe.sample(5)"
      ],
      "execution_count": 4,
      "outputs": [
        {
          "output_type": "execute_result",
          "data": {
            "text/html": [
              "<div>\n",
              "<style scoped>\n",
              "    .dataframe tbody tr th:only-of-type {\n",
              "        vertical-align: middle;\n",
              "    }\n",
              "\n",
              "    .dataframe tbody tr th {\n",
              "        vertical-align: top;\n",
              "    }\n",
              "\n",
              "    .dataframe thead th {\n",
              "        text-align: right;\n",
              "    }\n",
              "</style>\n",
              "<table border=\"1\" class=\"dataframe\">\n",
              "  <thead>\n",
              "    <tr style=\"text-align: right;\">\n",
              "      <th></th>\n",
              "      <th>GAME_ID</th>\n",
              "      <th>W_PCT_home</th>\n",
              "      <th>HOME_RECORD_home</th>\n",
              "      <th>ROAD_RECORD_home</th>\n",
              "      <th>W_PCT_prev_home</th>\n",
              "      <th>HOME_RECORD_prev_home</th>\n",
              "      <th>ROAD_RECORD_prev_home</th>\n",
              "      <th>W_PCT_away</th>\n",
              "      <th>HOME_RECORD_away</th>\n",
              "      <th>ROAD_RECORD_away</th>\n",
              "      <th>W_PCT_prev_away</th>\n",
              "      <th>HOME_RECORD_prev_away</th>\n",
              "      <th>ROAD_RECORD_prev_away</th>\n",
              "      <th>WIN_PRCT_home_3g</th>\n",
              "      <th>PTS_home_3g</th>\n",
              "      <th>FG_PCT_home_3g</th>\n",
              "      <th>FT_PCT_home_3g</th>\n",
              "      <th>FG3_PCT_home_3g</th>\n",
              "      <th>AST_home_3g</th>\n",
              "      <th>REB_home_3g</th>\n",
              "      <th>WIN_PRCT_away_3g</th>\n",
              "      <th>PTS_away_3g</th>\n",
              "      <th>FG_PCT_away_3g</th>\n",
              "      <th>FT_PCT_away_3g</th>\n",
              "      <th>FG3_PCT_away_3g</th>\n",
              "      <th>AST_away_3g</th>\n",
              "      <th>REB_away_3g</th>\n",
              "      <th>WIN_PRCT_home_20g</th>\n",
              "      <th>PTS_home_20g</th>\n",
              "      <th>FG_PCT_home_20g</th>\n",
              "      <th>FT_PCT_home_20g</th>\n",
              "      <th>FG3_PCT_home_20g</th>\n",
              "      <th>AST_home_20g</th>\n",
              "      <th>REB_home_20g</th>\n",
              "      <th>WIN_PRCT_away_20g</th>\n",
              "      <th>PTS_away_20g</th>\n",
              "      <th>FG_PCT_away_20g</th>\n",
              "      <th>FT_PCT_away_20g</th>\n",
              "      <th>FG3_PCT_away_20g</th>\n",
              "      <th>AST_away_20g</th>\n",
              "      <th>REB_away_20g</th>\n",
              "      <th>SEASON</th>\n",
              "      <th>HOME_TEAM_WINS</th>\n",
              "    </tr>\n",
              "  </thead>\n",
              "  <tbody>\n",
              "    <tr>\n",
              "      <th>9880</th>\n",
              "      <td>40900113</td>\n",
              "      <td>0.537</td>\n",
              "      <td>0.756098</td>\n",
              "      <td>0.317073</td>\n",
              "      <td>0.427</td>\n",
              "      <td>0.560976</td>\n",
              "      <td>0.292683</td>\n",
              "      <td>0.720</td>\n",
              "      <td>0.829268</td>\n",
              "      <td>0.609756</td>\n",
              "      <td>0.720</td>\n",
              "      <td>0.780488</td>\n",
              "      <td>0.658537</td>\n",
              "      <td>0.000000</td>\n",
              "      <td>85.000000</td>\n",
              "      <td>0.434667</td>\n",
              "      <td>0.760667</td>\n",
              "      <td>0.297667</td>\n",
              "      <td>19.000000</td>\n",
              "      <td>36.666667</td>\n",
              "      <td>1.000000</td>\n",
              "      <td>105.000000</td>\n",
              "      <td>0.499000</td>\n",
              "      <td>0.730000</td>\n",
              "      <td>0.414333</td>\n",
              "      <td>17.000000</td>\n",
              "      <td>36.333333</td>\n",
              "      <td>0.55</td>\n",
              "      <td>95.20</td>\n",
              "      <td>0.45685</td>\n",
              "      <td>0.76235</td>\n",
              "      <td>0.37855</td>\n",
              "      <td>20.60</td>\n",
              "      <td>41.30</td>\n",
              "      <td>0.85</td>\n",
              "      <td>105.80</td>\n",
              "      <td>0.49375</td>\n",
              "      <td>0.71765</td>\n",
              "      <td>0.42505</td>\n",
              "      <td>21.25</td>\n",
              "      <td>42.00</td>\n",
              "      <td>2009</td>\n",
              "      <td>0</td>\n",
              "    </tr>\n",
              "    <tr>\n",
              "      <th>5018</th>\n",
              "      <td>10700077</td>\n",
              "      <td>0.500</td>\n",
              "      <td>1.000000</td>\n",
              "      <td>0.333333</td>\n",
              "      <td>0.268</td>\n",
              "      <td>0.341463</td>\n",
              "      <td>0.195122</td>\n",
              "      <td>0.000</td>\n",
              "      <td>0.000000</td>\n",
              "      <td>0.000000</td>\n",
              "      <td>0.537</td>\n",
              "      <td>0.658537</td>\n",
              "      <td>0.414634</td>\n",
              "      <td>0.666667</td>\n",
              "      <td>110.666667</td>\n",
              "      <td>0.463667</td>\n",
              "      <td>0.740667</td>\n",
              "      <td>0.308000</td>\n",
              "      <td>27.333333</td>\n",
              "      <td>45.666667</td>\n",
              "      <td>0.000000</td>\n",
              "      <td>76.666667</td>\n",
              "      <td>0.409000</td>\n",
              "      <td>0.638000</td>\n",
              "      <td>0.271333</td>\n",
              "      <td>13.666667</td>\n",
              "      <td>33.000000</td>\n",
              "      <td>0.35</td>\n",
              "      <td>104.15</td>\n",
              "      <td>0.47520</td>\n",
              "      <td>0.77060</td>\n",
              "      <td>0.32820</td>\n",
              "      <td>20.00</td>\n",
              "      <td>40.90</td>\n",
              "      <td>0.30</td>\n",
              "      <td>87.60</td>\n",
              "      <td>0.45265</td>\n",
              "      <td>0.64775</td>\n",
              "      <td>0.35235</td>\n",
              "      <td>19.10</td>\n",
              "      <td>37.05</td>\n",
              "      <td>2007</td>\n",
              "      <td>1</td>\n",
              "    </tr>\n",
              "    <tr>\n",
              "      <th>12289</th>\n",
              "      <td>21200028</td>\n",
              "      <td>0.571</td>\n",
              "      <td>1.000000</td>\n",
              "      <td>0.250000</td>\n",
              "      <td>0.636</td>\n",
              "      <td>0.696970</td>\n",
              "      <td>0.575758</td>\n",
              "      <td>0.714</td>\n",
              "      <td>0.666667</td>\n",
              "      <td>0.750000</td>\n",
              "      <td>0.333</td>\n",
              "      <td>0.484848</td>\n",
              "      <td>0.181818</td>\n",
              "      <td>0.333333</td>\n",
              "      <td>89.666667</td>\n",
              "      <td>0.438667</td>\n",
              "      <td>0.697000</td>\n",
              "      <td>0.274667</td>\n",
              "      <td>22.333333</td>\n",
              "      <td>45.000000</td>\n",
              "      <td>0.333333</td>\n",
              "      <td>87.000000</td>\n",
              "      <td>0.406000</td>\n",
              "      <td>0.813000</td>\n",
              "      <td>0.251667</td>\n",
              "      <td>16.000000</td>\n",
              "      <td>41.000000</td>\n",
              "      <td>0.55</td>\n",
              "      <td>90.80</td>\n",
              "      <td>0.42360</td>\n",
              "      <td>0.76455</td>\n",
              "      <td>0.31700</td>\n",
              "      <td>17.50</td>\n",
              "      <td>43.95</td>\n",
              "      <td>0.40</td>\n",
              "      <td>97.95</td>\n",
              "      <td>0.43810</td>\n",
              "      <td>0.73825</td>\n",
              "      <td>0.33075</td>\n",
              "      <td>19.60</td>\n",
              "      <td>40.85</td>\n",
              "      <td>2012</td>\n",
              "      <td>1</td>\n",
              "    </tr>\n",
              "    <tr>\n",
              "      <th>14659</th>\n",
              "      <td>21300892</td>\n",
              "      <td>0.390</td>\n",
              "      <td>0.406250</td>\n",
              "      <td>0.370370</td>\n",
              "      <td>0.354</td>\n",
              "      <td>0.439024</td>\n",
              "      <td>0.268293</td>\n",
              "      <td>0.350</td>\n",
              "      <td>0.375000</td>\n",
              "      <td>0.321429</td>\n",
              "      <td>0.659</td>\n",
              "      <td>0.756098</td>\n",
              "      <td>0.560976</td>\n",
              "      <td>0.000000</td>\n",
              "      <td>105.333333</td>\n",
              "      <td>0.451333</td>\n",
              "      <td>0.797000</td>\n",
              "      <td>0.339667</td>\n",
              "      <td>24.000000</td>\n",
              "      <td>43.000000</td>\n",
              "      <td>0.000000</td>\n",
              "      <td>91.666667</td>\n",
              "      <td>0.398333</td>\n",
              "      <td>0.824333</td>\n",
              "      <td>0.284000</td>\n",
              "      <td>15.666667</td>\n",
              "      <td>44.666667</td>\n",
              "      <td>0.35</td>\n",
              "      <td>104.35</td>\n",
              "      <td>0.46025</td>\n",
              "      <td>0.68125</td>\n",
              "      <td>0.31620</td>\n",
              "      <td>21.50</td>\n",
              "      <td>44.45</td>\n",
              "      <td>0.30</td>\n",
              "      <td>102.10</td>\n",
              "      <td>0.46045</td>\n",
              "      <td>0.73925</td>\n",
              "      <td>0.38240</td>\n",
              "      <td>20.20</td>\n",
              "      <td>42.25</td>\n",
              "      <td>2013</td>\n",
              "      <td>1</td>\n",
              "    </tr>\n",
              "    <tr>\n",
              "      <th>18559</th>\n",
              "      <td>21600543</td>\n",
              "      <td>0.400</td>\n",
              "      <td>0.411765</td>\n",
              "      <td>0.388889</td>\n",
              "      <td>0.402</td>\n",
              "      <td>0.439024</td>\n",
              "      <td>0.365854</td>\n",
              "      <td>0.800</td>\n",
              "      <td>0.750000</td>\n",
              "      <td>0.842105</td>\n",
              "      <td>0.817</td>\n",
              "      <td>0.975610</td>\n",
              "      <td>0.658537</td>\n",
              "      <td>0.000000</td>\n",
              "      <td>118.000000</td>\n",
              "      <td>0.479667</td>\n",
              "      <td>0.861000</td>\n",
              "      <td>0.379333</td>\n",
              "      <td>30.333333</td>\n",
              "      <td>41.666667</td>\n",
              "      <td>0.666667</td>\n",
              "      <td>110.666667</td>\n",
              "      <td>0.506000</td>\n",
              "      <td>0.812333</td>\n",
              "      <td>0.458333</td>\n",
              "      <td>27.000000</td>\n",
              "      <td>46.000000</td>\n",
              "      <td>0.40</td>\n",
              "      <td>111.05</td>\n",
              "      <td>0.47055</td>\n",
              "      <td>0.76390</td>\n",
              "      <td>0.36820</td>\n",
              "      <td>25.15</td>\n",
              "      <td>45.30</td>\n",
              "      <td>0.80</td>\n",
              "      <td>106.95</td>\n",
              "      <td>0.48860</td>\n",
              "      <td>0.80605</td>\n",
              "      <td>0.42245</td>\n",
              "      <td>24.35</td>\n",
              "      <td>44.35</td>\n",
              "      <td>2016</td>\n",
              "      <td>0</td>\n",
              "    </tr>\n",
              "  </tbody>\n",
              "</table>\n",
              "</div>"
            ],
            "text/plain": [
              "        GAME_ID  W_PCT_home  ...  SEASON  HOME_TEAM_WINS\n",
              "9880   40900113       0.537  ...    2009               0\n",
              "5018   10700077       0.500  ...    2007               1\n",
              "12289  21200028       0.571  ...    2012               1\n",
              "14659  21300892       0.390  ...    2013               1\n",
              "18559  21600543       0.400  ...    2016               0\n",
              "\n",
              "[5 rows x 43 columns]"
            ]
          },
          "metadata": {
            "tags": []
          },
          "execution_count": 4
        }
      ]
    },
    {
      "cell_type": "code",
      "metadata": {
        "colab": {
          "base_uri": "https://localhost:8080/"
        },
        "id": "PhaKazOldCuf",
        "outputId": "58d74484-a6fa-41db-d8a1-cc889e8b8302"
      },
      "source": [
        "# Remove rows with nan values\n",
        "initial_len =  len(dataframe)\n",
        "dataframe.dropna(inplace=True)\n",
        "print(f\"{len(dataframe)}/{initial_len}\")\n",
        "\n",
        "dataframe.info()"
      ],
      "execution_count": 5,
      "outputs": [
        {
          "output_type": "stream",
          "text": [
            "23279/23376\n",
            "<class 'pandas.core.frame.DataFrame'>\n",
            "Int64Index: 23279 entries, 1 to 23375\n",
            "Data columns (total 43 columns):\n",
            " #   Column                 Non-Null Count  Dtype  \n",
            "---  ------                 --------------  -----  \n",
            " 0   GAME_ID                23279 non-null  int64  \n",
            " 1   W_PCT_home             23279 non-null  float64\n",
            " 2   HOME_RECORD_home       23279 non-null  float64\n",
            " 3   ROAD_RECORD_home       23279 non-null  float64\n",
            " 4   W_PCT_prev_home        23279 non-null  float64\n",
            " 5   HOME_RECORD_prev_home  23279 non-null  float64\n",
            " 6   ROAD_RECORD_prev_home  23279 non-null  float64\n",
            " 7   W_PCT_away             23279 non-null  float64\n",
            " 8   HOME_RECORD_away       23279 non-null  float64\n",
            " 9   ROAD_RECORD_away       23279 non-null  float64\n",
            " 10  W_PCT_prev_away        23279 non-null  float64\n",
            " 11  HOME_RECORD_prev_away  23279 non-null  float64\n",
            " 12  ROAD_RECORD_prev_away  23279 non-null  float64\n",
            " 13  WIN_PRCT_home_3g       23279 non-null  float64\n",
            " 14  PTS_home_3g            23279 non-null  float64\n",
            " 15  FG_PCT_home_3g         23279 non-null  float64\n",
            " 16  FT_PCT_home_3g         23279 non-null  float64\n",
            " 17  FG3_PCT_home_3g        23279 non-null  float64\n",
            " 18  AST_home_3g            23279 non-null  float64\n",
            " 19  REB_home_3g            23279 non-null  float64\n",
            " 20  WIN_PRCT_away_3g       23279 non-null  float64\n",
            " 21  PTS_away_3g            23279 non-null  float64\n",
            " 22  FG_PCT_away_3g         23279 non-null  float64\n",
            " 23  FT_PCT_away_3g         23279 non-null  float64\n",
            " 24  FG3_PCT_away_3g        23279 non-null  float64\n",
            " 25  AST_away_3g            23279 non-null  float64\n",
            " 26  REB_away_3g            23279 non-null  float64\n",
            " 27  WIN_PRCT_home_20g      23279 non-null  float64\n",
            " 28  PTS_home_20g           23279 non-null  float64\n",
            " 29  FG_PCT_home_20g        23279 non-null  float64\n",
            " 30  FT_PCT_home_20g        23279 non-null  float64\n",
            " 31  FG3_PCT_home_20g       23279 non-null  float64\n",
            " 32  AST_home_20g           23279 non-null  float64\n",
            " 33  REB_home_20g           23279 non-null  float64\n",
            " 34  WIN_PRCT_away_20g      23279 non-null  float64\n",
            " 35  PTS_away_20g           23279 non-null  float64\n",
            " 36  FG_PCT_away_20g        23279 non-null  float64\n",
            " 37  FT_PCT_away_20g        23279 non-null  float64\n",
            " 38  FG3_PCT_away_20g       23279 non-null  float64\n",
            " 39  AST_away_20g           23279 non-null  float64\n",
            " 40  REB_away_20g           23279 non-null  float64\n",
            " 41  SEASON                 23279 non-null  int64  \n",
            " 42  HOME_TEAM_WINS         23279 non-null  int64  \n",
            "dtypes: float64(40), int64(3)\n",
            "memory usage: 7.8 MB\n"
          ],
          "name": "stdout"
        }
      ]
    },
    {
      "cell_type": "code",
      "metadata": {
        "colab": {
          "base_uri": "https://localhost:8080/",
          "height": 296
        },
        "id": "Kz83Oy3fdj1f",
        "outputId": "2cea3328-6586-412c-de41-9cf63348ba7d"
      },
      "source": [
        "TARGET=\"HOME_TEAM_WINS\"\n",
        "input_size=len(dataframe.columns)-2\n",
        "classes  = [\"NO\", \"YES\"]\n",
        "output_size=len(classes)\n",
        "print(input_size,  output_size,  classes)\n",
        "\n",
        "target = dataframe[TARGET].value_counts()\n",
        "target.plot(kind=\"bar\")"
      ],
      "execution_count": 19,
      "outputs": [
        {
          "output_type": "stream",
          "text": [
            "41 2 ['NO', 'YES']\n"
          ],
          "name": "stdout"
        },
        {
          "output_type": "execute_result",
          "data": {
            "text/plain": [
              "<matplotlib.axes._subplots.AxesSubplot at 0x7f1fb2a6fdd0>"
            ]
          },
          "metadata": {
            "tags": []
          },
          "execution_count": 19
        },
        {
          "output_type": "display_data",
          "data": {
            "image/png": "[encoded data removed]",
            "text/plain": [
              "<Figure size 432x288 with 1 Axes>"
            ]
          },
          "metadata": {
            "tags": [],
            "needs_background": "light"
          }
        }
      ]
    },
    {
      "cell_type": "code",
      "metadata": {
        "colab": {
          "base_uri": "https://localhost:8080/",
          "height": 297
        },
        "id": "sx3dDqFt_Lm_",
        "outputId": "58f823b8-572e-4c41-ffdd-28456c77e7f6"
      },
      "source": [
        "# Balance data\n",
        "\n",
        "min_count = min(target.values)\n",
        "max_count  = max(target.values)\n",
        "remove_n = int((max_count -min_count) * 0.8)\n",
        "temp = dataframe[dataframe[TARGET]==1]\n",
        "drop_indices = np.random.choice(temp.index, remove_n, replace=False)\n",
        "\n",
        "dataframe = dataframe.drop(drop_indices)\n",
        "\n",
        "num_rows= len(dataframe)\n",
        "print(f\"{num_rows}/{initial_len}\")\n",
        "\n",
        "target = dataframe[TARGET].value_counts()\n",
        "target.plot(kind=\"bar\")"
      ],
      "execution_count": 20,
      "outputs": [
        {
          "output_type": "stream",
          "text": [
            "19112/23376\n"
          ],
          "name": "stdout"
        },
        {
          "output_type": "execute_result",
          "data": {
            "text/plain": [
              "<matplotlib.axes._subplots.AxesSubplot at 0x7f1fb2811390>"
            ]
          },
          "metadata": {
            "tags": []
          },
          "execution_count": 20
        },
        {
          "output_type": "display_data",
          "data": {
            "image/png": "[encoded data removed]",
            "text/plain": [
              "<Figure size 432x288 with 1 Axes>"
            ]
          },
          "metadata": {
            "tags": [],
            "needs_background": "light"
          }
        }
      ]
    },
    {
      "cell_type": "code",
      "metadata": {
        "colab": {
          "base_uri": "https://localhost:8080/"
        },
        "id": "eaIxjQQZd0v6",
        "outputId": "3a3d1bcb-c63a-4f99-87ac-a62931d20732"
      },
      "source": [
        "# Convert from Pandas dataframe to numpy arrays\n",
        "inputs = dataframe.drop([TARGET,\"GAME_ID\"], axis=1).values\n",
        "targets = dataframe[[TARGET]].values\n",
        "inputs.shape, targets.shape"
      ],
      "execution_count": 21,
      "outputs": [
        {
          "output_type": "execute_result",
          "data": {
            "text/plain": [
              "((19112, 41), (19112, 1))"
            ]
          },
          "metadata": {
            "tags": []
          },
          "execution_count": 21
        }
      ]
    },
    {
      "cell_type": "code",
      "metadata": {
        "colab": {
          "base_uri": "https://localhost:8080/",
          "height": 318
        },
        "id": "UR74QTgVd8oe",
        "outputId": "69f108bf-a20e-4a07-e3bf-52f80d65c771"
      },
      "source": [
        "# Convert to PyTorch dataset\n",
        "dataset = TensorDataset(torch.tensor(inputs, dtype=torch.float32), torch.reshape(torch.tensor(targets,dtype=torch.int64), (-1,)))\n",
        "\n",
        "def describe_dataset(data):\n",
        "    classes_count = { c:0 for c in classes}\n",
        "    for _,label in data:\n",
        "        classes_count[classes[label]]+=1\n",
        "\n",
        "    print(f'Classes: {len(classes)} - {classes} ')\n",
        "    print(f'Examples: {len(data)}')\n",
        "    print(f'Counts: {classes_count}')\n",
        "    plt.bar(classes_count.keys(),classes_count.values(), alpha=0.3 )\n",
        "\n",
        "    return classes_count\n",
        "\n",
        "classes_count = describe_dataset(dataset)"
      ],
      "execution_count": 22,
      "outputs": [
        {
          "output_type": "stream",
          "text": [
            "Classes: 2 - ['NO', 'YES'] \n",
            "Examples: 19112\n",
            "Counts: {'NO': 9469, 'YES': 9643}\n"
          ],
          "name": "stdout"
        },
        {
          "output_type": "display_data",
          "data": {
            "image/png": "[encoded data removed]",
            "text/plain": [
              "<Figure size 432x288 with 1 Axes>"
            ]
          },
          "metadata": {
            "tags": [],
            "needs_background": "light"
          }
        }
      ]
    },
    {
      "cell_type": "code",
      "metadata": {
        "colab": {
          "base_uri": "https://localhost:8080/"
        },
        "id": "Wh8lX-ox-bNq",
        "outputId": "40893919-0306-4df1-9d95-71ac486f9e55"
      },
      "source": [
        "# Split Dataset\n",
        "val_percent = .15 \n",
        "val_size = int(num_rows * val_percent)\n",
        "train_size = num_rows - val_size\n",
        "\n",
        "train_ds, val_ds = random_split(dataset, [train_size, val_size])\n",
        "\n",
        "test_percent  = 0.5\n",
        "test_size = int(val_size * test_percent)\n",
        "val_size = val_size - test_size\n",
        "\n",
        "val_ds, test_ds = random_split(val_ds, [val_size,  test_size])\n",
        "\n",
        "# Hyperparameters\n",
        "batch_size=128\n",
        "\n",
        "# Create Dataloaders\n",
        "train_loader = DataLoader(train_ds, batch_size)\n",
        "val_loader = DataLoader(val_ds, batch_size*2)\n",
        "test_loader = DataLoader(test_ds, batch_size*2)\n",
        "\n",
        "len(train_ds), len(val_ds) , len(test_ds)"
      ],
      "execution_count": 23,
      "outputs": [
        {
          "output_type": "execute_result",
          "data": {
            "text/plain": [
              "(16246, 1433, 1433)"
            ]
          },
          "metadata": {
            "tags": []
          },
          "execution_count": 23
        }
      ]
    },
    {
      "cell_type": "code",
      "metadata": {
        "colab": {
          "base_uri": "https://localhost:8080/",
          "height": 316
        },
        "id": "diyKAhZK8xqC",
        "outputId": "054b75ae-ac53-4076-a098-88b58083a1e7"
      },
      "source": [
        "_ = describe_dataset(train_ds)"
      ],
      "execution_count": 24,
      "outputs": [
        {
          "output_type": "stream",
          "text": [
            "Classes: 2 - ['NO', 'YES'] \n",
            "Examples: 16246\n",
            "Counts: {'NO': 8083, 'YES': 8163}\n"
          ],
          "name": "stdout"
        },
        {
          "output_type": "display_data",
          "data": {
            "image/png": "[encoded data removed]",
            "text/plain": [
              "<Figure size 432x288 with 1 Axes>"
            ]
          },
          "metadata": {
            "tags": [],
            "needs_background": "light"
          }
        }
      ]
    },
    {
      "cell_type": "code",
      "metadata": {
        "colab": {
          "base_uri": "https://localhost:8080/",
          "height": 316
        },
        "id": "yhgrJ2mI8xe3",
        "outputId": "3b5fe659-7877-47a9-a23c-d1b1ac276c02"
      },
      "source": [
        "_ = describe_dataset(val_ds)"
      ],
      "execution_count": 25,
      "outputs": [
        {
          "output_type": "stream",
          "text": [
            "Classes: 2 - ['NO', 'YES'] \n",
            "Examples: 1433\n",
            "Counts: {'NO': 696, 'YES': 737}\n"
          ],
          "name": "stdout"
        },
        {
          "output_type": "display_data",
          "data": {
            "image/png": "[encoded data removed]",
            "text/plain": [
              "<Figure size 432x288 with 1 Axes>"
            ]
          },
          "metadata": {
            "tags": [],
            "needs_background": "light"
          }
        }
      ]
    },
    {
      "cell_type": "code",
      "metadata": {
        "colab": {
          "base_uri": "https://localhost:8080/",
          "height": 316
        },
        "id": "pp_l_-gc8xQm",
        "outputId": "7de7ab13-53f9-4781-ed7f-e9b58f4f4408"
      },
      "source": [
        "_ = describe_dataset(test_ds)"
      ],
      "execution_count": 26,
      "outputs": [
        {
          "output_type": "stream",
          "text": [
            "Classes: 2 - ['NO', 'YES'] \n",
            "Examples: 1433\n",
            "Counts: {'NO': 690, 'YES': 743}\n"
          ],
          "name": "stdout"
        },
        {
          "output_type": "display_data",
          "data": {
            "image/png": "[encoded data removed]",
            "text/plain": [
              "<Figure size 432x288 with 1 Axes>"
            ]
          },
          "metadata": {
            "tags": [],
            "needs_background": "light"
          }
        }
      ]
    },
    {
      "cell_type": "code",
      "metadata": {
        "id": "pOMd5iLPfIT4"
      },
      "source": [
        "class BaseModel(nn.Module):\n",
        "    def __init__(self, loss_fn=F.cross_entropy):\n",
        "        super().__init__()\n",
        "        self.loss_fn = loss_fn\n",
        "\n",
        "    def training_step(self, batch):\n",
        "        images, labels = batch \n",
        "        out = self(images)                  \n",
        "        loss = self.loss_fn(out, labels) \n",
        "        return loss\n",
        "    \n",
        "    def validation_step(self, batch):\n",
        "        images, labels = batch \n",
        "        out = self(images)                    \n",
        "        loss = self.loss_fn(out, labels)   \n",
        "        acc = accuracy(out, labels)           \n",
        "        return {'val_loss': loss.detach(), 'val_acc': acc}\n",
        "        \n",
        "    def validation_epoch_end(self, outputs):\n",
        "        batch_losses = [x['val_loss'] for x in outputs]\n",
        "        epoch_loss = torch.stack(batch_losses).mean()   \n",
        "        batch_accs = [x['val_acc'] for x in outputs]\n",
        "        epoch_acc = torch.stack(batch_accs).mean()      \n",
        "        return {'val_loss': epoch_loss.item(), 'val_acc': epoch_acc.item()}\n",
        "    \n",
        "    def epoch_end(self, epoch, result):\n",
        "        print(\"Epoch [{}], last_lr: {:.5f}, train_loss: {:.4f}, val_loss: {:.4f}, val_acc: {:.4f}\".format(\n",
        "            epoch, result['lrs'][-1], result['train_loss'], result['val_loss'], result['val_acc']))\n",
        "        \n",
        "def accuracy(outputs, labels):\n",
        "    _, preds = torch.max(outputs, dim=1)\n",
        "    return torch.tensor(torch.sum(preds == labels).item() / len(preds))"
      ],
      "execution_count": 27,
      "outputs": []
    },
    {
      "cell_type": "code",
      "metadata": {
        "id": "Z1cBx3AlgYbN"
      },
      "source": [
        "class NBAModel(BaseModel):\n",
        "  def __init__(self, input_size, output_size, loss_fn):\n",
        "      super().__init__(loss_fn=loss_fn)\n",
        "      self.network = nn.Sequential(\n",
        "            nn.Linear(input_size, 1024),\n",
        "            nn.ReLU(),\n",
        "            nn.Linear(1024, 512),\n",
        "            nn.ReLU(),\n",
        "            nn.Linear(512, 24),\n",
        "            nn.ReLU(),\n",
        "            nn.Linear(24, output_size),\n",
        "      )\n",
        "    \n",
        "  def forward(self, xb):\n",
        "      return self.network(xb)"
      ],
      "execution_count": 28,
      "outputs": []
    },
    {
      "cell_type": "code",
      "metadata": {
        "id": "KACR-0RSfMN6"
      },
      "source": [
        "@torch.no_grad()\n",
        "def evaluate(model, val_loader):\n",
        "    model.eval()\n",
        "    outputs = [model.validation_step(batch) for batch in val_loader]\n",
        "    return model.validation_epoch_end(outputs)\n",
        "\n",
        "def get_lr(optimizer):\n",
        "    for param_group in optimizer.param_groups:\n",
        "        return param_group['lr']\n",
        "\n",
        "def fit_one_cycle(epochs, max_lr, model, train_loader, val_loader, \n",
        "                  weight_decay=0, grad_clip=None, opt_func=torch.optim.SGD):\n",
        "    torch.cuda.empty_cache()\n",
        "    history = []\n",
        "    \n",
        "    # Set up cutom optimizer with weight decay\n",
        "    optimizer = opt_func(model.parameters(), max_lr, weight_decay=weight_decay)\n",
        "    # Set up one-cycle learning rate scheduler\n",
        "    sched = torch.optim.lr_scheduler.OneCycleLR(optimizer, max_lr, epochs=epochs, \n",
        "                                                steps_per_epoch=len(train_loader))\n",
        "    \n",
        "    for epoch in range(epochs):\n",
        "        # Training Phase \n",
        "        model.train()\n",
        "        train_losses = []\n",
        "        lrs = []\n",
        "        for batch in train_loader:\n",
        "            loss = model.training_step(batch)\n",
        "            train_losses.append(loss)\n",
        "            loss.backward()\n",
        "            \n",
        "            # Gradient clipping\n",
        "            if grad_clip: \n",
        "                nn.utils.clip_grad_value_(model.parameters(), grad_clip)\n",
        "            \n",
        "            optimizer.step()\n",
        "            optimizer.zero_grad()\n",
        "            \n",
        "            # Record & update learning rate\n",
        "            lrs.append(get_lr(optimizer))\n",
        "            sched.step()\n",
        "        \n",
        "        # Validation phase\n",
        "        result = evaluate(model, val_loader)\n",
        "        result['train_loss'] = torch.stack(train_losses).mean().item()\n",
        "        result['lrs'] = lrs\n",
        "        model.epoch_end(epoch, result)\n",
        "        history.append(result)\n",
        "    return history\n",
        "\n",
        "def plot_losses(history):\n",
        "    train_losses = [x.get('train_loss') for x in history]\n",
        "    val_losses = [x['val_loss'] for x in history]\n",
        "    plt.plot(train_losses, '-bx')\n",
        "    plt.plot(val_losses, '-rx')\n",
        "    plt.xlabel('epoch')\n",
        "    plt.ylabel('loss')\n",
        "    plt.legend(['Training', 'Validation'])\n",
        "    plt.title('Loss vs. No. of epochs')\n",
        "\n",
        "def plot_accuracies(history):\n",
        "    accuracies = [x['val_acc'] for x in history]\n",
        "    plt.plot(accuracies, '-x')\n",
        "    plt.xlabel('epoch')\n",
        "    plt.ylabel('accuracy')\n",
        "    plt.title('Accuracy vs. No. of epochs')\n",
        "\n",
        "def plot_lrs(history):\n",
        "    lrs = np.concatenate([x.get('lrs', []) for x in history])\n",
        "    plt.plot(lrs)\n",
        "    plt.xlabel('Batch no.')\n",
        "    plt.ylabel('Learning rate')\n",
        "    plt.title('Learning Rate vs. Batch no.')"
      ],
      "execution_count": 29,
      "outputs": []
    },
    {
      "cell_type": "code",
      "metadata": {
        "id": "sK89Zo4TA8zH"
      },
      "source": [
        "model = NBAModel(input_size, output_size, loss_fn=F.cross_entropy )"
      ],
      "execution_count": 54,
      "outputs": []
    },
    {
      "cell_type": "code",
      "metadata": {
        "colab": {
          "base_uri": "https://localhost:8080/"
        },
        "id": "xlD-YfSagz-c",
        "outputId": "04b74647-f81a-4bdd-be3d-7b5a44dd7920"
      },
      "source": [
        "history = [evaluate(model, val_loader)]\n",
        "history"
      ],
      "execution_count": 55,
      "outputs": [
        {
          "output_type": "execute_result",
          "data": {
            "text/plain": [
              "[{'val_acc': 0.5140038132667542, 'val_loss': 1.3646711111068726}]"
            ]
          },
          "metadata": {
            "tags": []
          },
          "execution_count": 55
        }
      ]
    },
    {
      "cell_type": "code",
      "metadata": {
        "id": "FzJ8rqKUg41L"
      },
      "source": [
        "epochs = 70\n",
        "max_lr = 0.000001\n",
        "grad_clip = 0.1\n",
        "weight_decay = 1e-5\n",
        "opt_func = torch.optim.Adam"
      ],
      "execution_count": 56,
      "outputs": []
    },
    {
      "cell_type": "code",
      "metadata": {
        "colab": {
          "base_uri": "https://localhost:8080/"
        },
        "id": "cBzoGHBrhVSs",
        "outputId": "4dd1e33f-e818-4fcc-f421-faf4076ae815"
      },
      "source": [
        "%%time\n",
        "history += fit_one_cycle(epochs, max_lr, model, train_loader, val_loader, \n",
        "                          grad_clip=grad_clip, \n",
        "                          weight_decay=weight_decay, \n",
        "                          opt_func=opt_func)"
      ],
      "execution_count": 57,
      "outputs": [
        {
          "output_type": "stream",
          "text": [
            "Epoch [0], last_lr: 0.00000, train_loss: 1.1806, val_loss: 0.9842, val_acc: 0.5140\n",
            "Epoch [1], last_lr: 0.00000, train_loss: 0.8574, val_loss: 0.7283, val_acc: 0.5140\n",
            "Epoch [2], last_lr: 0.00000, train_loss: 0.6979, val_loss: 0.6920, val_acc: 0.5196\n",
            "Epoch [3], last_lr: 0.00000, train_loss: 0.6900, val_loss: 0.6920, val_acc: 0.5194\n",
            "Epoch [4], last_lr: 0.00000, train_loss: 0.6901, val_loss: 0.6917, val_acc: 0.5246\n",
            "Epoch [5], last_lr: 0.00000, train_loss: 0.6901, val_loss: 0.6918, val_acc: 0.5218\n",
            "Epoch [6], last_lr: 0.00000, train_loss: 0.6900, val_loss: 0.6916, val_acc: 0.5246\n",
            "Epoch [7], last_lr: 0.00000, train_loss: 0.6899, val_loss: 0.6909, val_acc: 0.5335\n",
            "Epoch [8], last_lr: 0.00000, train_loss: 0.6897, val_loss: 0.6906, val_acc: 0.5155\n",
            "Epoch [9], last_lr: 0.00000, train_loss: 0.6895, val_loss: 0.6909, val_acc: 0.5214\n",
            "Epoch [10], last_lr: 0.00000, train_loss: 0.6895, val_loss: 0.6914, val_acc: 0.5192\n",
            "Epoch [11], last_lr: 0.00000, train_loss: 0.6895, val_loss: 0.6917, val_acc: 0.5205\n",
            "Epoch [12], last_lr: 0.00000, train_loss: 0.6895, val_loss: 0.6917, val_acc: 0.5201\n",
            "Epoch [13], last_lr: 0.00000, train_loss: 0.6894, val_loss: 0.6907, val_acc: 0.5209\n",
            "Epoch [14], last_lr: 0.00000, train_loss: 0.6892, val_loss: 0.6898, val_acc: 0.5327\n",
            "Epoch [15], last_lr: 0.00000, train_loss: 0.6891, val_loss: 0.6897, val_acc: 0.5361\n",
            "Epoch [16], last_lr: 0.00000, train_loss: 0.6891, val_loss: 0.6896, val_acc: 0.5390\n",
            "Epoch [17], last_lr: 0.00000, train_loss: 0.6890, val_loss: 0.6895, val_acc: 0.5390\n",
            "Epoch [18], last_lr: 0.00000, train_loss: 0.6890, val_loss: 0.6894, val_acc: 0.5337\n",
            "Epoch [19], last_lr: 0.00000, train_loss: 0.6889, val_loss: 0.6892, val_acc: 0.5366\n",
            "Epoch [20], last_lr: 0.00000, train_loss: 0.6888, val_loss: 0.6891, val_acc: 0.5296\n",
            "Epoch [21], last_lr: 0.00000, train_loss: 0.6885, val_loss: 0.6890, val_acc: 0.5283\n",
            "Epoch [22], last_lr: 0.00000, train_loss: 0.6884, val_loss: 0.6889, val_acc: 0.5303\n",
            "Epoch [23], last_lr: 0.00000, train_loss: 0.6882, val_loss: 0.6888, val_acc: 0.5348\n",
            "Epoch [24], last_lr: 0.00000, train_loss: 0.6881, val_loss: 0.6887, val_acc: 0.5324\n",
            "Epoch [25], last_lr: 0.00000, train_loss: 0.6879, val_loss: 0.6886, val_acc: 0.5377\n",
            "Epoch [26], last_lr: 0.00000, train_loss: 0.6878, val_loss: 0.6885, val_acc: 0.5435\n",
            "Epoch [27], last_lr: 0.00000, train_loss: 0.6876, val_loss: 0.6884, val_acc: 0.5440\n",
            "Epoch [28], last_lr: 0.00000, train_loss: 0.6875, val_loss: 0.6884, val_acc: 0.5442\n",
            "Epoch [29], last_lr: 0.00000, train_loss: 0.6873, val_loss: 0.6883, val_acc: 0.5422\n",
            "Epoch [30], last_lr: 0.00000, train_loss: 0.6872, val_loss: 0.6883, val_acc: 0.5448\n",
            "Epoch [31], last_lr: 0.00000, train_loss: 0.6871, val_loss: 0.6882, val_acc: 0.5448\n",
            "Epoch [32], last_lr: 0.00000, train_loss: 0.6869, val_loss: 0.6881, val_acc: 0.5455\n",
            "Epoch [33], last_lr: 0.00000, train_loss: 0.6868, val_loss: 0.6880, val_acc: 0.5459\n",
            "Epoch [34], last_lr: 0.00000, train_loss: 0.6867, val_loss: 0.6879, val_acc: 0.5440\n",
            "Epoch [35], last_lr: 0.00000, train_loss: 0.6866, val_loss: 0.6880, val_acc: 0.5348\n",
            "Epoch [36], last_lr: 0.00000, train_loss: 0.6864, val_loss: 0.6881, val_acc: 0.5335\n",
            "Epoch [37], last_lr: 0.00000, train_loss: 0.6863, val_loss: 0.6885, val_acc: 0.5322\n",
            "Epoch [38], last_lr: 0.00000, train_loss: 0.6862, val_loss: 0.6889, val_acc: 0.5309\n",
            "Epoch [39], last_lr: 0.00000, train_loss: 0.6862, val_loss: 0.6893, val_acc: 0.5309\n",
            "Epoch [40], last_lr: 0.00000, train_loss: 0.6861, val_loss: 0.6894, val_acc: 0.5277\n",
            "Epoch [41], last_lr: 0.00000, train_loss: 0.6860, val_loss: 0.6892, val_acc: 0.5298\n",
            "Epoch [42], last_lr: 0.00000, train_loss: 0.6859, val_loss: 0.6889, val_acc: 0.5322\n",
            "Epoch [43], last_lr: 0.00000, train_loss: 0.6858, val_loss: 0.6887, val_acc: 0.5337\n",
            "Epoch [44], last_lr: 0.00000, train_loss: 0.6856, val_loss: 0.6884, val_acc: 0.5333\n",
            "Epoch [45], last_lr: 0.00000, train_loss: 0.6854, val_loss: 0.6881, val_acc: 0.5322\n",
            "Epoch [46], last_lr: 0.00000, train_loss: 0.6853, val_loss: 0.6878, val_acc: 0.5309\n",
            "Epoch [47], last_lr: 0.00000, train_loss: 0.6852, val_loss: 0.6876, val_acc: 0.5333\n",
            "Epoch [48], last_lr: 0.00000, train_loss: 0.6851, val_loss: 0.6874, val_acc: 0.5398\n",
            "Epoch [49], last_lr: 0.00000, train_loss: 0.6850, val_loss: 0.6873, val_acc: 0.5474\n",
            "Epoch [50], last_lr: 0.00000, train_loss: 0.6849, val_loss: 0.6873, val_acc: 0.5509\n",
            "Epoch [51], last_lr: 0.00000, train_loss: 0.6848, val_loss: 0.6873, val_acc: 0.5526\n",
            "Epoch [52], last_lr: 0.00000, train_loss: 0.6848, val_loss: 0.6874, val_acc: 0.5544\n",
            "Epoch [53], last_lr: 0.00000, train_loss: 0.6848, val_loss: 0.6876, val_acc: 0.5418\n",
            "Epoch [54], last_lr: 0.00000, train_loss: 0.6848, val_loss: 0.6878, val_acc: 0.5383\n",
            "Epoch [55], last_lr: 0.00000, train_loss: 0.6847, val_loss: 0.6878, val_acc: 0.5387\n",
            "Epoch [56], last_lr: 0.00000, train_loss: 0.6846, val_loss: 0.6876, val_acc: 0.5387\n",
            "Epoch [57], last_lr: 0.00000, train_loss: 0.6844, val_loss: 0.6874, val_acc: 0.5537\n",
            "Epoch [58], last_lr: 0.00000, train_loss: 0.6843, val_loss: 0.6873, val_acc: 0.5529\n",
            "Epoch [59], last_lr: 0.00000, train_loss: 0.6842, val_loss: 0.6873, val_acc: 0.5529\n",
            "Epoch [60], last_lr: 0.00000, train_loss: 0.6841, val_loss: 0.6874, val_acc: 0.5537\n",
            "Epoch [61], last_lr: 0.00000, train_loss: 0.6840, val_loss: 0.6875, val_acc: 0.5476\n",
            "Epoch [62], last_lr: 0.00000, train_loss: 0.6840, val_loss: 0.6876, val_acc: 0.5394\n",
            "Epoch [63], last_lr: 0.00000, train_loss: 0.6839, val_loss: 0.6876, val_acc: 0.5346\n",
            "Epoch [64], last_lr: 0.00000, train_loss: 0.6839, val_loss: 0.6876, val_acc: 0.5394\n",
            "Epoch [65], last_lr: 0.00000, train_loss: 0.6838, val_loss: 0.6875, val_acc: 0.5470\n",
            "Epoch [66], last_lr: 0.00000, train_loss: 0.6838, val_loss: 0.6874, val_acc: 0.5498\n",
            "Epoch [67], last_lr: 0.00000, train_loss: 0.6838, val_loss: 0.6874, val_acc: 0.5537\n",
            "Epoch [68], last_lr: 0.00000, train_loss: 0.6837, val_loss: 0.6873, val_acc: 0.5531\n",
            "Epoch [69], last_lr: 0.00000, train_loss: 0.6837, val_loss: 0.6873, val_acc: 0.5531\n",
            "CPU times: user 2min 31s, sys: 1.92 s, total: 2min 32s\n",
            "Wall time: 2min 32s\n"
          ],
          "name": "stdout"
        }
      ]
    },
    {
      "cell_type": "code",
      "metadata": {
        "colab": {
          "base_uri": "https://localhost:8080/"
        },
        "id": "S-0GbbKRlpel",
        "outputId": "3c479385-e38f-4abb-af6f-64d58bcaa269"
      },
      "source": [
        "test_result = evaluate(model, test_loader)\n",
        "test_result"
      ],
      "execution_count": 58,
      "outputs": [
        {
          "output_type": "execute_result",
          "data": {
            "text/plain": [
              "{'val_acc': 0.5404837131500244, 'val_loss': 0.688840389251709}"
            ]
          },
          "metadata": {
            "tags": []
          },
          "execution_count": 58
        }
      ]
    },
    {
      "cell_type": "code",
      "metadata": {
        "colab": {
          "base_uri": "https://localhost:8080/",
          "height": 295
        },
        "id": "k4Nwx1T6lwl3",
        "outputId": "bbba643e-c39e-4924-c12c-37f7e5738371"
      },
      "source": [
        "plot_accuracies(history)\n"
      ],
      "execution_count": 59,
      "outputs": [
        {
          "output_type": "display_data",
          "data": {
            "image/png": "[encoded data removed]",
            "text/plain": [
              "<Figure size 432x288 with 1 Axes>"
            ]
          },
          "metadata": {
            "tags": [],
            "needs_background": "light"
          }
        }
      ]
    },
    {
      "cell_type": "code",
      "metadata": {
        "colab": {
          "base_uri": "https://localhost:8080/",
          "height": 295
        },
        "id": "luMzWWn9lxxD",
        "outputId": "6ea65a8d-9fb1-46d9-c3ed-1666731ec825"
      },
      "source": [
        "plot_losses(history)"
      ],
      "execution_count": 60,
      "outputs": [
        {
          "output_type": "display_data",
          "data": {
            "image/png": "[encoded data removed]",
            "text/plain": [
              "<Figure size 432x288 with 1 Axes>"
            ]
          },
          "metadata": {
            "tags": [],
            "needs_background": "light"
          }
        }
      ]
    },
    {
      "cell_type": "code",
      "metadata": {
        "colab": {
          "base_uri": "https://localhost:8080/",
          "height": 295
        },
        "id": "DW1K0EQcl11S",
        "outputId": "281fe81e-de64-41d8-bef9-00e0ca6d4ab8"
      },
      "source": [
        "plot_lrs(history)"
      ],
      "execution_count": 61,
      "outputs": [
        {
          "output_type": "display_data",
          "data": {
            "image/png": "[encoded data removed]",
            "text/plain": [
              "<Figure size 432x288 with 1 Axes>"
            ]
          },
          "metadata": {
            "tags": [],
            "needs_background": "light"
          }
        }
      ]
    },
    {
      "cell_type": "code",
      "metadata": {
        "id": "_AgGDiy2hXpQ"
      },
      "source": [
        "def predict_single(input, target, model):\n",
        "    predictions = model(input) \n",
        "    _, preds = torch.max(predictions, dim=0)\n",
        "    # print(\"Input:\", input)\n",
        "    print(\"Target:\", classes[target.item()])\n",
        "    print(\"Prediction:\", classes[preds.item()])"
      ],
      "execution_count": 62,
      "outputs": []
    },
    {
      "cell_type": "code",
      "metadata": {
        "colab": {
          "base_uri": "https://localhost:8080/"
        },
        "id": "dM1lSIPolF8A",
        "outputId": "30734824-4454-497f-bed2-337af95b2ba5"
      },
      "source": [
        "input, target = test_ds[10]\n",
        "predict_single(input, target, model)"
      ],
      "execution_count": 63,
      "outputs": [
        {
          "output_type": "stream",
          "text": [
            "Target: NO\n",
            "Prediction: NO\n"
          ],
          "name": "stdout"
        }
      ]
    },
    {
      "cell_type": "code",
      "metadata": {
        "colab": {
          "base_uri": "https://localhost:8080/"
        },
        "id": "KGUKAU79lGWn",
        "outputId": "c0c205e0-994a-4a0d-d895-f106cfc7e8fe"
      },
      "source": [
        "input, target = test_ds[203]\n",
        "predict_single(input, target, model)"
      ],
      "execution_count": 64,
      "outputs": [
        {
          "output_type": "stream",
          "text": [
            "Target: NO\n",
            "Prediction: NO\n"
          ],
          "name": "stdout"
        }
      ]
    },
    {
      "cell_type": "code",
      "metadata": {
        "colab": {
          "base_uri": "https://localhost:8080/"
        },
        "id": "TCT0_GV063Wn",
        "outputId": "7467d3db-fb86-41d8-cbea-4836c7eab5b8"
      },
      "source": [
        "input, target = test_ds[100]\n",
        "predict_single(input, target, model)"
      ],
      "execution_count": 65,
      "outputs": [
        {
          "output_type": "stream",
          "text": [
            "Target: YES\n",
            "Prediction: YES\n"
          ],
          "name": "stdout"
        }
      ]
    },
    {
      "cell_type": "code",
      "metadata": {
        "id": "Ouv1X4x4CyEu"
      },
      "source": [
        "torch.save(model.state_dict(), 'nba_model.pth')"
      ],
      "execution_count": 66,
      "outputs": []
    },
    {
      "cell_type": "code",
      "metadata": {
        "id": "E2RgquXyGXbj"
      },
      "source": [
        ""
      ],
      "execution_count": null,
      "outputs": []
    }
  ]
}