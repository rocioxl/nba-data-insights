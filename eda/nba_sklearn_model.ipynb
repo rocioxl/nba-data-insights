{
  "nbformat": 4,
  "nbformat_minor": 0,
  "metadata": {
    "colab": {
      "name": "nba_sklearn_model.ipynb",
      "provenance": [],
      "collapsed_sections": []
    },
    "kernelspec": {
      "name": "python385jvsc74a57bd045455c5bef6d358c59286561ef15ab5c0f9bf08ba5e8b0f77dc1457ad92939db",
      "display_name": "Python 3.8.5 64-bit ('conda_nba': conda)"
    },
    "language_info": {
      "name": "python",
      "version": "3.8.5-final"
    }
  },
  "cells": [
    {
      "cell_type": "code",
      "metadata": {
        "colab": {
          "base_uri": "https://localhost:8080/"
        },
        "id": "XmoBFRH5HMDx",
        "outputId": "608c1f97-a7d7-4e7d-8a9c-c29702738b9f"
      },
      "source": [
        "from google.colab import drive\n",
        "drive.mount('/gdrive')\n",
        "%cd \"/gdrive/MyDrive/clue\""
      ],
      "execution_count": 2,
      "outputs": [
        {
          "output_type": "stream",
          "text": [
            "Drive already mounted at /gdrive; to attempt to forcibly remount, call drive.mount(\"/gdrive\", force_remount=True).\n",
            "/gdrive/MyDrive/clue\n"
          ],
          "name": "stdout"
        }
      ]
    },
    {
      "cell_type": "code",
      "metadata": {
        "id": "9KguVW3RHfg2"
      },
      "source": [
        "import pandas as pd\n",
        "import matplotlib.pyplot as plt\n",
        "import numpy as np"
      ],
      "execution_count": 4,
      "outputs": []
    },
    {
      "cell_type": "code",
      "metadata": {
        "colab": {
          "base_uri": "https://localhost:8080/",
          "height": 224
        },
        "id": "W-ELTeqeHM9R",
        "outputId": "e51247a7-aff6-429c-ee76-5beb0fbd915e"
      },
      "source": [
        "# Other constants\n",
        "DATASET_DIR = \"./\"\n",
        "DATA_FILENAME = \"dataset.csv\"\n",
        "\n",
        "dataframe = pd.read_csv(f\"{DATASET_DIR}{DATA_FILENAME}\")\n",
        "dataframe.sample(5)"
      ],
      "execution_count": 5,
      "outputs": [
        {
          "output_type": "execute_result",
          "data": {
            "text/html": [
              "<div>\n",
              "<style scoped>\n",
              "    .dataframe tbody tr th:only-of-type {\n",
              "        vertical-align: middle;\n",
              "    }\n",
              "\n",
              "    .dataframe tbody tr th {\n",
              "        vertical-align: top;\n",
              "    }\n",
              "\n",
              "    .dataframe thead th {\n",
              "        text-align: right;\n",
              "    }\n",
              "</style>\n",
              "<table border=\"1\" class=\"dataframe\">\n",
              "  <thead>\n",
              "    <tr style=\"text-align: right;\">\n",
              "      <th></th>\n",
              "      <th>GAME_ID</th>\n",
              "      <th>G_home</th>\n",
              "      <th>W_home</th>\n",
              "      <th>L_home</th>\n",
              "      <th>W_PCT_home</th>\n",
              "      <th>HOME_RECORD_home</th>\n",
              "      <th>ROAD_RECORD_home</th>\n",
              "      <th>G_prev_home</th>\n",
              "      <th>W_prev_home</th>\n",
              "      <th>L_prev_home</th>\n",
              "      <th>W_PCT_prev_home</th>\n",
              "      <th>HOME_RECORD_prev_home</th>\n",
              "      <th>ROAD_RECORD_prev_home</th>\n",
              "      <th>G_away</th>\n",
              "      <th>W_away</th>\n",
              "      <th>L_away</th>\n",
              "      <th>W_PCT_away</th>\n",
              "      <th>HOME_RECORD_away</th>\n",
              "      <th>ROAD_RECORD_away</th>\n",
              "      <th>G_prev_away</th>\n",
              "      <th>W_prev_away</th>\n",
              "      <th>L_prev_away</th>\n",
              "      <th>W_PCT_prev_away</th>\n",
              "      <th>HOME_RECORD_prev_away</th>\n",
              "      <th>ROAD_RECORD_prev_away</th>\n",
              "      <th>WIN_PRCT_home_3g</th>\n",
              "      <th>PTS_home_3g</th>\n",
              "      <th>FG_PCT_home_3g</th>\n",
              "      <th>FT_PCT_home_3g</th>\n",
              "      <th>FG3_PCT_home_3g</th>\n",
              "      <th>AST_home_3g</th>\n",
              "      <th>REB_home_3g</th>\n",
              "      <th>WIN_PRCT_away_3g</th>\n",
              "      <th>PTS_away_3g</th>\n",
              "      <th>FG_PCT_away_3g</th>\n",
              "      <th>FT_PCT_away_3g</th>\n",
              "      <th>FG3_PCT_away_3g</th>\n",
              "      <th>AST_away_3g</th>\n",
              "      <th>REB_away_3g</th>\n",
              "      <th>SEASON</th>\n",
              "      <th>HOME_TEAM_WINS</th>\n",
              "    </tr>\n",
              "  </thead>\n",
              "  <tbody>\n",
              "    <tr>\n",
              "      <th>7240</th>\n",
              "      <td>21200349</td>\n",
              "      <td>22</td>\n",
              "      <td>10</td>\n",
              "      <td>12</td>\n",
              "      <td>0.455</td>\n",
              "      <td>0.600000</td>\n",
              "      <td>0.333333</td>\n",
              "      <td>66</td>\n",
              "      <td>28</td>\n",
              "      <td>38</td>\n",
              "      <td>0.424</td>\n",
              "      <td>0.606061</td>\n",
              "      <td>0.242424</td>\n",
              "      <td>22</td>\n",
              "      <td>5</td>\n",
              "      <td>17</td>\n",
              "      <td>0.227</td>\n",
              "      <td>0.230769</td>\n",
              "      <td>0.222222</td>\n",
              "      <td>66</td>\n",
              "      <td>21</td>\n",
              "      <td>45</td>\n",
              "      <td>0.318</td>\n",
              "      <td>0.333333</td>\n",
              "      <td>0.303030</td>\n",
              "      <td>0.666667</td>\n",
              "      <td>90.000000</td>\n",
              "      <td>0.415333</td>\n",
              "      <td>0.868000</td>\n",
              "      <td>0.213333</td>\n",
              "      <td>17.000000</td>\n",
              "      <td>45.000000</td>\n",
              "      <td>0.000000</td>\n",
              "      <td>86.666667</td>\n",
              "      <td>0.420333</td>\n",
              "      <td>0.716333</td>\n",
              "      <td>0.372333</td>\n",
              "      <td>20.000000</td>\n",
              "      <td>42.333333</td>\n",
              "      <td>2012</td>\n",
              "      <td>1</td>\n",
              "    </tr>\n",
              "    <tr>\n",
              "      <th>17063</th>\n",
              "      <td>12000031</td>\n",
              "      <td>2</td>\n",
              "      <td>0</td>\n",
              "      <td>2</td>\n",
              "      <td>0.000</td>\n",
              "      <td>NaN</td>\n",
              "      <td>0.000000</td>\n",
              "      <td>73</td>\n",
              "      <td>34</td>\n",
              "      <td>39</td>\n",
              "      <td>0.466</td>\n",
              "      <td>0.435897</td>\n",
              "      <td>0.500000</td>\n",
              "      <td>2</td>\n",
              "      <td>2</td>\n",
              "      <td>0</td>\n",
              "      <td>1.000</td>\n",
              "      <td>1.000000</td>\n",
              "      <td>NaN</td>\n",
              "      <td>71</td>\n",
              "      <td>52</td>\n",
              "      <td>19</td>\n",
              "      <td>0.732</td>\n",
              "      <td>0.714286</td>\n",
              "      <td>0.750000</td>\n",
              "      <td>0.333333</td>\n",
              "      <td>108.333333</td>\n",
              "      <td>0.468000</td>\n",
              "      <td>0.746333</td>\n",
              "      <td>0.347667</td>\n",
              "      <td>24.000000</td>\n",
              "      <td>43.333333</td>\n",
              "      <td>1.000000</td>\n",
              "      <td>108.000000</td>\n",
              "      <td>0.469333</td>\n",
              "      <td>0.706667</td>\n",
              "      <td>0.450667</td>\n",
              "      <td>22.000000</td>\n",
              "      <td>45.666667</td>\n",
              "      <td>2020</td>\n",
              "      <td>0</td>\n",
              "    </tr>\n",
              "    <tr>\n",
              "      <th>2547</th>\n",
              "      <td>20800915</td>\n",
              "      <td>59</td>\n",
              "      <td>37</td>\n",
              "      <td>22</td>\n",
              "      <td>0.627</td>\n",
              "      <td>0.700000</td>\n",
              "      <td>0.551724</td>\n",
              "      <td>82</td>\n",
              "      <td>56</td>\n",
              "      <td>26</td>\n",
              "      <td>0.683</td>\n",
              "      <td>0.731707</td>\n",
              "      <td>0.634146</td>\n",
              "      <td>61</td>\n",
              "      <td>37</td>\n",
              "      <td>24</td>\n",
              "      <td>0.607</td>\n",
              "      <td>0.741935</td>\n",
              "      <td>0.466667</td>\n",
              "      <td>82</td>\n",
              "      <td>51</td>\n",
              "      <td>31</td>\n",
              "      <td>0.622</td>\n",
              "      <td>0.829268</td>\n",
              "      <td>0.414634</td>\n",
              "      <td>1.000000</td>\n",
              "      <td>97.333333</td>\n",
              "      <td>0.438000</td>\n",
              "      <td>0.769667</td>\n",
              "      <td>0.367000</td>\n",
              "      <td>21.333333</td>\n",
              "      <td>49.333333</td>\n",
              "      <td>0.666667</td>\n",
              "      <td>101.000000</td>\n",
              "      <td>0.467333</td>\n",
              "      <td>0.859667</td>\n",
              "      <td>0.356667</td>\n",
              "      <td>23.333333</td>\n",
              "      <td>42.000000</td>\n",
              "      <td>2008</td>\n",
              "      <td>1</td>\n",
              "    </tr>\n",
              "    <tr>\n",
              "      <th>3019</th>\n",
              "      <td>20900072</td>\n",
              "      <td>4</td>\n",
              "      <td>2</td>\n",
              "      <td>2</td>\n",
              "      <td>0.500</td>\n",
              "      <td>1.000000</td>\n",
              "      <td>0.000000</td>\n",
              "      <td>82</td>\n",
              "      <td>35</td>\n",
              "      <td>47</td>\n",
              "      <td>0.427</td>\n",
              "      <td>0.560976</td>\n",
              "      <td>0.292683</td>\n",
              "      <td>5</td>\n",
              "      <td>4</td>\n",
              "      <td>1</td>\n",
              "      <td>0.800</td>\n",
              "      <td>1.000000</td>\n",
              "      <td>0.666667</td>\n",
              "      <td>82</td>\n",
              "      <td>47</td>\n",
              "      <td>35</td>\n",
              "      <td>0.573</td>\n",
              "      <td>0.756098</td>\n",
              "      <td>0.390244</td>\n",
              "      <td>0.666667</td>\n",
              "      <td>86.666667</td>\n",
              "      <td>0.376667</td>\n",
              "      <td>0.804333</td>\n",
              "      <td>0.232000</td>\n",
              "      <td>16.333333</td>\n",
              "      <td>46.333333</td>\n",
              "      <td>0.666667</td>\n",
              "      <td>106.666667</td>\n",
              "      <td>0.484333</td>\n",
              "      <td>0.830667</td>\n",
              "      <td>0.337333</td>\n",
              "      <td>19.666667</td>\n",
              "      <td>44.333333</td>\n",
              "      <td>2009</td>\n",
              "      <td>1</td>\n",
              "    </tr>\n",
              "    <tr>\n",
              "      <th>17276</th>\n",
              "      <td>21900498</td>\n",
              "      <td>33</td>\n",
              "      <td>21</td>\n",
              "      <td>12</td>\n",
              "      <td>0.636</td>\n",
              "      <td>0.823529</td>\n",
              "      <td>0.437500</td>\n",
              "      <td>82</td>\n",
              "      <td>48</td>\n",
              "      <td>34</td>\n",
              "      <td>0.585</td>\n",
              "      <td>0.707317</td>\n",
              "      <td>0.463415</td>\n",
              "      <td>35</td>\n",
              "      <td>23</td>\n",
              "      <td>12</td>\n",
              "      <td>0.657</td>\n",
              "      <td>0.888889</td>\n",
              "      <td>0.411765</td>\n",
              "      <td>82</td>\n",
              "      <td>51</td>\n",
              "      <td>31</td>\n",
              "      <td>0.622</td>\n",
              "      <td>0.756098</td>\n",
              "      <td>0.487805</td>\n",
              "      <td>0.333333</td>\n",
              "      <td>110.000000</td>\n",
              "      <td>0.450333</td>\n",
              "      <td>0.776667</td>\n",
              "      <td>0.365000</td>\n",
              "      <td>26.000000</td>\n",
              "      <td>41.666667</td>\n",
              "      <td>0.333333</td>\n",
              "      <td>111.333333</td>\n",
              "      <td>0.436667</td>\n",
              "      <td>0.789667</td>\n",
              "      <td>0.385000</td>\n",
              "      <td>25.333333</td>\n",
              "      <td>47.000000</td>\n",
              "      <td>2019</td>\n",
              "      <td>1</td>\n",
              "    </tr>\n",
              "  </tbody>\n",
              "</table>\n",
              "</div>"
            ],
            "text/plain": [
              "        GAME_ID  G_home  W_home  ...  REB_away_3g  SEASON  HOME_TEAM_WINS\n",
              "7240   21200349      22      10  ...    42.333333    2012               1\n",
              "17063  12000031       2       0  ...    45.666667    2020               0\n",
              "2547   20800915      59      37  ...    42.000000    2008               1\n",
              "3019   20900072       4       2  ...    44.333333    2009               1\n",
              "17276  21900498      33      21  ...    47.000000    2019               1\n",
              "\n",
              "[5 rows x 41 columns]"
            ]
          },
          "metadata": {
            "tags": []
          },
          "execution_count": 5
        }
      ]
    },
    {
      "cell_type": "code",
      "metadata": {
        "colab": {
          "base_uri": "https://localhost:8080/",
          "height": 296
        },
        "id": "ZZbNKwyYHcmh",
        "outputId": "93e11176-1f11-4e08-da6c-fa19ac5cf03b"
      },
      "source": [
        "TARGET=\"HOME_TEAM_WINS\"\n",
        "input_size=len(dataframe.columns)-1\n",
        "classes  = [\"NO\", \"YES\"]\n",
        "output_size=len(classes)\n",
        "print(input_size,  output_size,  classes)\n",
        "\n",
        "target = dataframe[TARGET].value_counts()\n",
        "target.plot(kind=\"bar\")"
      ],
      "execution_count": 8,
      "outputs": [
        {
          "output_type": "stream",
          "text": [
            "40 2 ['NO', 'YES']\n"
          ],
          "name": "stdout"
        },
        {
          "output_type": "execute_result",
          "data": {
            "text/plain": [
              "<matplotlib.axes._subplots.AxesSubplot at 0x7f3c9d170310>"
            ]
          },
          "metadata": {
            "tags": []
          },
          "execution_count": 8
        },
        {
          "output_type": "display_data",
          "data": {
            "image/png": "[encoded data removed]",
            "text/plain": [
              "<Figure size 432x288 with 1 Axes>"
            ]
          },
          "metadata": {
            "tags": [],
            "needs_background": "light"
          }
        }
      ]
    },
    {
      "cell_type": "code",
      "metadata": {
        "colab": {
          "base_uri": "https://localhost:8080/"
        },
        "id": "OEQsVi46HvaL",
        "outputId": "890889cb-3a3c-4551-ff25-1165d9a2481e"
      },
      "source": [
        "# Remove rows with nan values\n",
        "initial_len =  len(dataframe)\n",
        "dataframe.dropna(inplace=True)\n",
        "print(f\"{len(dataframe)}/{initial_len}\")\n",
        "\n",
        "dataframe.info()"
      ],
      "execution_count": 9,
      "outputs": [
        {
          "output_type": "stream",
          "text": [
            "14330/15345\n",
            "<class 'pandas.core.frame.DataFrame'>\n",
            "Int64Index: 14330 entries, 0 to 17920\n",
            "Data columns (total 41 columns):\n",
            " #   Column                 Non-Null Count  Dtype  \n",
            "---  ------                 --------------  -----  \n",
            " 0   GAME_ID                14330 non-null  int64  \n",
            " 1   G_home                 14330 non-null  int64  \n",
            " 2   W_home                 14330 non-null  int64  \n",
            " 3   L_home                 14330 non-null  int64  \n",
            " 4   W_PCT_home             14330 non-null  float64\n",
            " 5   HOME_RECORD_home       14330 non-null  float64\n",
            " 6   ROAD_RECORD_home       14330 non-null  float64\n",
            " 7   G_prev_home            14330 non-null  int64  \n",
            " 8   W_prev_home            14330 non-null  int64  \n",
            " 9   L_prev_home            14330 non-null  int64  \n",
            " 10  W_PCT_prev_home        14330 non-null  float64\n",
            " 11  HOME_RECORD_prev_home  14330 non-null  float64\n",
            " 12  ROAD_RECORD_prev_home  14330 non-null  float64\n",
            " 13  G_away                 14330 non-null  int64  \n",
            " 14  W_away                 14330 non-null  int64  \n",
            " 15  L_away                 14330 non-null  int64  \n",
            " 16  W_PCT_away             14330 non-null  float64\n",
            " 17  HOME_RECORD_away       14330 non-null  float64\n",
            " 18  ROAD_RECORD_away       14330 non-null  float64\n",
            " 19  G_prev_away            14330 non-null  int64  \n",
            " 20  W_prev_away            14330 non-null  int64  \n",
            " 21  L_prev_away            14330 non-null  int64  \n",
            " 22  W_PCT_prev_away        14330 non-null  float64\n",
            " 23  HOME_RECORD_prev_away  14330 non-null  float64\n",
            " 24  ROAD_RECORD_prev_away  14330 non-null  float64\n",
            " 25  WIN_PRCT_home_3g       14330 non-null  float64\n",
            " 26  PTS_home_3g            14330 non-null  float64\n",
            " 27  FG_PCT_home_3g         14330 non-null  float64\n",
            " 28  FT_PCT_home_3g         14330 non-null  float64\n",
            " 29  FG3_PCT_home_3g        14330 non-null  float64\n",
            " 30  AST_home_3g            14330 non-null  float64\n",
            " 31  REB_home_3g            14330 non-null  float64\n",
            " 32  WIN_PRCT_away_3g       14330 non-null  float64\n",
            " 33  PTS_away_3g            14330 non-null  float64\n",
            " 34  FG_PCT_away_3g         14330 non-null  float64\n",
            " 35  FT_PCT_away_3g         14330 non-null  float64\n",
            " 36  FG3_PCT_away_3g        14330 non-null  float64\n",
            " 37  AST_away_3g            14330 non-null  float64\n",
            " 38  REB_away_3g            14330 non-null  float64\n",
            " 39  SEASON                 14330 non-null  int64  \n",
            " 40  HOME_TEAM_WINS         14330 non-null  int64  \n",
            "dtypes: float64(26), int64(15)\n",
            "memory usage: 4.6 MB\n"
          ],
          "name": "stdout"
        }
      ]
    },
    {
      "cell_type": "code",
      "metadata": {
        "colab": {
          "base_uri": "https://localhost:8080/",
          "height": 296
        },
        "id": "qjNjDl6fHkxi",
        "outputId": "64c97133-122f-49ce-9570-2620c6ddfb30"
      },
      "source": [
        "# Balance data\n",
        "\n",
        "min_count = min(target.values)\n",
        "max_count  = max(target.values)\n",
        "remove_n = int((max_count -min_count) * 0.8)\n",
        "temp = dataframe[dataframe[TARGET]==1]\n",
        "drop_indices = np.random.choice(temp.index, remove_n, replace=False)\n",
        "\n",
        "dataframe = dataframe.drop(drop_indices)\n",
        "\n",
        "num_rows= len(dataframe)\n",
        "print(f\"{num_rows}/{initial_len}\")\n",
        "\n",
        "target = dataframe[TARGET].value_counts()\n",
        "target.plot(kind=\"bar\")"
      ],
      "execution_count": 10,
      "outputs": [
        {
          "output_type": "stream",
          "text": [
            "13814/15345\n"
          ],
          "name": "stdout"
        },
        {
          "output_type": "execute_result",
          "data": {
            "text/plain": [
              "<matplotlib.axes._subplots.AxesSubplot at 0x7f3c96055fd0>"
            ]
          },
          "metadata": {
            "tags": []
          },
          "execution_count": 10
        },
        {
          "output_type": "display_data",
          "data": {
            "image/png": "[encoded data removed]",
            "text/plain": [
              "<Figure size 432x288 with 1 Axes>"
            ]
          },
          "metadata": {
            "tags": [],
            "needs_background": "light"
          }
        }
      ]
    },
    {
      "cell_type": "code",
      "metadata": {
        "colab": {
          "base_uri": "https://localhost:8080/"
        },
        "id": "WXoCElomHnp3",
        "outputId": "ea494e83-ab85-4006-f2b1-033ef274c021"
      },
      "source": [
        "# Convert from Pandas dataframe to numpy arrays\n",
        "inputs = dataframe.drop(TARGET, axis=1).values\n",
        "targets = dataframe[[TARGET]].values\n",
        "targets =  np.reshape(targets, len(targets))\n",
        "\n",
        "inputs.shape, targets.shape"
      ],
      "execution_count": 42,
      "outputs": [
        {
          "output_type": "execute_result",
          "data": {
            "text/plain": [
              "((13814, 40), (13814,))"
            ]
          },
          "metadata": {
            "tags": []
          },
          "execution_count": 42
        }
      ]
    },
    {
      "cell_type": "code",
      "metadata": {
        "id": "mYgBH0IyH1Sf"
      },
      "source": [
        "# metrics and validations techniques\n",
        "from sklearn.model_selection import train_test_split\n",
        "from sklearn.model_selection import KFold\n",
        "\n",
        "from sklearn.pipeline import Pipeline\n",
        "from sklearn.metrics import classification_report, precision_recall_fscore_support\n",
        "\n",
        "\n",
        "# classifiers from sklearn example\n",
        "from sklearn.neural_network import MLPClassifier\n",
        "from sklearn.neighbors import KNeighborsClassifier\n",
        "from sklearn.svm import SVC\n",
        "from sklearn.gaussian_process import GaussianProcessClassifier\n",
        "from sklearn.gaussian_process.kernels import RBF\n",
        "from sklearn.tree import DecisionTreeClassifier\n",
        "from sklearn.ensemble import RandomForestClassifier, AdaBoostClassifier\n",
        "from sklearn.naive_bayes import GaussianNB\n",
        "from sklearn.discriminant_analysis import QuadraticDiscriminantAnalysis\n",
        "from sklearn.linear_model import SGDClassifier\n",
        "from sklearn.svm import LinearSVC\n",
        "from sklearn.naive_bayes import MultinomialNB\n",
        "from sklearn.ensemble import GradientBoostingClassifier\n",
        "from sklearn import metrics\n",
        "from sklearn.naive_bayes import BernoulliNB\n",
        "from sklearn.neighbors import NearestCentroid\n",
        "\n",
        "from time import time, gmtime\n"
      ],
      "execution_count": 73,
      "outputs": []
    },
    {
      "cell_type": "code",
      "metadata": {
        "id": "IuNj6waeIAib"
      },
      "source": [
        "IMAGES_PATH=  \"./\"\n",
        "def benchmark_report(clf, x_train, y_train, x_test, y_test, target_names=None, features_name=None):\n",
        "    t0 = time()\n",
        "    clf.fit(x_train, y_train)\n",
        "    train_time = time() - t0\n",
        "\n",
        "    t0 = time()\n",
        "    pred = clf.predict(x_test)\n",
        "    pred_proba = clf.predict_proba(x_test)\n",
        "    test_time = time() - t0\n",
        "\n",
        "    score = metrics.accuracy_score(y_test, pred)\n",
        "    rept = precision_recall_fscore_support(y_test, pred, average='weighted')\n",
        "\n",
        "    return (rept[0], rept[1], rept[2], train_time, test_time), pred_proba     # is returning  presicion, recall, f1 score, and training and test times\n",
        "\n",
        "def plot_classifier_comparison(clfs_dict, experiment_name=None):\n",
        "    clf_names = clfs_dict.keys()\n",
        "    indices = np.arange(len(clf_names))\n",
        "    pres, rec, f1, train_time, test_time = [\n",
        "        [clfs_dict[k]['results']['mean'][i] for k in clf_names] for i in range(5)]\n",
        "\n",
        "    train_time = np.array(train_time) / np.max(train_time)\n",
        "    test_time = np.array(test_time) / np.max(test_time)\n",
        "    \n",
        "    comp_figure = plt.figure(figsize=(12, 8))\n",
        "    plt.subplot(1, 2, 1)\n",
        "    plt.grid()\n",
        "\n",
        "    plt.title(\"Classifiers Comparison Metrics\")\n",
        "    plt.barh(indices, pres, .1, label=\"precision\", color='blue')\n",
        "    plt.barh(indices+.1, rec, .1, label=\"recall\", color='red')\n",
        "    plt.barh(indices+.2, f1, .1, label=\"f1\", color='green')\n",
        "\n",
        "    plt.yticks(())\n",
        "    plt.legend(loc='best')\n",
        "    plt.subplots_adjust(left=.25)\n",
        "    plt.subplots_adjust(top=.95)\n",
        "    plt.subplots_adjust(bottom=.05)\n",
        "    for i, c in zip(indices, clf_names):\n",
        "        plt.text(-.3, i, c)\n",
        "\n",
        "    plt.subplot(1, 2, 2)\n",
        "    plt.grid()\n",
        "\n",
        "    plt.title(\"Classifiers Comparison Times\")\n",
        "\n",
        "    plt.barh(indices+.3, train_time, .1, label=\"training time\",color='orange')\n",
        "    plt.barh(indices+.4, test_time, .1, label=\"test time (batch)\", color='darkorange')\n",
        "    \n",
        "    plt.yticks(())\n",
        "    plt.legend(loc='best')\n",
        "    plt.subplots_adjust(left=.25)\n",
        "    plt.subplots_adjust(top=.95)\n",
        "    plt.subplots_adjust(bottom=.05)\n",
        "\n",
        "    plt.tight_layout()\n",
        "    a = gmtime(time())\n",
        "    date = str.format('{0}{1}{2}', a.tm_year, a.tm_mon, a.tm_mday)\n",
        "    name = str.format('{0}{1} {2}.png',IMAGES_PATH, date, experiment_name if experiment_name else 'classifier_comparison')\n",
        "    plt.savefig(name)\n",
        "    plt.show()\n",
        "\n",
        "def resume_report(kfold_metrics, verbose=True):\n",
        "    means = np.mean(kfold_metrics, axis=0)\n",
        "    stds = np.std(kfold_metrics, axis=0)\n",
        "    resume = {'mean': means, 'std': stds }\n",
        "    if verbose:\n",
        "        print('_' * 80)\n",
        "        print(\"train time: %0.3fs , %0.3fs\" % (means[3], stds[3]) )\n",
        "        print(\"test time:  %0.3fs, %0.3fs\" % (means[4], stds[4]))\n",
        "        print(\"precision:   %0.3f, %0.3fs\" % (means[0], stds[0]))\n",
        "        print(\"recall:   %0.3f, %0.3fs\" % (means[1], stds[1]))\n",
        "        print(\"fbeta_score:   %0.3f, %0.3fs\" % (means[2], stds[2]))\n",
        "    return resume"
      ],
      "execution_count": 71,
      "outputs": []
    },
    {
      "cell_type": "code",
      "metadata": {
        "id": "TPoenR7SKMgR"
      },
      "source": [
        "def classifier_comparison(clf_dict, X=None, Y=None, k_fold_splits=3, plot=True, verbose=True, tag=None):\n",
        "    '''\n",
        "    \n",
        "    '''\n",
        "    kf = KFold(n_splits=k_fold_splits, shuffle=True, random_state=42)\n",
        "\n",
        "    for i, name in enumerate(clf_dict.keys()):\n",
        "        clf = clf_dict[name]['f']\n",
        "        if verbose:\n",
        "            print('=' * 80)\n",
        "            print(name)\n",
        "            print(clf)\n",
        "            print('_' * 80)\n",
        "\n",
        "        clf_dict[name]['results'] = []\n",
        "        clf_dict[name]['predicts_proba'] = []\n",
        "        \n",
        "        for i, (train, test) in enumerate(kf.split(X, Y)):\n",
        "\n",
        "            X_train = X[train]\n",
        "            y_train = Y[train]\n",
        "            X_test =  X[test]\n",
        "            y_test = Y[test]\n",
        "\n",
        "            if verbose:\n",
        "                print(str.format(f'---> kfold {i}: train_samples: {X_train.shape[0]}, test_samples:{X_test.shape[0]},  n_features: {X_train.shape[1]}'))\n",
        "            \n",
        "            benchmark, predict_proba  = benchmark_report(clf, X_train, y_train, X_test, y_test)\n",
        "            \n",
        "            clf_dict[name]['results'].append(list(benchmark))\n",
        "            clf_dict[name]['predicts_proba'].append(predict_proba)\n",
        "\n",
        "        clf_dict[name]['results'] = resume_report(clf_dict[name]['results'], verbose=verbose)\n",
        "    return  clf_dict\n",
        "\n",
        "    "
      ],
      "execution_count": 66,
      "outputs": []
    },
    {
      "cell_type": "code",
      "metadata": {
        "id": "1OQFRmT3LHJH"
      },
      "source": [
        "clfs = {\n",
        "    \"Naive Bayes - Bernoulli\":{\n",
        "         'f' : BernoulliNB()},\n",
        "    \n",
        "    \"Nearest Neighbors\" :{\n",
        "         'f' : KNeighborsClassifier(3)} ,\n",
        "    \n",
        "    \"Decision Tree\":{\n",
        "         'f' : DecisionTreeClassifier(max_depth=5)},\n",
        "    \n",
        "    \"Random Forest\":{ \n",
        "         'f' : RandomForestClassifier(max_depth=5, n_estimators=10, max_features=1)},\n",
        "    \n",
        "    \"Neural Net\":{ \n",
        "         'f' :MLPClassifier(alpha=1) },\n",
        "    \n",
        "    \"AdaBoost\":{ \n",
        "         'f' :  AdaBoostClassifier()},\n",
        "    \n",
        "    \"Stratified Gradient Descent - log\":{ \n",
        "         'f' : SGDClassifier(loss='log', penalty='elasticnet')},\n",
        "\n",
        "    \"Stratified Gradient Descent - modified_huber\":{ \n",
        "         'f' : SGDClassifier(loss='modified_huber', penalty='l1')},\n",
        "}"
      ],
      "execution_count": 67,
      "outputs": []
    },
    {
      "cell_type": "code",
      "metadata": {
        "colab": {
          "base_uri": "https://localhost:8080/"
        },
        "id": "IqS_HXzYMUKs",
        "outputId": "87ed0c9f-3cc7-40ff-def5-52d5e6514959"
      },
      "source": [
        "resume_dict=  classifier_comparison(clfs, X=inputs, Y=targets, verbose=True, tag=\"Test1\")\n"
      ],
      "execution_count": 68,
      "outputs": [
        {
          "output_type": "stream",
          "text": [
            "================================================================================\n",
            "Naive Bayes - Bernoulli\n",
            "BernoulliNB(alpha=1.0, binarize=0.0, class_prior=None, fit_prior=True)\n",
            "________________________________________________________________________________\n",
            "---> kfold 0: train_samples: 9209, test_samples:4605,  n_features: 40\n",
            "---> kfold 1: train_samples: 9209, test_samples:4605,  n_features: 40\n",
            "---> kfold 2: train_samples: 9210, test_samples:4604,  n_features: 40\n",
            "________________________________________________________________________________\n",
            "train time: 0.011s , 0.001s\n",
            "test time:  0.005s, 0.000s\n",
            "precision:   0.575, 0.006s\n",
            "recall:   0.550, 0.002s\n",
            "fbeta_score:   0.502, 0.002s\n",
            "================================================================================\n",
            "Nearest Neighbors\n",
            "KNeighborsClassifier(algorithm='auto', leaf_size=30, metric='minkowski',\n",
            "                     metric_params=None, n_jobs=None, n_neighbors=3, p=2,\n",
            "                     weights='uniform')\n",
            "________________________________________________________________________________\n",
            "---> kfold 0: train_samples: 9209, test_samples:4605,  n_features: 40\n",
            "---> kfold 1: train_samples: 9209, test_samples:4605,  n_features: 40\n",
            "---> kfold 2: train_samples: 9210, test_samples:4604,  n_features: 40\n",
            "________________________________________________________________________________\n",
            "train time: 0.112s , 0.022s\n",
            "test time:  0.255s, 0.004s\n",
            "precision:   0.562, 0.002s\n",
            "recall:   0.562, 0.002s\n",
            "fbeta_score:   0.562, 0.002s\n",
            "================================================================================\n",
            "Decision Tree\n",
            "DecisionTreeClassifier(ccp_alpha=0.0, class_weight=None, criterion='gini',\n",
            "                       max_depth=5, max_features=None, max_leaf_nodes=None,\n",
            "                       min_impurity_decrease=0.0, min_impurity_split=None,\n",
            "                       min_samples_leaf=1, min_samples_split=2,\n",
            "                       min_weight_fraction_leaf=0.0, presort='deprecated',\n",
            "                       random_state=None, splitter='best')\n",
            "________________________________________________________________________________\n",
            "---> kfold 0: train_samples: 9209, test_samples:4605,  n_features: 40\n",
            "---> kfold 1: train_samples: 9209, test_samples:4605,  n_features: 40\n",
            "---> kfold 2: train_samples: 9210, test_samples:4604,  n_features: 40\n",
            "________________________________________________________________________________\n",
            "train time: 0.103s , 0.003s\n",
            "test time:  0.002s, 0.000s\n",
            "precision:   0.633, 0.005s\n",
            "recall:   0.632, 0.006s\n",
            "fbeta_score:   0.631, 0.006s\n",
            "================================================================================\n",
            "Random Forest\n",
            "RandomForestClassifier(bootstrap=True, ccp_alpha=0.0, class_weight=None,\n",
            "                       criterion='gini', max_depth=5, max_features=1,\n",
            "                       max_leaf_nodes=None, max_samples=None,\n",
            "                       min_impurity_decrease=0.0, min_impurity_split=None,\n",
            "                       min_samples_leaf=1, min_samples_split=2,\n",
            "                       min_weight_fraction_leaf=0.0, n_estimators=10,\n",
            "                       n_jobs=None, oob_score=False, random_state=None,\n",
            "                       verbose=0, warm_start=False)\n",
            "________________________________________________________________________________\n",
            "---> kfold 0: train_samples: 9209, test_samples:4605,  n_features: 40\n",
            "---> kfold 1: train_samples: 9209, test_samples:4605,  n_features: 40\n",
            "---> kfold 2: train_samples: 9210, test_samples:4604,  n_features: 40\n",
            "________________________________________________________________________________\n",
            "train time: 0.044s , 0.001s\n",
            "test time:  0.010s, 0.000s\n",
            "precision:   0.637, 0.008s\n",
            "recall:   0.636, 0.009s\n",
            "fbeta_score:   0.635, 0.009s\n",
            "================================================================================\n",
            "Neural Net\n",
            "MLPClassifier(activation='relu', alpha=1, batch_size='auto', beta_1=0.9,\n",
            "              beta_2=0.999, early_stopping=False, epsilon=1e-08,\n",
            "              hidden_layer_sizes=(100,), learning_rate='constant',\n",
            "              learning_rate_init=0.001, max_fun=15000, max_iter=200,\n",
            "              momentum=0.9, n_iter_no_change=10, nesterovs_momentum=True,\n",
            "              power_t=0.5, random_state=None, shuffle=True, solver='adam',\n",
            "              tol=0.0001, validation_fraction=0.1, verbose=False,\n",
            "              warm_start=False)\n",
            "________________________________________________________________________________\n",
            "---> kfold 0: train_samples: 9209, test_samples:4605,  n_features: 40\n"
          ],
          "name": "stdout"
        },
        {
          "output_type": "stream",
          "text": [
            "/usr/local/lib/python3.7/dist-packages/sklearn/neural_network/_multilayer_perceptron.py:571: ConvergenceWarning: Stochastic Optimizer: Maximum iterations (200) reached and the optimization hasn't converged yet.\n",
            "  % self.max_iter, ConvergenceWarning)\n",
            "/usr/local/lib/python3.7/dist-packages/sklearn/metrics/_classification.py:1272: UndefinedMetricWarning: Precision and F-score are ill-defined and being set to 0.0 in labels with no predicted samples. Use `zero_division` parameter to control this behavior.\n",
            "  _warn_prf(average, modifier, msg_start, len(result))\n"
          ],
          "name": "stderr"
        },
        {
          "output_type": "stream",
          "text": [
            "---> kfold 1: train_samples: 9209, test_samples:4605,  n_features: 40\n"
          ],
          "name": "stdout"
        },
        {
          "output_type": "stream",
          "text": [
            "/usr/local/lib/python3.7/dist-packages/sklearn/neural_network/_multilayer_perceptron.py:571: ConvergenceWarning: Stochastic Optimizer: Maximum iterations (200) reached and the optimization hasn't converged yet.\n",
            "  % self.max_iter, ConvergenceWarning)\n",
            "/usr/local/lib/python3.7/dist-packages/sklearn/metrics/_classification.py:1272: UndefinedMetricWarning: Precision and F-score are ill-defined and being set to 0.0 in labels with no predicted samples. Use `zero_division` parameter to control this behavior.\n",
            "  _warn_prf(average, modifier, msg_start, len(result))\n"
          ],
          "name": "stderr"
        },
        {
          "output_type": "stream",
          "text": [
            "---> kfold 2: train_samples: 9210, test_samples:4604,  n_features: 40\n"
          ],
          "name": "stdout"
        },
        {
          "output_type": "stream",
          "text": [
            "/usr/local/lib/python3.7/dist-packages/sklearn/neural_network/_multilayer_perceptron.py:571: ConvergenceWarning: Stochastic Optimizer: Maximum iterations (200) reached and the optimization hasn't converged yet.\n",
            "  % self.max_iter, ConvergenceWarning)\n",
            "/usr/local/lib/python3.7/dist-packages/sklearn/metrics/_classification.py:1272: UndefinedMetricWarning: Precision and F-score are ill-defined and being set to 0.0 in labels with no predicted samples. Use `zero_division` parameter to control this behavior.\n",
            "  _warn_prf(average, modifier, msg_start, len(result))\n"
          ],
          "name": "stderr"
        },
        {
          "output_type": "stream",
          "text": [
            "________________________________________________________________________________\n",
            "train time: 11.270s , 0.088s\n",
            "test time:  0.010s, 0.002s\n",
            "precision:   0.253, 0.005s\n",
            "recall:   0.503, 0.005s\n",
            "fbeta_score:   0.336, 0.005s\n",
            "================================================================================\n",
            "AdaBoost\n",
            "AdaBoostClassifier(algorithm='SAMME.R', base_estimator=None, learning_rate=1.0,\n",
            "                   n_estimators=50, random_state=None)\n",
            "________________________________________________________________________________\n",
            "---> kfold 0: train_samples: 9209, test_samples:4605,  n_features: 40\n",
            "---> kfold 1: train_samples: 9209, test_samples:4605,  n_features: 40\n",
            "---> kfold 2: train_samples: 9210, test_samples:4604,  n_features: 40\n",
            "________________________________________________________________________________\n",
            "train time: 1.235s , 0.014s\n",
            "test time:  0.108s, 0.002s\n",
            "precision:   0.643, 0.008s\n",
            "recall:   0.643, 0.008s\n",
            "fbeta_score:   0.643, 0.008s\n",
            "================================================================================\n",
            "Stratified Gradient Descent - log\n",
            "SGDClassifier(alpha=0.0001, average=False, class_weight=None,\n",
            "              early_stopping=False, epsilon=0.1, eta0=0.0, fit_intercept=True,\n",
            "              l1_ratio=0.15, learning_rate='optimal', loss='log', max_iter=1000,\n",
            "              n_iter_no_change=5, n_jobs=None, penalty='elasticnet',\n",
            "              power_t=0.5, random_state=None, shuffle=True, tol=0.001,\n",
            "              validation_fraction=0.1, verbose=0, warm_start=False)\n",
            "________________________________________________________________________________\n",
            "---> kfold 0: train_samples: 9209, test_samples:4605,  n_features: 40\n"
          ],
          "name": "stdout"
        },
        {
          "output_type": "stream",
          "text": [
            "/usr/local/lib/python3.7/dist-packages/sklearn/metrics/_classification.py:1272: UndefinedMetricWarning: Precision and F-score are ill-defined and being set to 0.0 in labels with no predicted samples. Use `zero_division` parameter to control this behavior.\n",
            "  _warn_prf(average, modifier, msg_start, len(result))\n"
          ],
          "name": "stderr"
        },
        {
          "output_type": "stream",
          "text": [
            "---> kfold 1: train_samples: 9209, test_samples:4605,  n_features: 40\n"
          ],
          "name": "stdout"
        },
        {
          "output_type": "stream",
          "text": [
            "/usr/local/lib/python3.7/dist-packages/sklearn/metrics/_classification.py:1272: UndefinedMetricWarning: Precision and F-score are ill-defined and being set to 0.0 in labels with no predicted samples. Use `zero_division` parameter to control this behavior.\n",
            "  _warn_prf(average, modifier, msg_start, len(result))\n"
          ],
          "name": "stderr"
        },
        {
          "output_type": "stream",
          "text": [
            "---> kfold 2: train_samples: 9210, test_samples:4604,  n_features: 40\n"
          ],
          "name": "stdout"
        },
        {
          "output_type": "stream",
          "text": [
            "/usr/local/lib/python3.7/dist-packages/sklearn/metrics/_classification.py:1272: UndefinedMetricWarning: Precision and F-score are ill-defined and being set to 0.0 in labels with no predicted samples. Use `zero_division` parameter to control this behavior.\n",
            "  _warn_prf(average, modifier, msg_start, len(result))\n"
          ],
          "name": "stderr"
        },
        {
          "output_type": "stream",
          "text": [
            "________________________________________________________________________________\n",
            "train time: 0.666s , 0.059s\n",
            "test time:  0.001s, 0.000s\n",
            "precision:   0.253, 0.005s\n",
            "recall:   0.503, 0.005s\n",
            "fbeta_score:   0.336, 0.005s\n",
            "================================================================================\n",
            "Stratified Gradient Descent - modified_huber\n",
            "SGDClassifier(alpha=0.0001, average=False, class_weight=None,\n",
            "              early_stopping=False, epsilon=0.1, eta0=0.0, fit_intercept=True,\n",
            "              l1_ratio=0.15, learning_rate='optimal', loss='modified_huber',\n",
            "              max_iter=1000, n_iter_no_change=5, n_jobs=None, penalty='l1',\n",
            "              power_t=0.5, random_state=None, shuffle=True, tol=0.001,\n",
            "              validation_fraction=0.1, verbose=0, warm_start=False)\n",
            "________________________________________________________________________________\n",
            "---> kfold 0: train_samples: 9209, test_samples:4605,  n_features: 40\n"
          ],
          "name": "stdout"
        },
        {
          "output_type": "stream",
          "text": [
            "/usr/local/lib/python3.7/dist-packages/sklearn/metrics/_classification.py:1272: UndefinedMetricWarning: Precision and F-score are ill-defined and being set to 0.0 in labels with no predicted samples. Use `zero_division` parameter to control this behavior.\n",
            "  _warn_prf(average, modifier, msg_start, len(result))\n"
          ],
          "name": "stderr"
        },
        {
          "output_type": "stream",
          "text": [
            "---> kfold 1: train_samples: 9209, test_samples:4605,  n_features: 40\n"
          ],
          "name": "stdout"
        },
        {
          "output_type": "stream",
          "text": [
            "/usr/local/lib/python3.7/dist-packages/sklearn/metrics/_classification.py:1272: UndefinedMetricWarning: Precision and F-score are ill-defined and being set to 0.0 in labels with no predicted samples. Use `zero_division` parameter to control this behavior.\n",
            "  _warn_prf(average, modifier, msg_start, len(result))\n"
          ],
          "name": "stderr"
        },
        {
          "output_type": "stream",
          "text": [
            "---> kfold 2: train_samples: 9210, test_samples:4604,  n_features: 40\n",
            "________________________________________________________________________________\n",
            "train time: 0.703s , 0.032s\n",
            "test time:  0.002s, 0.000s\n",
            "precision:   0.250, 0.005s\n",
            "recall:   0.500, 0.005s\n",
            "fbeta_score:   0.333, 0.006s\n"
          ],
          "name": "stdout"
        },
        {
          "output_type": "stream",
          "text": [
            "/usr/local/lib/python3.7/dist-packages/sklearn/metrics/_classification.py:1272: UndefinedMetricWarning: Precision and F-score are ill-defined and being set to 0.0 in labels with no predicted samples. Use `zero_division` parameter to control this behavior.\n",
            "  _warn_prf(average, modifier, msg_start, len(result))\n"
          ],
          "name": "stderr"
        }
      ]
    },
    {
      "cell_type": "code",
      "metadata": {
        "colab": {
          "base_uri": "https://localhost:8080/"
        },
        "id": "RSj7PO8xQrPe",
        "outputId": "bb1929aa-6bb9-45eb-964d-66439f5e4d98"
      },
      "source": [
        "resume_dict[\"AdaBoost\"]"
      ],
      "execution_count": 70,
      "outputs": [
        {
          "output_type": "execute_result",
          "data": {
            "text/plain": [
              "{'f': AdaBoostClassifier(algorithm='SAMME.R', base_estimator=None, learning_rate=1.0,\n",
              "                    n_estimators=50, random_state=None),\n",
              " 'predicts_proba': [array([[0.50403635, 0.49596365],\n",
              "         [0.49774765, 0.50225235],\n",
              "         [0.49844997, 0.50155003],\n",
              "         ...,\n",
              "         [0.5081214 , 0.4918786 ],\n",
              "         [0.5073601 , 0.4926399 ],\n",
              "         [0.51055526, 0.48944474]]), array([[0.50174847, 0.49825153],\n",
              "         [0.50112946, 0.49887054],\n",
              "         [0.49570547, 0.50429453],\n",
              "         ...,\n",
              "         [0.497373  , 0.502627  ],\n",
              "         [0.49798304, 0.50201696],\n",
              "         [0.49963645, 0.50036355]]), array([[0.49572468, 0.50427532],\n",
              "         [0.49591038, 0.50408962],\n",
              "         [0.49028878, 0.50971122],\n",
              "         ...,\n",
              "         [0.49925816, 0.50074184],\n",
              "         [0.50121896, 0.49878104],\n",
              "         [0.50277903, 0.49722097]])],\n",
              " 'results': {'mean': array([0.64348393, 0.64347748, 0.64340837, 1.23473771, 0.10762183]),\n",
              "  'std': array([0.00775279, 0.00776458, 0.0077582 , 0.0137303 , 0.00231517])}}"
            ]
          },
          "metadata": {
            "tags": []
          },
          "execution_count": 70
        }
      ]
    },
    {
      "cell_type": "code",
      "metadata": {
        "colab": {
          "base_uri": "https://localhost:8080/",
          "height": 585
        },
        "id": "CJW3Cv2UQl3h",
        "outputId": "ee1f958f-2d9a-4bca-8343-fce89f2de4b2"
      },
      "source": [
        "plot_classifier_comparison(resume_dict, experiment_name=\"Test1\")"
      ],
      "execution_count": 74,
      "outputs": [
        {
          "output_type": "display_data",
          "data": {
            "image/png": "[encoded data removed]",
            "text/plain": [
              "<Figure size 864x576 with 2 Axes>"
            ]
          },
          "metadata": {
            "tags": [],
            "needs_background": "light"
          }
        }
      ]
    },
    {
      "cell_type": "code",
      "metadata": {
        "id": "-C2o8AICShic"
      },
      "source": [
        "val_percent = .15 \n",
        "val_size = int(len(inputs) * val_percent)\n",
        "train_size = num_rows - val_size"
      ],
      "execution_count": 77,
      "outputs": []
    },
    {
      "cell_type": "code",
      "metadata": {
        "colab": {
          "base_uri": "https://localhost:8080/"
        },
        "id": "PvFS7q-9N9Ii",
        "outputId": "4cede149-8602-4afb-8e70-0008123dcca4"
      },
      "source": [
        "clf = clfs['Decision Tree']['f']\n",
        "x_train = inputs[0:train_size]\n",
        "y_train = targets[0:train_size]\n",
        "\n",
        "x_test = inputs[train_size:len(inputs)]\n",
        "y_test = targets[train_size:len(inputs)]\n",
        "\n",
        "benchmark, predict_proba = benchmark_report(clf, x_train, y_train, x_test, y_test)\n",
        "resume_report([benchmark], verbose=True)"
      ],
      "execution_count": 81,
      "outputs": [
        {
          "output_type": "stream",
          "text": [
            "________________________________________________________________________________\n",
            "train time: 0.128s , 0.000s\n",
            "test time:  0.001s, 0.000s\n",
            "precision:   0.621, 0.000s\n",
            "recall:   0.621, 0.000s\n",
            "fbeta_score:   0.621, 0.000s\n"
          ],
          "name": "stdout"
        },
        {
          "output_type": "execute_result",
          "data": {
            "text/plain": [
              "{'mean': array([0.62099254, 0.621139  , 0.62104132, 0.12783098, 0.0011282 ]),\n",
              " 'std': array([0., 0., 0., 0., 0.])}"
            ]
          },
          "metadata": {
            "tags": []
          },
          "execution_count": 81
        }
      ]
    },
    {
      "cell_type": "code",
      "metadata": {
        "id": "ZwXg8_bvOYYx"
      },
      "source": [
        "def predict_single(input, label):\n",
        "  prediction =  clf.predict([input])\n",
        "  print(f\"label: {label}\")\n",
        "  print(f\"prediction: {prediction}\")"
      ],
      "execution_count": 84,
      "outputs": []
    },
    {
      "cell_type": "code",
      "metadata": {
        "colab": {
          "base_uri": "https://localhost:8080/"
        },
        "id": "zbBY-LNuT0D9",
        "outputId": "4873a6f1-3ee9-479f-98a3-cf6118446c7d"
      },
      "source": [
        "index=100\n",
        "target = targets[index]\n",
        "input = inputs[index]\n",
        "predict_single(input,target)"
      ],
      "execution_count": 2,
      "outputs": [
        {
          "output_type": "error",
          "ename": "NameError",
          "evalue": "name 'targets' is not defined",
          "traceback": [
            "\u001b[0;31m---------------------------------------------------------------------------\u001b[0m",
            "\u001b[0;31mNameError\u001b[0m                                 Traceback (most recent call last)",
            "\u001b[0;32m<ipython-input-2-ce663f9f60ba>\u001b[0m in \u001b[0;36m<module>\u001b[0;34m\u001b[0m\n\u001b[1;32m      1\u001b[0m \u001b[0mindex\u001b[0m\u001b[0;34m=\u001b[0m\u001b[0;36m100\u001b[0m\u001b[0;34m\u001b[0m\u001b[0;34m\u001b[0m\u001b[0m\n\u001b[0;32m----> 2\u001b[0;31m \u001b[0mtarget\u001b[0m \u001b[0;34m=\u001b[0m \u001b[0mtargets\u001b[0m\u001b[0;34m[\u001b[0m\u001b[0mindex\u001b[0m\u001b[0;34m]\u001b[0m\u001b[0;34m\u001b[0m\u001b[0;34m\u001b[0m\u001b[0m\n\u001b[0m\u001b[1;32m      3\u001b[0m \u001b[0minput\u001b[0m \u001b[0;34m=\u001b[0m \u001b[0minputs\u001b[0m\u001b[0;34m[\u001b[0m\u001b[0mindex\u001b[0m\u001b[0;34m]\u001b[0m\u001b[0;34m\u001b[0m\u001b[0;34m\u001b[0m\u001b[0m\n\u001b[1;32m      4\u001b[0m \u001b[0mpredict_single\u001b[0m\u001b[0;34m(\u001b[0m\u001b[0minput\u001b[0m\u001b[0;34m,\u001b[0m\u001b[0mtarget\u001b[0m\u001b[0;34m)\u001b[0m\u001b[0;34m\u001b[0m\u001b[0;34m\u001b[0m\u001b[0m\n",
            "\u001b[0;31mNameError\u001b[0m: name 'targets' is not defined"
          ]
        }
      ]
    },
    {
      "cell_type": "code",
      "metadata": {
        "id": "3Xy9ISUMUZX3"
      },
      "source": [
        "import joblib\n",
        "# now you can save it to a file\n",
        "joblib.dump(clf, 'nba_sklearn_model.pkl') \n",
        "\n",
        "# and later you can load it\n",
        "clf = joblib.load('nba_sklearn_model.pkl')"
      ],
      "execution_count": 96,
      "outputs": []
    },
    {
      "cell_type": "code",
      "execution_count": null,
      "metadata": {},
      "outputs": [],
      "source": []
    }
  ]
}